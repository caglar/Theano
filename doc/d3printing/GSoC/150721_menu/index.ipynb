{
 "cells": [
  {
   "cell_type": "code",
   "execution_count": 1,
   "metadata": {
    "collapsed": false
   },
   "outputs": [
    {
     "name": "stdout",
     "output_type": "stream",
     "text": [
      "Couldn't import dot_parser, loading of dot files will not be possible.\n"
     ]
    }
   ],
   "source": [
    "import numpy\n",
    "import numpy.random as rng\n",
    "import theano\n",
    "import theano.tensor as T\n",
    "import theano.printing as pr\n",
    "import theano.d3printing as d3p\n",
    "from theano.d3printing.formatting import GraphFormatter\n",
    "from theano import ProfileMode\n",
    "\n",
    "from IPython.display import SVG"
   ]
  },
  {
   "cell_type": "code",
   "execution_count": 2,
   "metadata": {
    "collapsed": false
   },
   "outputs": [],
   "source": [
    "%load_ext autoreload\n",
    "%autoreload 2"
   ]
  },
  {
   "cell_type": "markdown",
   "metadata": {},
   "source": [
    "# Model "
   ]
  },
  {
   "cell_type": "code",
   "execution_count": 3,
   "metadata": {
    "collapsed": false
   },
   "outputs": [],
   "source": [
    "nsamples = 10000\n",
    "ninput = 100\n",
    "nhidden = 50\n",
    "noutput = 1\n",
    "\n",
    "def init_params(m, n):\n",
    "    W = np.random.normal(0, 1, (m, n)).astype(theano.config.floatX)\n",
    "    return theano.shared(W, borrow=True)\n",
    "\n",
    "W1 = init_params(ninput, nhidden)\n",
    "W2 = init_params(nhidden, noutput)\n",
    "X = T.dmatrix('X')\n",
    "\n",
    "H = T.nnet.sigmoid(T.dot(X, W1))\n",
    "Z = T.nnet.sigmoid(T.dot(H, W2))\n",
    "zm = T.mean(Z)\n",
    "\n",
    "predict_profiled = theano.function([X], [Z, zm], profile=True)\n",
    "data = rng.rand(nsamples, ninput)\n",
    "dZ, dzm = predict_profiled(data)\n",
    "\n",
    "predict_unprofiled = theano.function([X], [Z, zm], profile=False)"
   ]
  },
  {
   "cell_type": "markdown",
   "metadata": {},
   "source": [
    "# Timining information via debugpring "
   ]
  },
  {
   "cell_type": "code",
   "execution_count": 4,
   "metadata": {
    "collapsed": false
   },
   "outputs": [
    {
     "name": "stdout",
     "output_type": "stream",
     "text": [
      "\n",
      "Timing Info\n",
      "-----------\n",
      "--> <time> <% time> - <total time> <% total time>'\n",
      "\n",
      "<time>         computation time for this node\n",
      "<% time>       fraction of total computation time for this node\n",
      "<total time>   time for this node + total times for this node's ancestors\n",
      "<% total time> total time for this node over total computation time\n",
      "\n",
      "N.B.:\n",
      "* Times include the node time and the function overhead.\n",
      "* <total time> and <% total time> may over-count computation times\n",
      "  if inputs to a node share a common ancestor and should be viewed as a\n",
      "  loose upper bound. Their intended use is to help rule out potential nodes\n",
      "  to remove when optimizing a graph because their <total time> is very low.\n",
      "\n",
      "Elemwise{ScalarSigmoid}[(0, 0)] [@A] ''   9 --> 1.16e-04s  0.9% 1.21e-02s 95.4%\n",
      " |Dot22 [@B] ''   6 --> 9.38e-04s  7.4% 1.20e-02s 94.5%\n",
      "   |Elemwise{ScalarSigmoid}[(0, 0)] [@C] ''   4 --> 4.59e-03s 36.1% 1.11e-02s 87.1%\n",
      "   | |Dot22 [@D] ''   2 --> 6.48e-03s 51.0% 6.48e-03s 51.0%\n",
      "   |   |X [@E]\n",
      "   |   |<TensorType(float64, matrix)> [@F]\n",
      "   |<TensorType(float64, matrix)> [@G]\n",
      "\n",
      "Timing Info\n",
      "-----------\n",
      "--> <time> <% time> - <total time> <% total time>'\n",
      "\n",
      "<time>         computation time for this node\n",
      "<% time>       fraction of total computation time for this node\n",
      "<total time>   time for this node + total times for this node's ancestors\n",
      "<% total time> total time for this node over total computation time\n",
      "\n",
      "N.B.:\n",
      "* Times include the node time and the function overhead.\n",
      "* <total time> and <% total time> may over-count computation times\n",
      "  if inputs to a node share a common ancestor and should be viewed as a\n",
      "  loose upper bound. Their intended use is to help rule out potential nodes\n",
      "  to remove when optimizing a graph because their <total time> is very low.\n",
      "\n",
      "Elemwise{Composite{((i0 / i1) / i2)}}[(0, 0)] [@H] ''   11 --> 9.54e-07s  0.0% 1.22e-02s 95.8%\n",
      " |Sum{acc_dtype=float64} [@I] ''   10 --> 1.50e-05s  0.1% 1.21e-02s 95.5%\n",
      " | |Elemwise{ScalarSigmoid}[(0, 0)] [@A] ''   9 --> 1.16e-04s  0.9% 1.21e-02s 95.4%\n",
      " |Subtensor{int64} [@J] ''   8 --> 3.10e-06s  0.0% 1.48e-05s  0.1%\n",
      " | |Elemwise{Cast{float64}} [@K] ''   5 --> 3.81e-06s  0.0% 1.17e-05s  0.1%\n",
      " | | |MakeVector [@L] ''   3 --> 5.96e-06s  0.0% 7.87e-06s  0.1%\n",
      " | |   |Shape_i{0} [@M] ''   1 --> 9.54e-07s  0.0% 9.54e-07s  0.0%\n",
      " | |   | |X [@E]\n",
      " | |   |Shape_i{1} [@N] ''   0 --> 9.54e-07s  0.0% 9.54e-07s  0.0%\n",
      " | |     |<TensorType(float64, matrix)> [@G]\n",
      " | |Constant{0} [@O]\n",
      " |Subtensor{int64} [@P] ''   7 --> 9.54e-07s  0.0% 1.26e-05s  0.1%\n",
      "   |Elemwise{Cast{float64}} [@K] ''   5 --> 3.81e-06s  0.0% 1.17e-05s  0.1%\n",
      "   |Constant{1} [@Q]\n"
     ]
    }
   ],
   "source": [
    "pr.debugprint(predict_profiled)"
   ]
  },
  {
   "cell_type": "markdown",
   "metadata": {},
   "source": [
    "# Profiled graphed "
   ]
  },
  {
   "cell_type": "code",
   "execution_count": 7,
   "metadata": {
    "collapsed": false
   },
   "outputs": [
    {
     "name": "stdout",
     "output_type": "stream",
     "text": [
      "The output file is available at predict_profiled.html\n"
     ]
    }
   ],
   "source": [
    "d3p.d3print(predict_profiled, 'predict_profiled.html')"
   ]
  },
  {
   "cell_type": "markdown",
   "metadata": {},
   "source": [
    "[open](./predict_profiled.html) "
   ]
  },
  {
   "cell_type": "code",
   "execution_count": null,
   "metadata": {
    "collapsed": true
   },
   "outputs": [],
   "source": [
    "pr.pydot"
   ]
  },
  {
   "cell_type": "code",
   "execution_count": 13,
   "metadata": {
    "collapsed": false
   },
   "outputs": [
    {
     "name": "stdout",
     "output_type": "stream",
     "text": [
      "The output file is available at predict_profiled.svg\n"
     ]
    }
   ],
   "source": [
    "pr.pydotprint(predict_profiled, 'predict_profiled', format='svg')"
   ]
  },
  {
   "cell_type": "markdown",
   "metadata": {},
   "source": [
    "![predict_profiled.svg](predict_profiled.svg)"
   ]
  },
  {
   "cell_type": "markdown",
   "metadata": {},
   "source": [
    "# Unprofiled graph"
   ]
  },
  {
   "cell_type": "code",
   "execution_count": 14,
   "metadata": {
    "collapsed": false
   },
   "outputs": [
    {
     "name": "stdout",
     "output_type": "stream",
     "text": [
      "The output file is available at predict_unprofiled.html\n"
     ]
    }
   ],
   "source": [
    "d3p.d3print(predict_unprofiled, 'predict_unprofiled.html')"
   ]
  },
  {
   "cell_type": "markdown",
   "metadata": {},
   "source": [
    "[open](./predict_unprofiled.html) "
   ]
  }
 ],
 "metadata": {
  "kernelspec": {
   "display_name": "Python 2",
   "language": "python",
   "name": "python2"
  },
  "language_info": {
   "codemirror_mode": {
    "name": "ipython",
    "version": 2
   },
   "file_extension": ".py",
   "mimetype": "text/x-python",
   "name": "python",
   "nbconvert_exporter": "python",
   "pygments_lexer": "ipython2",
   "version": "2.7.10"
  }
 },
 "nbformat": 4,
 "nbformat_minor": 0
}
