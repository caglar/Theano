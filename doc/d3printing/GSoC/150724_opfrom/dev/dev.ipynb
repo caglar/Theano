{
 "cells": [
  {
   "cell_type": "code",
   "execution_count": 1,
   "metadata": {
    "collapsed": true
   },
   "outputs": [],
   "source": [
    "import numpy as np\n",
    "from IPython.display import SVG"
   ]
  },
  {
   "cell_type": "code",
   "execution_count": 2,
   "metadata": {
    "collapsed": false
   },
   "outputs": [],
   "source": [
    "%load_ext autoreload\n",
    "%autoreload 2"
   ]
  },
  {
   "cell_type": "code",
   "execution_count": 3,
   "metadata": {
    "collapsed": false
   },
   "outputs": [
    {
     "name": "stdout",
     "output_type": "stream",
     "text": [
      "Couldn't import dot_parser, loading of dot files will not be possible.\n"
     ]
    }
   ],
   "source": [
    "import theano as th\n",
    "import theano.tensor as tht\n",
    "import theano.printing as thp\n",
    "import theano.d3printing as d3p"
   ]
  },
  {
   "cell_type": "markdown",
   "metadata": {},
   "source": [
    "# Example 1"
   ]
  },
  {
   "cell_type": "code",
   "execution_count": 35,
   "metadata": {
    "collapsed": false
   },
   "outputs": [],
   "source": [
    "x, y, z = tht.scalars('xyz')\n",
    "e = x + y * z\n",
    "o = th.OpFromGraph([x, y, z], [e])\n",
    "e2 = o(x, y, z) + o(z, y, y)\n",
    "f = th.function([x, y, z], [e2])"
   ]
  },
  {
   "cell_type": "code",
   "execution_count": 36,
   "metadata": {
    "collapsed": true
   },
   "outputs": [],
   "source": [
    "topo = f.maker.fgraph.toposort()"
   ]
  },
  {
   "cell_type": "code",
   "execution_count": 38,
   "metadata": {
    "collapsed": false
   },
   "outputs": [],
   "source": [
    "of = topo[0]"
   ]
  },
  {
   "cell_type": "code",
   "execution_count": 46,
   "metadata": {
    "collapsed": false
   },
   "outputs": [],
   "source": [
    "fo = of.op.fn"
   ]
  },
  {
   "cell_type": "code",
   "execution_count": 47,
   "metadata": {
    "collapsed": false
   },
   "outputs": [],
   "source": [
    "gf = d3p.GraphFormatter()\n",
    "g = gf.to_pydot(fo)"
   ]
  },
  {
   "cell_type": "code",
   "execution_count": 48,
   "metadata": {
    "collapsed": false
   },
   "outputs": [
    {
     "data": {
      "image/svg+xml": [
       "<svg height=\"220pt\" viewBox=\"0.00 0.00 722.00 220.00\" width=\"722pt\" xmlns=\"http://www.w3.org/2000/svg\" xmlns:xlink=\"http://www.w3.org/1999/xlink\">\n",
       "<g class=\"graph\" id=\"graph0\" transform=\"scale(1 1) rotate(0) translate(4 216)\">\n",
       "<title>G</title>\n",
       "<polygon fill=\"white\" points=\"-4,4 -4,-216 718,-216 718,4 -4,4\" stroke=\"none\"/>\n",
       "<!-- _1 -->\n",
       "<g class=\"node\" id=\"node1\"><title>_1</title>\n",
       "<ellipse cx=\"349\" cy=\"-106\" fill=\"#ffaabb\" rx=\"155.005\" ry=\"18\" stroke=\"black\"/>\n",
       "<text font-family=\"Times,serif\" font-size=\"14.00\" text-anchor=\"middle\" x=\"349\" y=\"-102.3\">Elemwise{Composite{(i0 + (i1 * i2))}}</text>\n",
       "</g>\n",
       "<!-- _5 -->\n",
       "<g class=\"node\" id=\"node5\"><title>_5</title>\n",
       "<polygon fill=\"dodgerblue\" points=\"435,-36 263,-36 263,-0 435,-0 435,-36\" stroke=\"black\"/>\n",
       "<text font-family=\"Times,serif\" font-size=\"14.00\" text-anchor=\"middle\" x=\"349\" y=\"-14.3\">TensorType(float64, scalar)</text>\n",
       "</g>\n",
       "<!-- _1&#45;&gt;_5 -->\n",
       "<g class=\"edge\" id=\"edge4\"><title>_1-&gt;_5</title>\n",
       "<path d=\"M349,-87.5966C349,-75.7459 349,-59.8169 349,-46.2917\" fill=\"none\" stroke=\"black\"/>\n",
       "<polygon fill=\"black\" points=\"352.5,-46.084 349,-36.084 345.5,-46.084 352.5,-46.084\" stroke=\"black\"/>\n",
       "<text font-family=\"Times,serif\" font-size=\"14.00\" text-anchor=\"middle\" x=\"427\" y=\"-58.3\">TensorType(float64, scalar)</text>\n",
       "</g>\n",
       "<!-- _2 -->\n",
       "<g class=\"node\" id=\"node2\"><title>_2</title>\n",
       "<polygon fill=\"limegreen\" points=\"220.25,-212 -0.25,-212 -0.25,-176 220.25,-176 220.25,-212\" stroke=\"black\"/>\n",
       "<text font-family=\"Times,serif\" font-size=\"14.00\" text-anchor=\"middle\" x=\"110\" y=\"-190.3\">name=x TensorType(float64, scalar)</text>\n",
       "</g>\n",
       "<!-- _2&#45;&gt;_1 -->\n",
       "<g class=\"edge\" id=\"edge1\"><title>_2-&gt;_1</title>\n",
       "<path d=\"M128.186,-175.807C141.119,-164.521 159.428,-150.354 178,-142 197.086,-133.415 218.319,-126.915 239.152,-121.999\" fill=\"none\" stroke=\"black\"/>\n",
       "<polygon fill=\"black\" points=\"240.022,-125.391 249.01,-119.781 238.486,-118.562 240.022,-125.391\" stroke=\"black\"/>\n",
       "<text font-family=\"Times,serif\" font-size=\"14.00\" text-anchor=\"middle\" x=\"261.5\" y=\"-146.3\">0 TensorType(float64, scalar)</text>\n",
       "</g>\n",
       "<!-- _3 -->\n",
       "<g class=\"node\" id=\"node3\"><title>_3</title>\n",
       "<polygon fill=\"limegreen\" points=\"459.25,-212 238.75,-212 238.75,-176 459.25,-176 459.25,-212\" stroke=\"black\"/>\n",
       "<text font-family=\"Times,serif\" font-size=\"14.00\" text-anchor=\"middle\" x=\"349\" y=\"-190.3\">name=y TensorType(float64, scalar)</text>\n",
       "</g>\n",
       "<!-- _3&#45;&gt;_1 -->\n",
       "<g class=\"edge\" id=\"edge2\"><title>_3-&gt;_1</title>\n",
       "<path d=\"M349,-175.597C349,-163.746 349,-147.817 349,-134.292\" fill=\"none\" stroke=\"black\"/>\n",
       "<polygon fill=\"black\" points=\"352.5,-134.084 349,-124.084 345.5,-134.084 352.5,-134.084\" stroke=\"black\"/>\n",
       "<text font-family=\"Times,serif\" font-size=\"14.00\" text-anchor=\"middle\" x=\"432.5\" y=\"-146.3\">1 TensorType(float64, scalar)</text>\n",
       "</g>\n",
       "<!-- _4 -->\n",
       "<g class=\"node\" id=\"node4\"><title>_4</title>\n",
       "<polygon fill=\"limegreen\" points=\"698,-212 478,-212 478,-176 698,-176 698,-212\" stroke=\"black\"/>\n",
       "<text font-family=\"Times,serif\" font-size=\"14.00\" text-anchor=\"middle\" x=\"588\" y=\"-190.3\">name=z TensorType(float64, scalar)</text>\n",
       "</g>\n",
       "<!-- _4&#45;&gt;_1 -->\n",
       "<g class=\"edge\" id=\"edge3\"><title>_4-&gt;_1</title>\n",
       "<path d=\"M569.814,-175.807C556.881,-164.521 538.572,-150.354 520,-142 500.914,-133.415 479.681,-126.915 458.848,-121.999\" fill=\"none\" stroke=\"black\"/>\n",
       "<polygon fill=\"black\" points=\"459.514,-118.562 448.99,-119.781 457.978,-125.391 459.514,-118.562\" stroke=\"black\"/>\n",
       "<text font-family=\"Times,serif\" font-size=\"14.00\" text-anchor=\"middle\" x=\"630.5\" y=\"-146.3\">2 TensorType(float64, scalar)</text>\n",
       "</g>\n",
       "</g>\n",
       "</svg>"
      ],
      "text/plain": [
       "<IPython.core.display.SVG object>"
      ]
     },
     "execution_count": 48,
     "metadata": {},
     "output_type": "execute_result"
    }
   ],
   "source": [
    "SVG(g.create_svg())"
   ]
  },
  {
   "cell_type": "markdown",
   "metadata": {},
   "source": [
    "# Example 2 "
   ]
  },
  {
   "cell_type": "code",
   "execution_count": 4,
   "metadata": {
    "collapsed": false
   },
   "outputs": [],
   "source": [
    "x, y, z = tht.scalars('xyz')\n",
    "e = x * y\n",
    "o = th.OpFromGraph([x, y], [e])\n",
    "e2 = o(x, y) + z\n",
    "o2 = th.OpFromGraph([x, y, z], [e2])\n",
    "e3 = o2(x, y, z) + z\n",
    "f = th.function([x, y, z], [e3])"
   ]
  },
  {
   "cell_type": "code",
   "execution_count": 11,
   "metadata": {
    "collapsed": true
   },
   "outputs": [],
   "source": [
    "topo = f.maker.fgraph.toposort()"
   ]
  },
  {
   "cell_type": "code",
   "execution_count": 14,
   "metadata": {
    "collapsed": false
   },
   "outputs": [],
   "source": [
    "of = topo[0]"
   ]
  },
  {
   "cell_type": "code",
   "execution_count": 29,
   "metadata": {
    "collapsed": false
   },
   "outputs": [],
   "source": [
    "ofo = of.op"
   ]
  },
  {
   "cell_type": "code",
   "execution_count": 32,
   "metadata": {
    "collapsed": true
   },
   "outputs": [],
   "source": [
    "gf = d3p.GraphFormatter()"
   ]
  },
  {
   "cell_type": "code",
   "execution_count": 33,
   "metadata": {
    "collapsed": false
   },
   "outputs": [],
   "source": [
    "g = gf.to_pydot(ofo.fn.maker.fgraph)"
   ]
  },
  {
   "cell_type": "code",
   "execution_count": 34,
   "metadata": {
    "collapsed": false
   },
   "outputs": [
    {
     "data": {
      "image/svg+xml": [
       "<svg height=\"259pt\" viewBox=\"0.00 0.00 1212.00 259.00\" width=\"1212pt\" xmlns=\"http://www.w3.org/2000/svg\" xmlns:xlink=\"http://www.w3.org/1999/xlink\">\n",
       "<g class=\"graph\" id=\"graph0\" transform=\"scale(1 1) rotate(0) translate(4 255)\">\n",
       "<title>G</title>\n",
       "<polygon fill=\"white\" points=\"-4,4 -4,-255 1208,-255 1208,4 -4,4\" stroke=\"none\"/>\n",
       "<g class=\"cluster\" id=\"clust1\"><title>cluster__1</title>\n",
       "<polygon fill=\"none\" points=\"8,-168 8,-243 485,-243 485,-168 8,-168\" stroke=\"black\"/>\n",
       "<text font-family=\"Times,serif\" font-size=\"14.00\" text-anchor=\"middle\" x=\"246.5\" y=\"-227.8\">theano.compile.builders.OpFromGraph object at 0x10eff0410</text>\n",
       "</g>\n",
       "<!-- _2 -->\n",
       "<g class=\"node\" id=\"node1\"><title>_2</title>\n",
       "<polygon fill=\"limegreen\" points=\"476.25,-212 255.75,-212 255.75,-176 476.25,-176 476.25,-212\" stroke=\"black\"/>\n",
       "<text font-family=\"Times,serif\" font-size=\"14.00\" text-anchor=\"middle\" x=\"366\" y=\"-190.3\">name=x TensorType(float64, scalar)</text>\n",
       "</g>\n",
       "<!-- _3 -->\n",
       "<g class=\"node\" id=\"node2\"><title>_3</title>\n",
       "<polygon fill=\"limegreen\" points=\"237.25,-212 16.75,-212 16.75,-176 237.25,-176 237.25,-212\" stroke=\"black\"/>\n",
       "<text font-family=\"Times,serif\" font-size=\"14.00\" text-anchor=\"middle\" x=\"127\" y=\"-190.3\">name=y TensorType(float64, scalar)</text>\n",
       "</g>\n",
       "<!-- _1 -->\n",
       "<g class=\"node\" id=\"node3\"><title>_1</title>\n",
       "<ellipse cx=\"730\" cy=\"-194\" fill=\"none\" rx=\"235.394\" ry=\"18\" stroke=\"black\"/>\n",
       "<text font-family=\"Times,serif\" font-size=\"14.00\" text-anchor=\"middle\" x=\"730\" y=\"-190.3\">theano.compile.builders.OpFromGraph object at 0x10eff0410</text>\n",
       "</g>\n",
       "<!-- _4 -->\n",
       "<g class=\"node\" id=\"node4\"><title>_4</title>\n",
       "<ellipse cx=\"912\" cy=\"-106\" fill=\"#ffaabb\" rx=\"96.2631\" ry=\"18\" stroke=\"black\"/>\n",
       "<text font-family=\"Times,serif\" font-size=\"14.00\" text-anchor=\"middle\" x=\"912\" y=\"-102.3\">Elemwise{Add}[(0, 0)]</text>\n",
       "</g>\n",
       "<!-- _1&#45;&gt;_4 -->\n",
       "<g class=\"edge\" id=\"edge1\"><title>_1-&gt;_4</title>\n",
       "<path d=\"M765.957,-176.009C795.53,-162.035 837.526,-142.191 868.899,-127.367\" fill=\"none\" stroke=\"red\"/>\n",
       "<polygon fill=\"red\" points=\"870.722,-130.376 878.269,-122.939 867.732,-124.047 870.722,-130.376\" stroke=\"red\"/>\n",
       "<text font-family=\"Times,serif\" font-size=\"14.00\" text-anchor=\"middle\" x=\"921.5\" y=\"-146.3\">0 TensorType(float64, scalar)</text>\n",
       "</g>\n",
       "<!-- _6 -->\n",
       "<g class=\"node\" id=\"node6\"><title>_6</title>\n",
       "<polygon fill=\"dodgerblue\" points=\"1012.25,-36 811.75,-36 811.75,-0 1012.25,-0 1012.25,-36\" stroke=\"black\"/>\n",
       "<text font-family=\"Times,serif\" font-size=\"14.00\" text-anchor=\"middle\" x=\"912\" y=\"-14.3\">TensorType(float64, scalar) id=4</text>\n",
       "</g>\n",
       "<!-- _4&#45;&gt;_6 -->\n",
       "<g class=\"edge\" id=\"edge3\"><title>_4-&gt;_6</title>\n",
       "<path d=\"M912,-87.5966C912,-75.7459 912,-59.8169 912,-46.2917\" fill=\"none\" stroke=\"black\"/>\n",
       "<polygon fill=\"black\" points=\"915.5,-46.084 912,-36.084 908.5,-46.084 915.5,-46.084\" stroke=\"black\"/>\n",
       "<text font-family=\"Times,serif\" font-size=\"14.00\" text-anchor=\"middle\" x=\"990\" y=\"-58.3\">TensorType(float64, scalar)</text>\n",
       "</g>\n",
       "<!-- _5 -->\n",
       "<g class=\"node\" id=\"node5\"><title>_5</title>\n",
       "<polygon fill=\"limegreen\" points=\"1204,-212 984,-212 984,-176 1204,-176 1204,-212\" stroke=\"black\"/>\n",
       "<text font-family=\"Times,serif\" font-size=\"14.00\" text-anchor=\"middle\" x=\"1094\" y=\"-190.3\">name=z TensorType(float64, scalar)</text>\n",
       "</g>\n",
       "<!-- _5&#45;&gt;_4 -->\n",
       "<g class=\"edge\" id=\"edge2\"><title>_5-&gt;_4</title>\n",
       "<path d=\"M1068.31,-175.793C1051.81,-165.201 1029.68,-151.818 1009,-142 996.117,-135.882 981.858,-130.182 968.328,-125.233\" fill=\"none\" stroke=\"black\"/>\n",
       "<polygon fill=\"black\" points=\"969.23,-121.838 958.635,-121.767 966.873,-128.43 969.23,-121.838\" stroke=\"black\"/>\n",
       "<text font-family=\"Times,serif\" font-size=\"14.00\" text-anchor=\"middle\" x=\"1120.5\" y=\"-146.3\">1 TensorType(float64, scalar)</text>\n",
       "</g>\n",
       "</g>\n",
       "</svg>"
      ],
      "text/plain": [
       "<IPython.core.display.SVG object>"
      ]
     },
     "execution_count": 34,
     "metadata": {},
     "output_type": "execute_result"
    }
   ],
   "source": [
    "SVG(g.create_svg())"
   ]
  },
  {
   "cell_type": "code",
   "execution_count": null,
   "metadata": {
    "collapsed": true
   },
   "outputs": [],
   "source": []
  }
 ],
 "metadata": {
  "kernelspec": {
   "display_name": "Python 2",
   "language": "python",
   "name": "python2"
  },
  "language_info": {
   "codemirror_mode": {
    "name": "ipython",
    "version": 2
   },
   "file_extension": ".py",
   "mimetype": "text/x-python",
   "name": "python",
   "nbconvert_exporter": "python",
   "pygments_lexer": "ipython2",
   "version": "2.7.10"
  }
 },
 "nbformat": 4,
 "nbformat_minor": 0
}
