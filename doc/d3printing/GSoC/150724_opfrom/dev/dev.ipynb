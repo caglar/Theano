{
 "cells": [
  {
   "cell_type": "code",
   "execution_count": 1,
   "metadata": {
    "collapsed": true
   },
   "outputs": [],
   "source": [
    "import numpy as np\n",
    "from IPython.display import SVG"
   ]
  },
  {
   "cell_type": "code",
   "execution_count": 2,
   "metadata": {
    "collapsed": false
   },
   "outputs": [],
   "source": [
    "%load_ext autoreload\n",
    "%autoreload 2"
   ]
  },
  {
   "cell_type": "code",
   "execution_count": 3,
   "metadata": {
    "collapsed": false
   },
   "outputs": [
    {
     "name": "stdout",
     "output_type": "stream",
     "text": [
      "Couldn't import dot_parser, loading of dot files will not be possible.\n"
     ]
    }
   ],
   "source": [
    "import theano as th\n",
    "import theano.tensor as tht\n",
    "import theano.printing as thp\n",
    "import theano.d3printing as d3p"
   ]
  },
  {
   "cell_type": "markdown",
   "metadata": {},
   "source": [
    "# Example 1"
   ]
  },
  {
   "cell_type": "code",
   "execution_count": 169,
   "metadata": {
    "collapsed": false
   },
   "outputs": [],
   "source": [
    "x, y, z = tht.scalars('xyz')\n",
    "e = x + y * z\n",
    "o = th.OpFromGraph([x, y, z], [e])\n",
    "e2 = o(x, y, z) + o(z, y, y)\n",
    "f = th.function([x, y, z], [e2])"
   ]
  },
  {
   "cell_type": "code",
   "execution_count": 170,
   "metadata": {
    "collapsed": false
   },
   "outputs": [],
   "source": [
    "gf = d3p.GraphFormatter()\n",
    "g = gf.to_pydot(f)"
   ]
  },
  {
   "cell_type": "code",
   "execution_count": 171,
   "metadata": {
    "collapsed": false
   },
   "outputs": [
    {
     "data": {
      "text/plain": [
       "True"
      ]
     },
     "execution_count": 171,
     "metadata": {},
     "output_type": "execute_result"
    }
   ],
   "source": [
    "g.write_dot('opfrom.dot')"
   ]
  },
  {
   "cell_type": "code",
   "execution_count": 168,
   "metadata": {
    "collapsed": false
   },
   "outputs": [],
   "source": [
    "#SVG(g.create_svg())"
   ]
  },
  {
   "cell_type": "code",
   "execution_count": 162,
   "metadata": {
    "collapsed": false
   },
   "outputs": [
    {
     "name": "stdout",
     "output_type": "stream",
     "text": [
      "digraph G {\n",
      "\tgraph [bb=\"0,0,2604,316\"];\n",
      "\tnode [label=\"\\N\"];\n",
      "\tsubgraph cluster_n1 {\n",
      "\t\tgraph [bb=\"1158,80,1873,308\"];\n",
      "\t\tn11\t\t [fillcolor=\"#FFAABB\",\n",
      "\t\t\theight=0.5,\n",
      "\t\t\tlabel=\"Elemwise{Composite{(i0 + (i1 * i2))}}\",\n",
      "\t\t\tpos=\"1508,194\",\n",
      "\t\t\tshape=ellipse,\n",
      "\t\t\tstyle=filled,\n",
      "\t\t\ttype=colored,\n",
      "\t\t\twidth=4.3102];\n",
      "\t\tn15\t\t [fillcolor=dodgerblue,\n",
      "\t\t\theight=0.5,\n",
      "\t\t\tlabel=\"TensorType(float32, scalar)\",\n",
      "\t\t\tpos=\"1508,106\",\n",
      "\t\t\tshape=box,\n",
      "\t\t\tstyle=filled,\n",
      "\t\t\twidth=2.3889];\n",
      "\t\tn11 -> n15\t\t [label=\"TensorType(float32, scalar)\",\n",
      "\t\t\tlp=\"1586,150\",\n",
      "\t\t\tpos=\"e,1508,124.08 1508,175.6 1508,163.75 1508,147.82 1508,134.29\"];\n",
      "\t\tn12\t\t [fillcolor=limegreen,\n",
      "\t\t\theight=0.5,\n",
      "\t\t\tlabel=\"name=x TensorType(float32, scalar)\",\n",
      "\t\t\tpos=\"1754,282\",\n",
      "\t\t\tshape=box,\n",
      "\t\t\tstyle=filled,\n",
      "\t\t\twidth=3.0625];\n",
      "\t\tn12 -> n11\t\t [label=\"0 TensorType(float32, scalar)\",\n",
      "\t\t\tlp=\"1789.5,238\",\n",
      "\t\t\tpos=\"e,1602.7,208.31 1732.7,263.92 1717.7,252.69 1696.6,238.53 1676,230 1656.1,221.75 1634,215.37 1612.5,210.46\"];\n",
      "\t\tn13\t\t [fillcolor=limegreen,\n",
      "\t\t\theight=0.5,\n",
      "\t\t\tlabel=\"name=y TensorType(float32, scalar)\",\n",
      "\t\t\tpos=\"1515,282\",\n",
      "\t\t\tshape=box,\n",
      "\t\t\tstyle=filled,\n",
      "\t\t\twidth=3.0625];\n",
      "\t\tn13 -> n11\t\t [label=\"1 TensorType(float32, scalar)\",\n",
      "\t\t\tlp=\"1592.5,238\",\n",
      "\t\t\tpos=\"e,1507.7,212.04 1511.6,263.98 1510.5,258.29 1509.6,251.89 1509,246 1508.3,238.24 1507.9,229.79 1507.8,222.04\"];\n",
      "\t\tn14\t\t [fillcolor=limegreen,\n",
      "\t\t\theight=0.5,\n",
      "\t\t\tlabel=\"name=z TensorType(float32, scalar)\",\n",
      "\t\t\tpos=\"1276,282\",\n",
      "\t\t\tshape=box,\n",
      "\t\t\tstyle=filled,\n",
      "\t\t\twidth=3.0556];\n",
      "\t\tn14 -> n11\t\t [label=\"2 TensorType(float32, scalar)\",\n",
      "\t\t\tlp=\"1421.5,238\",\n",
      "\t\t\tpos=\"e,1406,207.64 1292.3,263.77 1304,252.46 1320.6,238.29 1338,230 1356.1,221.35 1376.3,214.83 1396.3,209.92\"];\n",
      "\t}\n",
      "\tsubgraph cluster_n6 {\n",
      "\t\tgraph [bb=\"1881,80,2596,308\"];\n",
      "\t\tn61\t\t [fillcolor=\"#FFAABB\",\n",
      "\t\t\theight=0.5,\n",
      "\t\t\tlabel=\"Elemwise{Composite{(i0 + (i1 * i2))}}\",\n",
      "\t\t\tpos=\"2231,194\",\n",
      "\t\t\tshape=ellipse,\n",
      "\t\t\tstyle=filled,\n",
      "\t\t\ttype=colored,\n",
      "\t\t\twidth=4.3102];\n",
      "\t\tn65\t\t [fillcolor=dodgerblue,\n",
      "\t\t\theight=0.5,\n",
      "\t\t\tlabel=\"TensorType(float32, scalar)\",\n",
      "\t\t\tpos=\"2231,106\",\n",
      "\t\t\tshape=box,\n",
      "\t\t\tstyle=filled,\n",
      "\t\t\twidth=2.3889];\n",
      "\t\tn61 -> n65\t\t [label=\"TensorType(float32, scalar)\",\n",
      "\t\t\tlp=\"2309,150\",\n",
      "\t\t\tpos=\"e,2231,124.08 2231,175.6 2231,163.75 2231,147.82 2231,134.29\"];\n",
      "\t\tn62\t\t [fillcolor=limegreen,\n",
      "\t\t\theight=0.5,\n",
      "\t\t\tlabel=\"name=x TensorType(float32, scalar)\",\n",
      "\t\t\tpos=\"2477,282\",\n",
      "\t\t\tshape=box,\n",
      "\t\t\tstyle=filled,\n",
      "\t\t\twidth=3.0625];\n",
      "\t\tn62 -> n61\t\t [label=\"0 TensorType(float32, scalar)\",\n",
      "\t\t\tlp=\"2511.5,238\",\n",
      "\t\t\tpos=\"e,2325.7,208.31 2455.7,263.92 2440.7,252.69 2419.6,238.53 2399,230 2379.1,221.75 2357,215.37 2335.5,210.46\"];\n",
      "\t\tn63\t\t [fillcolor=limegreen,\n",
      "\t\t\theight=0.5,\n",
      "\t\t\tlabel=\"name=y TensorType(float32, scalar)\",\n",
      "\t\t\tpos=\"2238,282\",\n",
      "\t\t\tshape=box,\n",
      "\t\t\tstyle=filled,\n",
      "\t\t\twidth=3.0625];\n",
      "\t\tn63 -> n61\t\t [label=\"1 TensorType(float32, scalar)\",\n",
      "\t\t\tlp=\"2315.5,238\",\n",
      "\t\t\tpos=\"e,2230.7,212.04 2234.6,263.98 2233.5,258.29 2232.6,251.89 2232,246 2231.3,238.24 2230.9,229.79 2230.8,222.04\"];\n",
      "\t\tn64\t\t [fillcolor=limegreen,\n",
      "\t\t\theight=0.5,\n",
      "\t\t\tlabel=\"name=z TensorType(float32, scalar)\",\n",
      "\t\t\tpos=\"1999,282\",\n",
      "\t\t\tshape=box,\n",
      "\t\t\tstyle=filled,\n",
      "\t\t\twidth=3.0556];\n",
      "\t\tn64 -> n61\t\t [label=\"2 TensorType(float32, scalar)\",\n",
      "\t\t\tlp=\"2144.5,238\",\n",
      "\t\t\tpos=\"e,2129,207.64 2015.3,263.77 2027,252.46 2043.6,238.29 2061,230 2079.1,221.35 2099.3,214.83 2119.3,209.92\"];\n",
      "\t}\n",
      "\tn1\t [height=0.5,\n",
      "\t\tlabel=\"theano.compile.builders.OpFromGraph object at 0x10c95ca50\",\n",
      "\t\tpos=\"237,194\",\n",
      "\t\tshape=ellipse,\n",
      "\t\tsubg=cluster_n1,\n",
      "\t\tsubg_map_inputs=\"[['n2', 'n12'], ['n3', 'n13'], ['n3', 'n14']]\",\n",
      "\t\tsubg_map_outputs=\"[['n5', 'n15']]\",\n",
      "\t\twidth=6.5955];\n",
      "\tn5\t [fillcolor=\"#FFAABB\",\n",
      "\t\theight=0.5,\n",
      "\t\tlabel=\"Elemwise{Add}[(0, 0)]\",\n",
      "\t\tpos=\"551,106\",\n",
      "\t\tshape=ellipse,\n",
      "\t\tstyle=filled,\n",
      "\t\ttype=colored,\n",
      "\t\twidth=2.6784];\n",
      "\tn1 -> n5\t [label=\"1 TensorType(float32, scalar)\",\n",
      "\t\tlp=\"506.5,150\",\n",
      "\t\tpos=\"e,499.1,121.21 297.17,176.52 352.36,161.41 433.73,139.12 489.37,123.88\"];\n",
      "\tn2\t [fillcolor=limegreen,\n",
      "\t\theight=0.5,\n",
      "\t\tlabel=\"name=z TensorType(float32, scalar)\",\n",
      "\t\tpos=\"673,282\",\n",
      "\t\tshape=box,\n",
      "\t\tstyle=filled,\n",
      "\t\twidth=3.0556];\n",
      "\tn2 -> n1\t [label=\"0 TensorType(float32, scalar)\",\n",
      "\t\tlp=\"683.5,238\",\n",
      "\t\tpos=\"e,428.7,204.68 632.61,263.87 621.72,258.66 610.15,252.56 600,246 590.73,240.01 591.17,234.31 581,230 554.15,218.63 498.16,210.85 \\\n",
      "439,205.57\"];\n",
      "\tn6\t [height=0.5,\n",
      "\t\tlabel=\"theano.compile.builders.OpFromGraph object at 0x10c95ca50 id=1\",\n",
      "\t\tpos=\"778,194\",\n",
      "\t\tshape=ellipse,\n",
      "\t\tsubg=cluster_n6,\n",
      "\t\tsubg_map_inputs=\"[['n7', 'n62'], ['n3', 'n63'], ['n2', 'n64']]\",\n",
      "\t\tsubg_map_outputs=\"[['n5', 'n65']]\",\n",
      "\t\twidth=7.1441];\n",
      "\tn2 -> n6\t [label=\"2 TensorType(float32, scalar)\",\n",
      "\t\tlp=\"862.5,238\",\n",
      "\t\tpos=\"e,779.89,212.37 748.75,263.9 757.23,259.29 764.96,253.43 771,246 776.31,239.46 778.66,230.83 779.51,222.53\"];\n",
      "\tn3\t [fillcolor=limegreen,\n",
      "\t\theight=0.5,\n",
      "\t\tlabel=\"name=y TensorType(float32, scalar)\",\n",
      "\t\tpos=\"223,282\",\n",
      "\t\tshape=box,\n",
      "\t\tstyle=filled,\n",
      "\t\twidth=3.0625];\n",
      "\tn3 -> n1\t [label=\"1 TensorType(float32, scalar)\",\n",
      "\t\tlp=\"307.5,238\",\n",
      "\t\tpos=\"e,229.34,212.12 221.91,263.85 221.64,253.89 221.89,241.14 224,230 224.51,227.29 225.22,224.51 226.03,221.76\"];\n",
      "\tn3 -> n1\t [label=\"2 TensorType(float32, scalar)\",\n",
      "\t\tlp=\"135.5,238\",\n",
      "\t\tpos=\"e,101.14,208.8 112.52,277.73 66.058,272.21 27.738,259.28 52,230 58.571,222.07 73.117,215.92 91.313,211.16\"];\n",
      "\tn3 -> n6\t [label=\"1 TensorType(float32, scalar)\",\n",
      "\t\tlp=\"493.5,238\",\n",
      "\t\tpos=\"e,567.06,204.36 333.59,266.1 353.29,261.19 373.18,254.66 391,246 400.93,241.17 399.82,234.27 410,230 437.96,218.27 495.41,210.43 \\\n",
      "556.78,205.2\"];\n",
      "\tn6 -> n5\t [color=red,\n",
      "\t\tlabel=\"0 TensorType(float32, scalar)\",\n",
      "\t\tlp=\"768.5,150\",\n",
      "\t\tpos=\"e,591.76,122.44 733.69,176.21 695.67,161.81 640.89,141.06 601.24,126.03\"];\n",
      "\tn7\t [fillcolor=limegreen,\n",
      "\t\theight=0.5,\n",
      "\t\tlabel=\"name=x TensorType(float32, scalar)\",\n",
      "\t\tpos=\"983,282\",\n",
      "\t\tshape=box,\n",
      "\t\tstyle=filled,\n",
      "\t\twidth=3.0625];\n",
      "\tn7 -> n6\t [label=\"0 TensorType(float32, scalar)\",\n",
      "\t\tlp=\"1049.5,238\",\n",
      "\t\tpos=\"e,907.99,209.69 976.09,263.71 970.67,252.38 962.02,238.2 950,230 940.07,223.23 929.11,217.71 917.68,213.22\"];\n",
      "\tn9\t [fillcolor=dodgerblue,\n",
      "\t\theight=0.5,\n",
      "\t\tlabel=\"TensorType(float32, scalar) id=5\",\n",
      "\t\tpos=\"551,18\",\n",
      "\t\tshape=box,\n",
      "\t\tstyle=filled,\n",
      "\t\twidth=2.7847];\n",
      "\tn5 -> n9\t [label=\"TensorType(float32, scalar)\",\n",
      "\t\tlp=\"629,62\",\n",
      "\t\tpos=\"e,551,36.084 551,87.597 551,75.746 551,59.817 551,46.292\"];\n",
      "}\n",
      "\n"
     ]
    }
   ],
   "source": [
    "print(g.create_dot())"
   ]
  },
  {
   "cell_type": "code",
   "execution_count": 110,
   "metadata": {
    "collapsed": false
   },
   "outputs": [
    {
     "data": {
      "text/plain": [
       "[<theano.compile.builders.OpFromGraph object at 0x10c9dadd0>(z, y, y),\n",
       " <theano.compile.builders.OpFromGraph object at 0x10c9dadd0>(x, y, z),\n",
       " Elemwise{Add}[(0, 0)](<theano.compile.builders.OpFromGraph object at 0x10c9dadd0>.0, <theano.compile.builders.OpFromGraph object at 0x10c9dadd0>.0)]"
      ]
     },
     "execution_count": 110,
     "metadata": {},
     "output_type": "execute_result"
    }
   ],
   "source": [
    "topo = f.maker.fgraph.toposort()\n",
    "topo"
   ]
  },
  {
   "cell_type": "code",
   "execution_count": 146,
   "metadata": {
    "collapsed": false
   },
   "outputs": [],
   "source": [
    "a = ['1', '2']\n",
    "b = ['11', '22']\n",
    "m = zip(a, b)\n",
    "m = [list(x) for x in m]"
   ]
  },
  {
   "cell_type": "code",
   "execution_count": 147,
   "metadata": {
    "collapsed": false
   },
   "outputs": [
    {
     "data": {
      "text/plain": [
       "[['1', '11'], ['2', '22']]"
      ]
     },
     "execution_count": 147,
     "metadata": {},
     "output_type": "execute_result"
    }
   ],
   "source": [
    "m"
   ]
  },
  {
   "cell_type": "code",
   "execution_count": 111,
   "metadata": {
    "collapsed": true
   },
   "outputs": [],
   "source": [
    "op = topo[0]"
   ]
  },
  {
   "cell_type": "code",
   "execution_count": 118,
   "metadata": {
    "collapsed": false
   },
   "outputs": [
    {
     "data": {
      "text/plain": [
       "Elemwise{Add}[(0, 0)].0"
      ]
     },
     "execution_count": 118,
     "metadata": {},
     "output_type": "execute_result"
    }
   ],
   "source": [
    "out = f.maker.fgraph.outputs[0]\n",
    "out"
   ]
  },
  {
   "cell_type": "code",
   "execution_count": 122,
   "metadata": {
    "collapsed": false
   },
   "outputs": [
    {
     "data": {
      "text/plain": [
       "TensorType(float32, scalar)"
      ]
     },
     "execution_count": 122,
     "metadata": {},
     "output_type": "execute_result"
    }
   ],
   "source": [
    "op.op.fn.maker.fgraph.outputs[0].type"
   ]
  },
  {
   "cell_type": "code",
   "execution_count": 119,
   "metadata": {
    "collapsed": false
   },
   "outputs": [
    {
     "data": {
      "text/plain": [
       "TensorType(float32, scalar)"
      ]
     },
     "execution_count": 119,
     "metadata": {},
     "output_type": "execute_result"
    }
   ],
   "source": [
    "out.type"
   ]
  },
  {
   "cell_type": "code",
   "execution_count": 91,
   "metadata": {
    "collapsed": false
   },
   "outputs": [
    {
     "data": {
      "text/plain": [
       "Out(Elemwise{add,no_inplace}.0,False)"
      ]
     },
     "execution_count": 91,
     "metadata": {},
     "output_type": "execute_result"
    }
   ],
   "source": [
    "op.op.fn.outputs[0]"
   ]
  },
  {
   "cell_type": "code",
   "execution_count": 92,
   "metadata": {
    "collapsed": false
   },
   "outputs": [
    {
     "data": {
      "text/plain": [
       "[Out(Elemwise{add,no_inplace}.0,False)]"
      ]
     },
     "execution_count": 92,
     "metadata": {},
     "output_type": "execute_result"
    }
   ],
   "source": [
    "f.outputs"
   ]
  },
  {
   "cell_type": "code",
   "execution_count": 95,
   "metadata": {
    "collapsed": false
   },
   "outputs": [
    {
     "data": {
      "text/plain": [
       "[Out(Elemwise{add,no_inplace}.0,False)]"
      ]
     },
     "execution_count": 95,
     "metadata": {},
     "output_type": "execute_result"
    }
   ],
   "source": [
    "f.outputs"
   ]
  },
  {
   "cell_type": "code",
   "execution_count": 94,
   "metadata": {
    "collapsed": false
   },
   "outputs": [
    {
     "data": {
      "text/plain": [
       "[Elemwise{Add}[(0, 0)].0]"
      ]
     },
     "execution_count": 94,
     "metadata": {},
     "output_type": "execute_result"
    }
   ],
   "source": [
    "f.maker.fgraph.outputs"
   ]
  },
  {
   "cell_type": "code",
   "execution_count": 76,
   "metadata": {
    "collapsed": false
   },
   "outputs": [
    {
     "data": {
      "text/plain": [
       "[<theano.compile.builders.OpFromGraph object at 0x10c782f90>.0]"
      ]
     },
     "execution_count": 76,
     "metadata": {},
     "output_type": "execute_result"
    }
   ],
   "source": [
    "op.outputs"
   ]
  },
  {
   "cell_type": "code",
   "execution_count": 69,
   "metadata": {
    "collapsed": false
   },
   "outputs": [
    {
     "data": {
      "text/plain": [
       "'n10'"
      ]
     },
     "execution_count": 69,
     "metadata": {},
     "output_type": "execute_result"
    }
   ],
   "source": [
    "gf.node_id(op1.outputs[0])"
   ]
  },
  {
   "cell_type": "code",
   "execution_count": 70,
   "metadata": {
    "collapsed": false
   },
   "outputs": [
    {
     "name": "stdout",
     "output_type": "stream",
     "text": [
      "digraph G {\n",
      "\tgraph [bb=\"0,0,2605,316\"];\n",
      "\tnode [label=\"\\N\"];\n",
      "\tsubgraph cluster_n1 {\n",
      "\t\tgraph [bb=\"1159,80,1874,308\"];\n",
      "\t\tn11\t\t [fillcolor=\"#FFAABB\",\n",
      "\t\t\theight=0.5,\n",
      "\t\t\tlabel=\"Elemwise{Composite{(i0 + (i1 * i2))}}\",\n",
      "\t\t\tpos=\"1509,194\",\n",
      "\t\t\tshape=ellipse,\n",
      "\t\t\tstyle=filled,\n",
      "\t\t\ttype=colored,\n",
      "\t\t\twidth=4.3102];\n",
      "\t\tn15\t\t [fillcolor=dodgerblue,\n",
      "\t\t\theight=0.5,\n",
      "\t\t\tlabel=\"TensorType(float32, scalar)\",\n",
      "\t\t\tpos=\"1509,106\",\n",
      "\t\t\tshape=box,\n",
      "\t\t\tstyle=filled,\n",
      "\t\t\twidth=2.3889];\n",
      "\t\tn11 -> n15\t\t [label=\"TensorType(float32, scalar)\",\n",
      "\t\t\tlp=\"1587,150\",\n",
      "\t\t\tpos=\"e,1509,124.08 1509,175.6 1509,163.75 1509,147.82 1509,134.29\"];\n",
      "\t\tn12\t\t [fillcolor=limegreen,\n",
      "\t\t\theight=0.5,\n",
      "\t\t\tlabel=\"name=x TensorType(float32, scalar)\",\n",
      "\t\t\tpos=\"1755,282\",\n",
      "\t\t\tshape=box,\n",
      "\t\t\tstyle=filled,\n",
      "\t\t\twidth=3.0625];\n",
      "\t\tn12 -> n11\t\t [label=\"0 TensorType(float32, scalar)\",\n",
      "\t\t\tlp=\"1790.5,238\",\n",
      "\t\t\tpos=\"e,1603.7,208.31 1733.7,263.92 1718.7,252.69 1697.6,238.53 1677,230 1657.1,221.75 1635,215.37 1613.5,210.46\"];\n",
      "\t\tn13\t\t [fillcolor=limegreen,\n",
      "\t\t\theight=0.5,\n",
      "\t\t\tlabel=\"name=y TensorType(float32, scalar)\",\n",
      "\t\t\tpos=\"1516,282\",\n",
      "\t\t\tshape=box,\n",
      "\t\t\tstyle=filled,\n",
      "\t\t\twidth=3.0625];\n",
      "\t\tn13 -> n11\t\t [label=\"1 TensorType(float32, scalar)\",\n",
      "\t\t\tlp=\"1593.5,238\",\n",
      "\t\t\tpos=\"e,1508.7,212.04 1512.6,263.98 1511.5,258.29 1510.6,251.89 1510,246 1509.3,238.24 1508.9,229.79 1508.8,222.04\"];\n",
      "\t\tn14\t\t [fillcolor=limegreen,\n",
      "\t\t\theight=0.5,\n",
      "\t\t\tlabel=\"name=z TensorType(float32, scalar)\",\n",
      "\t\t\tpos=\"1277,282\",\n",
      "\t\t\tshape=box,\n",
      "\t\t\tstyle=filled,\n",
      "\t\t\twidth=3.0556];\n",
      "\t\tn14 -> n11\t\t [label=\"2 TensorType(float32, scalar)\",\n",
      "\t\t\tlp=\"1422.5,238\",\n",
      "\t\t\tpos=\"e,1407,207.64 1293.3,263.77 1305,252.46 1321.6,238.29 1339,230 1357.1,221.35 1377.3,214.83 1397.3,209.92\"];\n",
      "\t}\n",
      "\tsubgraph cluster_n5 {\n",
      "\t\tgraph [bb=\"1882,80,2597,308\"];\n",
      "\t\tn51\t\t [fillcolor=\"#FFAABB\",\n",
      "\t\t\theight=0.5,\n",
      "\t\t\tlabel=\"Elemwise{Composite{(i0 + (i1 * i2))}}\",\n",
      "\t\t\tpos=\"2232,194\",\n",
      "\t\t\tshape=ellipse,\n",
      "\t\t\tstyle=filled,\n",
      "\t\t\ttype=colored,\n",
      "\t\t\twidth=4.3102];\n",
      "\t\tn55\t\t [fillcolor=dodgerblue,\n",
      "\t\t\theight=0.5,\n",
      "\t\t\tlabel=\"TensorType(float32, scalar)\",\n",
      "\t\t\tpos=\"2232,106\",\n",
      "\t\t\tshape=box,\n",
      "\t\t\tstyle=filled,\n",
      "\t\t\twidth=2.3889];\n",
      "\t\tn51 -> n55\t\t [label=\"TensorType(float32, scalar)\",\n",
      "\t\t\tlp=\"2310,150\",\n",
      "\t\t\tpos=\"e,2232,124.08 2232,175.6 2232,163.75 2232,147.82 2232,134.29\"];\n",
      "\t\tn52\t\t [fillcolor=limegreen,\n",
      "\t\t\theight=0.5,\n",
      "\t\t\tlabel=\"name=x TensorType(float32, scalar)\",\n",
      "\t\t\tpos=\"2478,282\",\n",
      "\t\t\tshape=box,\n",
      "\t\t\tstyle=filled,\n",
      "\t\t\twidth=3.0625];\n",
      "\t\tn52 -> n51\t\t [label=\"0 TensorType(float32, scalar)\",\n",
      "\t\t\tlp=\"2512.5,238\",\n",
      "\t\t\tpos=\"e,2326.7,208.31 2456.7,263.92 2441.7,252.69 2420.6,238.53 2400,230 2380.1,221.75 2358,215.37 2336.5,210.46\"];\n",
      "\t\tn53\t\t [fillcolor=limegreen,\n",
      "\t\t\theight=0.5,\n",
      "\t\t\tlabel=\"name=y TensorType(float32, scalar)\",\n",
      "\t\t\tpos=\"2239,282\",\n",
      "\t\t\tshape=box,\n",
      "\t\t\tstyle=filled,\n",
      "\t\t\twidth=3.0625];\n",
      "\t\tn53 -> n51\t\t [label=\"1 TensorType(float32, scalar)\",\n",
      "\t\t\tlp=\"2316.5,238\",\n",
      "\t\t\tpos=\"e,2231.7,212.04 2235.6,263.98 2234.5,258.29 2233.6,251.89 2233,246 2232.3,238.24 2231.9,229.79 2231.8,222.04\"];\n",
      "\t\tn54\t\t [fillcolor=limegreen,\n",
      "\t\t\theight=0.5,\n",
      "\t\t\tlabel=\"name=z TensorType(float32, scalar)\",\n",
      "\t\t\tpos=\"2000,282\",\n",
      "\t\t\tshape=box,\n",
      "\t\t\tstyle=filled,\n",
      "\t\t\twidth=3.0556];\n",
      "\t\tn54 -> n51\t\t [label=\"2 TensorType(float32, scalar)\",\n",
      "\t\t\tlp=\"2145.5,238\",\n",
      "\t\t\tpos=\"e,2130,207.64 2016.3,263.77 2028,252.46 2044.6,238.29 2062,230 2080.1,221.35 2100.3,214.83 2120.3,209.92\"];\n",
      "\t}\n",
      "\tn1\t [height=0.5,\n",
      "\t\tlabel=\"theano.compile.builders.OpFromGraph object at 0x10c7b0e90\",\n",
      "\t\tpos=\"238,194\",\n",
      "\t\tshape=ellipse,\n",
      "\t\tsubg=cluster_n1,\n",
      "\t\twidth=6.6185];\n",
      "\tn8\t [fillcolor=\"#FFAABB\",\n",
      "\t\theight=0.5,\n",
      "\t\tlabel=\"Elemwise{Add}[(0, 0)]\",\n",
      "\t\tpos=\"553,106\",\n",
      "\t\tshape=ellipse,\n",
      "\t\tstyle=filled,\n",
      "\t\ttype=colored,\n",
      "\t\twidth=2.6784];\n",
      "\tn1 -> n8\t [label=\"1 TensorType(float32, scalar)\",\n",
      "\t\tlp=\"507.5,150\",\n",
      "\t\tpos=\"e,500.93,121.21 298.36,176.52 353.72,161.41 435.35,139.12 491.17,123.88\"];\n",
      "\tn2\t [fillcolor=limegreen,\n",
      "\t\theight=0.5,\n",
      "\t\tlabel=\"name=z TensorType(float32, scalar)\",\n",
      "\t\tpos=\"674,282\",\n",
      "\t\tshape=box,\n",
      "\t\tstyle=filled,\n",
      "\t\twidth=3.0556];\n",
      "\tn2 -> n1\t [label=\"0 TensorType(float32, scalar)\",\n",
      "\t\tlp=\"684.5,238\",\n",
      "\t\tpos=\"e,430.16,204.72 633.61,263.87 622.72,258.66 611.15,252.56 601,246 591.73,240.01 592.17,234.31 582,230 555.22,218.66 499.43,210.89 \\\n",
      "440.43,205.61\"];\n",
      "\tn5\t [height=0.5,\n",
      "\t\tlabel=\"theano.compile.builders.OpFromGraph object at 0x10c7b0e90 id=1\",\n",
      "\t\tpos=\"780,194\",\n",
      "\t\tshape=ellipse,\n",
      "\t\tsubg=cluster_n5,\n",
      "\t\twidth=7.1441];\n",
      "\tn2 -> n5\t [label=\"2 TensorType(float32, scalar)\",\n",
      "\t\tlp=\"863.5,238\",\n",
      "\t\tpos=\"e,781.5,212.41 749.62,263.79 758.11,259.2 765.89,253.37 772,246 777.39,239.5 779.89,230.87 780.91,222.57\"];\n",
      "\tn3\t [fillcolor=limegreen,\n",
      "\t\theight=0.5,\n",
      "\t\tlabel=\"name=y TensorType(float32, scalar)\",\n",
      "\t\tpos=\"224,282\",\n",
      "\t\tshape=box,\n",
      "\t\tstyle=filled,\n",
      "\t\twidth=3.0625];\n",
      "\tn3 -> n1\t [label=\"1 TensorType(float32, scalar)\",\n",
      "\t\tlp=\"308.5,238\",\n",
      "\t\tpos=\"e,230.34,212.12 222.91,263.85 222.64,253.89 222.89,241.14 225,230 225.51,227.29 226.22,224.51 227.03,221.76\"];\n",
      "\tn3 -> n1\t [label=\"2 TensorType(float32, scalar)\",\n",
      "\t\tlp=\"136.5,238\",\n",
      "\t\tpos=\"e,102.14,208.8 113.52,277.73 67.058,272.21 28.738,259.28 53,230 59.571,222.07 74.117,215.92 92.313,211.16\"];\n",
      "\tn3 -> n5\t [label=\"1 TensorType(float32, scalar)\",\n",
      "\t\tlp=\"494.5,238\",\n",
      "\t\tpos=\"e,568.49,204.32 334.59,266.1 354.29,261.19 374.18,254.66 392,246 401.93,241.17 400.82,234.27 411,230 439.03,218.24 496.65,210.39 \\\n",
      "558.18,205.17\"];\n",
      "\tn5 -> n8\t [color=red,\n",
      "\t\tlabel=\"0 TensorType(float32, scalar)\",\n",
      "\t\tlp=\"770.5,150\",\n",
      "\t\tpos=\"e,593.76,122.44 735.69,176.21 697.67,161.81 642.89,141.06 603.24,126.03\"];\n",
      "\tn6\t [fillcolor=limegreen,\n",
      "\t\theight=0.5,\n",
      "\t\tlabel=\"name=x TensorType(float32, scalar)\",\n",
      "\t\tpos=\"984,282\",\n",
      "\t\tshape=box,\n",
      "\t\tstyle=filled,\n",
      "\t\twidth=3.0625];\n",
      "\tn6 -> n5\t [label=\"0 TensorType(float32, scalar)\",\n",
      "\t\tlp=\"1050.5,238\",\n",
      "\t\tpos=\"e,908.79,209.62 977.09,263.71 971.67,252.39 963.02,238.21 951,230 941.03,223.19 930.02,217.65 918.54,213.16\"];\n",
      "\tn9\t [fillcolor=dodgerblue,\n",
      "\t\theight=0.5,\n",
      "\t\tlabel=\"TensorType(float32, scalar) id=5\",\n",
      "\t\tpos=\"553,18\",\n",
      "\t\tshape=box,\n",
      "\t\tstyle=filled,\n",
      "\t\twidth=2.7847];\n",
      "\tn8 -> n9\t [label=\"TensorType(float32, scalar)\",\n",
      "\t\tlp=\"631,62\",\n",
      "\t\tpos=\"e,553,36.084 553,87.597 553,75.746 553,59.817 553,46.292\"];\n",
      "}\n",
      "\n"
     ]
    }
   ],
   "source": [
    "print(g.create_dot())"
   ]
  },
  {
   "cell_type": "code",
   "execution_count": 24,
   "metadata": {
    "collapsed": false
   },
   "outputs": [
    {
     "data": {
      "text/plain": [
       "True"
      ]
     },
     "execution_count": 24,
     "metadata": {},
     "output_type": "execute_result"
    }
   ],
   "source": [
    "op1.inputs[0] is inputs[2]"
   ]
  },
  {
   "cell_type": "code",
   "execution_count": 27,
   "metadata": {
    "collapsed": false
   },
   "outputs": [
    {
     "data": {
      "text/plain": [
       "True"
      ]
     },
     "execution_count": 27,
     "metadata": {},
     "output_type": "execute_result"
    }
   ],
   "source": [
    "op1.inputs[1] is inputs[1]"
   ]
  },
  {
   "cell_type": "code",
   "execution_count": 29,
   "metadata": {
    "collapsed": false
   },
   "outputs": [
    {
     "data": {
      "text/plain": [
       "True"
      ]
     },
     "execution_count": 29,
     "metadata": {},
     "output_type": "execute_result"
    }
   ],
   "source": [
    "op1.inputs[2] is inputs[1]"
   ]
  },
  {
   "cell_type": "code",
   "execution_count": 31,
   "metadata": {
    "collapsed": false
   },
   "outputs": [
    {
     "data": {
      "text/plain": [
       "[<theano.compile.builders.OpFromGraph object at 0x10c1ed0d0>.0]"
      ]
     },
     "execution_count": 31,
     "metadata": {},
     "output_type": "execute_result"
    }
   ],
   "source": [
    "op1.outputs"
   ]
  },
  {
   "cell_type": "code",
   "execution_count": null,
   "metadata": {
    "collapsed": true
   },
   "outputs": [],
   "source": [
    "ofg.fgraph"
   ]
  },
  {
   "cell_type": "code",
   "execution_count": 17,
   "metadata": {
    "collapsed": false
   },
   "outputs": [
    {
     "data": {
      "text/plain": [
       "theano.gof.graph.Apply"
      ]
     },
     "execution_count": 17,
     "metadata": {},
     "output_type": "execute_result"
    }
   ],
   "source": [
    "type(topo[0])"
   ]
  },
  {
   "cell_type": "code",
   "execution_count": 18,
   "metadata": {
    "collapsed": false
   },
   "outputs": [
    {
     "data": {
      "text/plain": [
       "theano.tensor.var.TensorVariable"
      ]
     },
     "execution_count": 18,
     "metadata": {},
     "output_type": "execute_result"
    }
   ],
   "source": [
    "type(topo[2].inputs[0])"
   ]
  },
  {
   "cell_type": "code",
   "execution_count": 34,
   "metadata": {
    "collapsed": false
   },
   "outputs": [
    {
     "data": {
      "text/plain": [
       "True"
      ]
     },
     "execution_count": 34,
     "metadata": {},
     "output_type": "execute_result"
    }
   ],
   "source": [
    "topo[2].outputs[0].owner is topo[2]"
   ]
  },
  {
   "cell_type": "code",
   "execution_count": 32,
   "metadata": {
    "collapsed": false
   },
   "outputs": [
    {
     "data": {
      "text/plain": [
       "theano.gof.graph.Apply"
      ]
     },
     "execution_count": 32,
     "metadata": {},
     "output_type": "execute_result"
    }
   ],
   "source": [
    "type(o.owner)"
   ]
  },
  {
   "cell_type": "code",
   "execution_count": 19,
   "metadata": {
    "collapsed": true
   },
   "outputs": [],
   "source": [
    "i = topo[2].inputs[0]"
   ]
  },
  {
   "cell_type": "code",
   "execution_count": 25,
   "metadata": {
    "collapsed": false
   },
   "outputs": [
    {
     "data": {
      "text/plain": [
       "theano.gof.graph.Apply"
      ]
     },
     "execution_count": 25,
     "metadata": {},
     "output_type": "execute_result"
    }
   ],
   "source": [
    "type(i.owner)"
   ]
  },
  {
   "cell_type": "code",
   "execution_count": 15,
   "metadata": {
    "collapsed": false
   },
   "outputs": [
    {
     "data": {
      "text/plain": [
       "<theano.compile.builders.OpFromGraph object at 0x112c970d0>.0"
      ]
     },
     "execution_count": 15,
     "metadata": {},
     "output_type": "execute_result"
    }
   ],
   "source": [
    "topo[2].inputs[0]"
   ]
  },
  {
   "cell_type": "code",
   "execution_count": 44,
   "metadata": {
    "collapsed": false
   },
   "outputs": [
    {
     "data": {
      "text/plain": [
       "[Elemwise{Add}[(0, 0)].0]"
      ]
     },
     "execution_count": 44,
     "metadata": {},
     "output_type": "execute_result"
    }
   ],
   "source": [
    "fg.outputs"
   ]
  },
  {
   "cell_type": "code",
   "execution_count": 45,
   "metadata": {
    "collapsed": false
   },
   "outputs": [
    {
     "data": {
      "text/plain": [
       "[x, y, z]"
      ]
     },
     "execution_count": 45,
     "metadata": {},
     "output_type": "execute_result"
    }
   ],
   "source": [
    "fg.inputs"
   ]
  },
  {
   "cell_type": "code",
   "execution_count": 47,
   "metadata": {
    "collapsed": false
   },
   "outputs": [
    {
     "data": {
      "text/plain": [
       "'x'"
      ]
     },
     "execution_count": 47,
     "metadata": {},
     "output_type": "execute_result"
    }
   ],
   "source": [
    "fg.inputs[0].name"
   ]
  },
  {
   "cell_type": "code",
   "execution_count": 68,
   "metadata": {
    "collapsed": true
   },
   "outputs": [],
   "source": [
    "x = tht.scalar()\n",
    "y = tht.scalar()\n",
    "z = x + y\n",
    "f = th.function([x, y], z)"
   ]
  },
  {
   "cell_type": "code",
   "execution_count": 69,
   "metadata": {
    "collapsed": true
   },
   "outputs": [],
   "source": [
    "fg = f.maker.fgraph"
   ]
  },
  {
   "cell_type": "code",
   "execution_count": 54,
   "metadata": {
    "collapsed": false
   },
   "outputs": [
    {
     "data": {
      "text/plain": [
       "False"
      ]
     },
     "execution_count": 54,
     "metadata": {},
     "output_type": "execute_result"
    }
   ],
   "source": [
    "fg.inputs[0] is fg.inputs[1]"
   ]
  },
  {
   "cell_type": "code",
   "execution_count": 70,
   "metadata": {
    "collapsed": true
   },
   "outputs": [],
   "source": [
    "t = fg.toposort()"
   ]
  },
  {
   "cell_type": "code",
   "execution_count": 74,
   "metadata": {
    "collapsed": false
   },
   "outputs": [],
   "source": [
    "a, b = t[0].inputs"
   ]
  },
  {
   "cell_type": "code",
   "execution_count": 76,
   "metadata": {
    "collapsed": true
   },
   "outputs": [],
   "source": [
    "b.owner"
   ]
  },
  {
   "cell_type": "code",
   "execution_count": 63,
   "metadata": {
    "collapsed": false
   },
   "outputs": [],
   "source": [
    "h = fg.inputs[0]"
   ]
  },
  {
   "cell_type": "code",
   "execution_count": 67,
   "metadata": {
    "collapsed": false
   },
   "outputs": [
    {
     "ename": "AttributeError",
     "evalue": "'TensorVariable' object has no attribute '__'",
     "output_type": "error",
     "traceback": [
      "\u001b[0;31m---------------------------------------------------------------------------\u001b[0m",
      "\u001b[0;31mAttributeError\u001b[0m                            Traceback (most recent call last)",
      "\u001b[0;32m<ipython-input-67-476d32041683>\u001b[0m in \u001b[0;36m<module>\u001b[0;34m()\u001b[0m\n\u001b[0;32m----> 1\u001b[0;31m \u001b[0mh\u001b[0m\u001b[0;34m.\u001b[0m\u001b[0m__\u001b[0m\u001b[0;34m\u001b[0m\u001b[0m\n\u001b[0m",
      "\u001b[0;31mAttributeError\u001b[0m: 'TensorVariable' object has no attribute '__'"
     ]
    }
   ],
   "source": [
    "h.__"
   ]
  },
  {
   "cell_type": "code",
   "execution_count": null,
   "metadata": {
    "collapsed": true
   },
   "outputs": [],
   "source": []
  },
  {
   "cell_type": "code",
   "execution_count": 14,
   "metadata": {
    "collapsed": false
   },
   "outputs": [
    {
     "data": {
      "image/svg+xml": [
       "<svg height=\"220pt\" viewBox=\"0.00 0.00 722.00 220.00\" width=\"722pt\" xmlns=\"http://www.w3.org/2000/svg\" xmlns:xlink=\"http://www.w3.org/1999/xlink\">\n",
       "<g class=\"graph\" id=\"graph0\" transform=\"scale(1 1) rotate(0) translate(4 216)\">\n",
       "<title>G</title>\n",
       "<polygon fill=\"white\" points=\"-4,4 -4,-216 718,-216 718,4 -4,4\" stroke=\"none\"/>\n",
       "<!-- _1 -->\n",
       "<g class=\"node\" id=\"node1\"><title>_1</title>\n",
       "<ellipse cx=\"349\" cy=\"-106\" fill=\"#ffaabb\" rx=\"155.005\" ry=\"18\" stroke=\"black\"/>\n",
       "<text font-family=\"Times,serif\" font-size=\"14.00\" text-anchor=\"middle\" x=\"349\" y=\"-102.3\">Elemwise{Composite{(i0 + (i1 * i2))}}</text>\n",
       "</g>\n",
       "<!-- _5 -->\n",
       "<g class=\"node\" id=\"node5\"><title>_5</title>\n",
       "<polygon fill=\"dodgerblue\" points=\"435,-36 263,-36 263,-0 435,-0 435,-36\" stroke=\"black\"/>\n",
       "<text font-family=\"Times,serif\" font-size=\"14.00\" text-anchor=\"middle\" x=\"349\" y=\"-14.3\">TensorType(float32, scalar)</text>\n",
       "</g>\n",
       "<!-- _1&#45;&gt;_5 -->\n",
       "<g class=\"edge\" id=\"edge4\"><title>_1-&gt;_5</title>\n",
       "<path d=\"M349,-87.5966C349,-75.7459 349,-59.8169 349,-46.2917\" fill=\"none\" stroke=\"black\"/>\n",
       "<polygon fill=\"black\" points=\"352.5,-46.084 349,-36.084 345.5,-46.084 352.5,-46.084\" stroke=\"black\"/>\n",
       "<text font-family=\"Times,serif\" font-size=\"14.00\" text-anchor=\"middle\" x=\"427\" y=\"-58.3\">TensorType(float32, scalar)</text>\n",
       "</g>\n",
       "<!-- _2 -->\n",
       "<g class=\"node\" id=\"node2\"><title>_2</title>\n",
       "<polygon fill=\"limegreen\" points=\"220.25,-212 -0.25,-212 -0.25,-176 220.25,-176 220.25,-212\" stroke=\"black\"/>\n",
       "<text font-family=\"Times,serif\" font-size=\"14.00\" text-anchor=\"middle\" x=\"110\" y=\"-190.3\">name=x TensorType(float32, scalar)</text>\n",
       "</g>\n",
       "<!-- _2&#45;&gt;_1 -->\n",
       "<g class=\"edge\" id=\"edge1\"><title>_2-&gt;_1</title>\n",
       "<path d=\"M128.186,-175.807C141.119,-164.521 159.428,-150.354 178,-142 197.086,-133.415 218.319,-126.915 239.152,-121.999\" fill=\"none\" stroke=\"black\"/>\n",
       "<polygon fill=\"black\" points=\"240.022,-125.391 249.01,-119.781 238.486,-118.562 240.022,-125.391\" stroke=\"black\"/>\n",
       "<text font-family=\"Times,serif\" font-size=\"14.00\" text-anchor=\"middle\" x=\"261.5\" y=\"-146.3\">0 TensorType(float32, scalar)</text>\n",
       "</g>\n",
       "<!-- _3 -->\n",
       "<g class=\"node\" id=\"node3\"><title>_3</title>\n",
       "<polygon fill=\"limegreen\" points=\"459.25,-212 238.75,-212 238.75,-176 459.25,-176 459.25,-212\" stroke=\"black\"/>\n",
       "<text font-family=\"Times,serif\" font-size=\"14.00\" text-anchor=\"middle\" x=\"349\" y=\"-190.3\">name=y TensorType(float32, scalar)</text>\n",
       "</g>\n",
       "<!-- _3&#45;&gt;_1 -->\n",
       "<g class=\"edge\" id=\"edge2\"><title>_3-&gt;_1</title>\n",
       "<path d=\"M349,-175.597C349,-163.746 349,-147.817 349,-134.292\" fill=\"none\" stroke=\"black\"/>\n",
       "<polygon fill=\"black\" points=\"352.5,-134.084 349,-124.084 345.5,-134.084 352.5,-134.084\" stroke=\"black\"/>\n",
       "<text font-family=\"Times,serif\" font-size=\"14.00\" text-anchor=\"middle\" x=\"432.5\" y=\"-146.3\">1 TensorType(float32, scalar)</text>\n",
       "</g>\n",
       "<!-- _4 -->\n",
       "<g class=\"node\" id=\"node4\"><title>_4</title>\n",
       "<polygon fill=\"limegreen\" points=\"698,-212 478,-212 478,-176 698,-176 698,-212\" stroke=\"black\"/>\n",
       "<text font-family=\"Times,serif\" font-size=\"14.00\" text-anchor=\"middle\" x=\"588\" y=\"-190.3\">name=z TensorType(float32, scalar)</text>\n",
       "</g>\n",
       "<!-- _4&#45;&gt;_1 -->\n",
       "<g class=\"edge\" id=\"edge3\"><title>_4-&gt;_1</title>\n",
       "<path d=\"M569.814,-175.807C556.881,-164.521 538.572,-150.354 520,-142 500.914,-133.415 479.681,-126.915 458.848,-121.999\" fill=\"none\" stroke=\"black\"/>\n",
       "<polygon fill=\"black\" points=\"459.514,-118.562 448.99,-119.781 457.978,-125.391 459.514,-118.562\" stroke=\"black\"/>\n",
       "<text font-family=\"Times,serif\" font-size=\"14.00\" text-anchor=\"middle\" x=\"630.5\" y=\"-146.3\">2 TensorType(float32, scalar)</text>\n",
       "</g>\n",
       "</g>\n",
       "</svg>"
      ],
      "text/plain": [
       "<IPython.core.display.SVG object>"
      ]
     },
     "execution_count": 14,
     "metadata": {},
     "output_type": "execute_result"
    }
   ],
   "source": [
    "g = gf.to_pydot(topo[0].op.fn)\n",
    "SVG(g.create_svg())"
   ]
  },
  {
   "cell_type": "code",
   "execution_count": 15,
   "metadata": {
    "collapsed": false
   },
   "outputs": [
    {
     "data": {
      "image/svg+xml": [
       "<svg height=\"220pt\" viewBox=\"0.00 0.00 722.00 220.00\" width=\"722pt\" xmlns=\"http://www.w3.org/2000/svg\" xmlns:xlink=\"http://www.w3.org/1999/xlink\">\n",
       "<g class=\"graph\" id=\"graph0\" transform=\"scale(1 1) rotate(0) translate(4 216)\">\n",
       "<title>G</title>\n",
       "<polygon fill=\"white\" points=\"-4,4 -4,-216 718,-216 718,4 -4,4\" stroke=\"none\"/>\n",
       "<!-- _1 -->\n",
       "<g class=\"node\" id=\"node1\"><title>_1</title>\n",
       "<ellipse cx=\"349\" cy=\"-106\" fill=\"#ffaabb\" rx=\"155.005\" ry=\"18\" stroke=\"black\"/>\n",
       "<text font-family=\"Times,serif\" font-size=\"14.00\" text-anchor=\"middle\" x=\"349\" y=\"-102.3\">Elemwise{Composite{(i0 + (i1 * i2))}}</text>\n",
       "</g>\n",
       "<!-- _5 -->\n",
       "<g class=\"node\" id=\"node5\"><title>_5</title>\n",
       "<polygon fill=\"dodgerblue\" points=\"435,-36 263,-36 263,-0 435,-0 435,-36\" stroke=\"black\"/>\n",
       "<text font-family=\"Times,serif\" font-size=\"14.00\" text-anchor=\"middle\" x=\"349\" y=\"-14.3\">TensorType(float32, scalar)</text>\n",
       "</g>\n",
       "<!-- _1&#45;&gt;_5 -->\n",
       "<g class=\"edge\" id=\"edge4\"><title>_1-&gt;_5</title>\n",
       "<path d=\"M349,-87.5966C349,-75.7459 349,-59.8169 349,-46.2917\" fill=\"none\" stroke=\"black\"/>\n",
       "<polygon fill=\"black\" points=\"352.5,-46.084 349,-36.084 345.5,-46.084 352.5,-46.084\" stroke=\"black\"/>\n",
       "<text font-family=\"Times,serif\" font-size=\"14.00\" text-anchor=\"middle\" x=\"427\" y=\"-58.3\">TensorType(float32, scalar)</text>\n",
       "</g>\n",
       "<!-- _2 -->\n",
       "<g class=\"node\" id=\"node2\"><title>_2</title>\n",
       "<polygon fill=\"limegreen\" points=\"220.25,-212 -0.25,-212 -0.25,-176 220.25,-176 220.25,-212\" stroke=\"black\"/>\n",
       "<text font-family=\"Times,serif\" font-size=\"14.00\" text-anchor=\"middle\" x=\"110\" y=\"-190.3\">name=x TensorType(float32, scalar)</text>\n",
       "</g>\n",
       "<!-- _2&#45;&gt;_1 -->\n",
       "<g class=\"edge\" id=\"edge1\"><title>_2-&gt;_1</title>\n",
       "<path d=\"M128.186,-175.807C141.119,-164.521 159.428,-150.354 178,-142 197.086,-133.415 218.319,-126.915 239.152,-121.999\" fill=\"none\" stroke=\"black\"/>\n",
       "<polygon fill=\"black\" points=\"240.022,-125.391 249.01,-119.781 238.486,-118.562 240.022,-125.391\" stroke=\"black\"/>\n",
       "<text font-family=\"Times,serif\" font-size=\"14.00\" text-anchor=\"middle\" x=\"261.5\" y=\"-146.3\">0 TensorType(float32, scalar)</text>\n",
       "</g>\n",
       "<!-- _3 -->\n",
       "<g class=\"node\" id=\"node3\"><title>_3</title>\n",
       "<polygon fill=\"limegreen\" points=\"459.25,-212 238.75,-212 238.75,-176 459.25,-176 459.25,-212\" stroke=\"black\"/>\n",
       "<text font-family=\"Times,serif\" font-size=\"14.00\" text-anchor=\"middle\" x=\"349\" y=\"-190.3\">name=y TensorType(float32, scalar)</text>\n",
       "</g>\n",
       "<!-- _3&#45;&gt;_1 -->\n",
       "<g class=\"edge\" id=\"edge2\"><title>_3-&gt;_1</title>\n",
       "<path d=\"M349,-175.597C349,-163.746 349,-147.817 349,-134.292\" fill=\"none\" stroke=\"black\"/>\n",
       "<polygon fill=\"black\" points=\"352.5,-134.084 349,-124.084 345.5,-134.084 352.5,-134.084\" stroke=\"black\"/>\n",
       "<text font-family=\"Times,serif\" font-size=\"14.00\" text-anchor=\"middle\" x=\"432.5\" y=\"-146.3\">1 TensorType(float32, scalar)</text>\n",
       "</g>\n",
       "<!-- _4 -->\n",
       "<g class=\"node\" id=\"node4\"><title>_4</title>\n",
       "<polygon fill=\"limegreen\" points=\"698,-212 478,-212 478,-176 698,-176 698,-212\" stroke=\"black\"/>\n",
       "<text font-family=\"Times,serif\" font-size=\"14.00\" text-anchor=\"middle\" x=\"588\" y=\"-190.3\">name=z TensorType(float32, scalar)</text>\n",
       "</g>\n",
       "<!-- _4&#45;&gt;_1 -->\n",
       "<g class=\"edge\" id=\"edge3\"><title>_4-&gt;_1</title>\n",
       "<path d=\"M569.814,-175.807C556.881,-164.521 538.572,-150.354 520,-142 500.914,-133.415 479.681,-126.915 458.848,-121.999\" fill=\"none\" stroke=\"black\"/>\n",
       "<polygon fill=\"black\" points=\"459.514,-118.562 448.99,-119.781 457.978,-125.391 459.514,-118.562\" stroke=\"black\"/>\n",
       "<text font-family=\"Times,serif\" font-size=\"14.00\" text-anchor=\"middle\" x=\"630.5\" y=\"-146.3\">2 TensorType(float32, scalar)</text>\n",
       "</g>\n",
       "</g>\n",
       "</svg>"
      ],
      "text/plain": [
       "<IPython.core.display.SVG object>"
      ]
     },
     "execution_count": 15,
     "metadata": {},
     "output_type": "execute_result"
    }
   ],
   "source": [
    "g = gf.to_pydot(topo[1].op.fn)\n",
    "SVG(g.create_svg())"
   ]
  },
  {
   "cell_type": "code",
   "execution_count": 24,
   "metadata": {
    "collapsed": false
   },
   "outputs": [
    {
     "data": {
      "text/plain": [
       "[z, y, y]"
      ]
     },
     "execution_count": 24,
     "metadata": {},
     "output_type": "execute_result"
    }
   ],
   "source": [
    "topo[0].inputs"
   ]
  },
  {
   "cell_type": "code",
   "execution_count": 25,
   "metadata": {
    "collapsed": false
   },
   "outputs": [
    {
     "data": {
      "text/plain": [
       "[x, y, z]"
      ]
     },
     "execution_count": 25,
     "metadata": {},
     "output_type": "execute_result"
    }
   ],
   "source": [
    "topo[1].inputs"
   ]
  },
  {
   "cell_type": "code",
   "execution_count": 7,
   "metadata": {
    "collapsed": false
   },
   "outputs": [],
   "source": [
    "fo = of.op.fn"
   ]
  },
  {
   "cell_type": "code",
   "execution_count": 9,
   "metadata": {
    "collapsed": false
   },
   "outputs": [
    {
     "data": {
      "text/plain": [
       "[Elemwise{Composite{(i0 + (i1 * i2))}}(x, y, z)]"
      ]
     },
     "execution_count": 9,
     "metadata": {},
     "output_type": "execute_result"
    }
   ],
   "source": [
    "fo.maker.fgraph.toposort()"
   ]
  },
  {
   "cell_type": "code",
   "execution_count": 47,
   "metadata": {
    "collapsed": false
   },
   "outputs": [],
   "source": [
    "gf = d3p.GraphFormatter()\n",
    "g = gf.to_pydot(fo)"
   ]
  },
  {
   "cell_type": "code",
   "execution_count": 48,
   "metadata": {
    "collapsed": false
   },
   "outputs": [
    {
     "data": {
      "image/svg+xml": [
       "<svg height=\"220pt\" viewBox=\"0.00 0.00 722.00 220.00\" width=\"722pt\" xmlns=\"http://www.w3.org/2000/svg\" xmlns:xlink=\"http://www.w3.org/1999/xlink\">\n",
       "<g class=\"graph\" id=\"graph0\" transform=\"scale(1 1) rotate(0) translate(4 216)\">\n",
       "<title>G</title>\n",
       "<polygon fill=\"white\" points=\"-4,4 -4,-216 718,-216 718,4 -4,4\" stroke=\"none\"/>\n",
       "<!-- _1 -->\n",
       "<g class=\"node\" id=\"node1\"><title>_1</title>\n",
       "<ellipse cx=\"349\" cy=\"-106\" fill=\"#ffaabb\" rx=\"155.005\" ry=\"18\" stroke=\"black\"/>\n",
       "<text font-family=\"Times,serif\" font-size=\"14.00\" text-anchor=\"middle\" x=\"349\" y=\"-102.3\">Elemwise{Composite{(i0 + (i1 * i2))}}</text>\n",
       "</g>\n",
       "<!-- _5 -->\n",
       "<g class=\"node\" id=\"node5\"><title>_5</title>\n",
       "<polygon fill=\"dodgerblue\" points=\"435,-36 263,-36 263,-0 435,-0 435,-36\" stroke=\"black\"/>\n",
       "<text font-family=\"Times,serif\" font-size=\"14.00\" text-anchor=\"middle\" x=\"349\" y=\"-14.3\">TensorType(float64, scalar)</text>\n",
       "</g>\n",
       "<!-- _1&#45;&gt;_5 -->\n",
       "<g class=\"edge\" id=\"edge4\"><title>_1-&gt;_5</title>\n",
       "<path d=\"M349,-87.5966C349,-75.7459 349,-59.8169 349,-46.2917\" fill=\"none\" stroke=\"black\"/>\n",
       "<polygon fill=\"black\" points=\"352.5,-46.084 349,-36.084 345.5,-46.084 352.5,-46.084\" stroke=\"black\"/>\n",
       "<text font-family=\"Times,serif\" font-size=\"14.00\" text-anchor=\"middle\" x=\"427\" y=\"-58.3\">TensorType(float64, scalar)</text>\n",
       "</g>\n",
       "<!-- _2 -->\n",
       "<g class=\"node\" id=\"node2\"><title>_2</title>\n",
       "<polygon fill=\"limegreen\" points=\"220.25,-212 -0.25,-212 -0.25,-176 220.25,-176 220.25,-212\" stroke=\"black\"/>\n",
       "<text font-family=\"Times,serif\" font-size=\"14.00\" text-anchor=\"middle\" x=\"110\" y=\"-190.3\">name=x TensorType(float64, scalar)</text>\n",
       "</g>\n",
       "<!-- _2&#45;&gt;_1 -->\n",
       "<g class=\"edge\" id=\"edge1\"><title>_2-&gt;_1</title>\n",
       "<path d=\"M128.186,-175.807C141.119,-164.521 159.428,-150.354 178,-142 197.086,-133.415 218.319,-126.915 239.152,-121.999\" fill=\"none\" stroke=\"black\"/>\n",
       "<polygon fill=\"black\" points=\"240.022,-125.391 249.01,-119.781 238.486,-118.562 240.022,-125.391\" stroke=\"black\"/>\n",
       "<text font-family=\"Times,serif\" font-size=\"14.00\" text-anchor=\"middle\" x=\"261.5\" y=\"-146.3\">0 TensorType(float64, scalar)</text>\n",
       "</g>\n",
       "<!-- _3 -->\n",
       "<g class=\"node\" id=\"node3\"><title>_3</title>\n",
       "<polygon fill=\"limegreen\" points=\"459.25,-212 238.75,-212 238.75,-176 459.25,-176 459.25,-212\" stroke=\"black\"/>\n",
       "<text font-family=\"Times,serif\" font-size=\"14.00\" text-anchor=\"middle\" x=\"349\" y=\"-190.3\">name=y TensorType(float64, scalar)</text>\n",
       "</g>\n",
       "<!-- _3&#45;&gt;_1 -->\n",
       "<g class=\"edge\" id=\"edge2\"><title>_3-&gt;_1</title>\n",
       "<path d=\"M349,-175.597C349,-163.746 349,-147.817 349,-134.292\" fill=\"none\" stroke=\"black\"/>\n",
       "<polygon fill=\"black\" points=\"352.5,-134.084 349,-124.084 345.5,-134.084 352.5,-134.084\" stroke=\"black\"/>\n",
       "<text font-family=\"Times,serif\" font-size=\"14.00\" text-anchor=\"middle\" x=\"432.5\" y=\"-146.3\">1 TensorType(float64, scalar)</text>\n",
       "</g>\n",
       "<!-- _4 -->\n",
       "<g class=\"node\" id=\"node4\"><title>_4</title>\n",
       "<polygon fill=\"limegreen\" points=\"698,-212 478,-212 478,-176 698,-176 698,-212\" stroke=\"black\"/>\n",
       "<text font-family=\"Times,serif\" font-size=\"14.00\" text-anchor=\"middle\" x=\"588\" y=\"-190.3\">name=z TensorType(float64, scalar)</text>\n",
       "</g>\n",
       "<!-- _4&#45;&gt;_1 -->\n",
       "<g class=\"edge\" id=\"edge3\"><title>_4-&gt;_1</title>\n",
       "<path d=\"M569.814,-175.807C556.881,-164.521 538.572,-150.354 520,-142 500.914,-133.415 479.681,-126.915 458.848,-121.999\" fill=\"none\" stroke=\"black\"/>\n",
       "<polygon fill=\"black\" points=\"459.514,-118.562 448.99,-119.781 457.978,-125.391 459.514,-118.562\" stroke=\"black\"/>\n",
       "<text font-family=\"Times,serif\" font-size=\"14.00\" text-anchor=\"middle\" x=\"630.5\" y=\"-146.3\">2 TensorType(float64, scalar)</text>\n",
       "</g>\n",
       "</g>\n",
       "</svg>"
      ],
      "text/plain": [
       "<IPython.core.display.SVG object>"
      ]
     },
     "execution_count": 48,
     "metadata": {},
     "output_type": "execute_result"
    }
   ],
   "source": [
    "SVG(g.create_svg())"
   ]
  },
  {
   "cell_type": "markdown",
   "metadata": {},
   "source": [
    "# Example 2 "
   ]
  },
  {
   "cell_type": "code",
   "execution_count": 4,
   "metadata": {
    "collapsed": false
   },
   "outputs": [],
   "source": [
    "x, y, z = tht.scalars('xyz')\n",
    "e = x * y\n",
    "o = th.OpFromGraph([x, y], [e])\n",
    "e2 = o(x, y) + z\n",
    "o2 = th.OpFromGraph([x, y, z], [e2])\n",
    "e3 = o2(x, y, z) + z\n",
    "f = th.function([x, y, z], [e3])"
   ]
  },
  {
   "cell_type": "code",
   "execution_count": 11,
   "metadata": {
    "collapsed": true
   },
   "outputs": [],
   "source": [
    "topo = f.maker.fgraph.toposort()"
   ]
  },
  {
   "cell_type": "code",
   "execution_count": 14,
   "metadata": {
    "collapsed": false
   },
   "outputs": [],
   "source": [
    "of = topo[0]"
   ]
  },
  {
   "cell_type": "code",
   "execution_count": 29,
   "metadata": {
    "collapsed": false
   },
   "outputs": [],
   "source": [
    "ofo = of.op"
   ]
  },
  {
   "cell_type": "code",
   "execution_count": 32,
   "metadata": {
    "collapsed": true
   },
   "outputs": [],
   "source": [
    "gf = d3p.GraphFormatter()"
   ]
  },
  {
   "cell_type": "code",
   "execution_count": 33,
   "metadata": {
    "collapsed": false
   },
   "outputs": [],
   "source": [
    "g = gf.to_pydot(ofo.fn.maker.fgraph)"
   ]
  },
  {
   "cell_type": "code",
   "execution_count": 34,
   "metadata": {
    "collapsed": false
   },
   "outputs": [
    {
     "data": {
      "image/svg+xml": [
       "<svg height=\"259pt\" viewBox=\"0.00 0.00 1212.00 259.00\" width=\"1212pt\" xmlns=\"http://www.w3.org/2000/svg\" xmlns:xlink=\"http://www.w3.org/1999/xlink\">\n",
       "<g class=\"graph\" id=\"graph0\" transform=\"scale(1 1) rotate(0) translate(4 255)\">\n",
       "<title>G</title>\n",
       "<polygon fill=\"white\" points=\"-4,4 -4,-255 1208,-255 1208,4 -4,4\" stroke=\"none\"/>\n",
       "<g class=\"cluster\" id=\"clust1\"><title>cluster__1</title>\n",
       "<polygon fill=\"none\" points=\"8,-168 8,-243 485,-243 485,-168 8,-168\" stroke=\"black\"/>\n",
       "<text font-family=\"Times,serif\" font-size=\"14.00\" text-anchor=\"middle\" x=\"246.5\" y=\"-227.8\">theano.compile.builders.OpFromGraph object at 0x10eff0410</text>\n",
       "</g>\n",
       "<!-- _2 -->\n",
       "<g class=\"node\" id=\"node1\"><title>_2</title>\n",
       "<polygon fill=\"limegreen\" points=\"476.25,-212 255.75,-212 255.75,-176 476.25,-176 476.25,-212\" stroke=\"black\"/>\n",
       "<text font-family=\"Times,serif\" font-size=\"14.00\" text-anchor=\"middle\" x=\"366\" y=\"-190.3\">name=x TensorType(float64, scalar)</text>\n",
       "</g>\n",
       "<!-- _3 -->\n",
       "<g class=\"node\" id=\"node2\"><title>_3</title>\n",
       "<polygon fill=\"limegreen\" points=\"237.25,-212 16.75,-212 16.75,-176 237.25,-176 237.25,-212\" stroke=\"black\"/>\n",
       "<text font-family=\"Times,serif\" font-size=\"14.00\" text-anchor=\"middle\" x=\"127\" y=\"-190.3\">name=y TensorType(float64, scalar)</text>\n",
       "</g>\n",
       "<!-- _1 -->\n",
       "<g class=\"node\" id=\"node3\"><title>_1</title>\n",
       "<ellipse cx=\"730\" cy=\"-194\" fill=\"none\" rx=\"235.394\" ry=\"18\" stroke=\"black\"/>\n",
       "<text font-family=\"Times,serif\" font-size=\"14.00\" text-anchor=\"middle\" x=\"730\" y=\"-190.3\">theano.compile.builders.OpFromGraph object at 0x10eff0410</text>\n",
       "</g>\n",
       "<!-- _4 -->\n",
       "<g class=\"node\" id=\"node4\"><title>_4</title>\n",
       "<ellipse cx=\"912\" cy=\"-106\" fill=\"#ffaabb\" rx=\"96.2631\" ry=\"18\" stroke=\"black\"/>\n",
       "<text font-family=\"Times,serif\" font-size=\"14.00\" text-anchor=\"middle\" x=\"912\" y=\"-102.3\">Elemwise{Add}[(0, 0)]</text>\n",
       "</g>\n",
       "<!-- _1&#45;&gt;_4 -->\n",
       "<g class=\"edge\" id=\"edge1\"><title>_1-&gt;_4</title>\n",
       "<path d=\"M765.957,-176.009C795.53,-162.035 837.526,-142.191 868.899,-127.367\" fill=\"none\" stroke=\"red\"/>\n",
       "<polygon fill=\"red\" points=\"870.722,-130.376 878.269,-122.939 867.732,-124.047 870.722,-130.376\" stroke=\"red\"/>\n",
       "<text font-family=\"Times,serif\" font-size=\"14.00\" text-anchor=\"middle\" x=\"921.5\" y=\"-146.3\">0 TensorType(float64, scalar)</text>\n",
       "</g>\n",
       "<!-- _6 -->\n",
       "<g class=\"node\" id=\"node6\"><title>_6</title>\n",
       "<polygon fill=\"dodgerblue\" points=\"1012.25,-36 811.75,-36 811.75,-0 1012.25,-0 1012.25,-36\" stroke=\"black\"/>\n",
       "<text font-family=\"Times,serif\" font-size=\"14.00\" text-anchor=\"middle\" x=\"912\" y=\"-14.3\">TensorType(float64, scalar) id=4</text>\n",
       "</g>\n",
       "<!-- _4&#45;&gt;_6 -->\n",
       "<g class=\"edge\" id=\"edge3\"><title>_4-&gt;_6</title>\n",
       "<path d=\"M912,-87.5966C912,-75.7459 912,-59.8169 912,-46.2917\" fill=\"none\" stroke=\"black\"/>\n",
       "<polygon fill=\"black\" points=\"915.5,-46.084 912,-36.084 908.5,-46.084 915.5,-46.084\" stroke=\"black\"/>\n",
       "<text font-family=\"Times,serif\" font-size=\"14.00\" text-anchor=\"middle\" x=\"990\" y=\"-58.3\">TensorType(float64, scalar)</text>\n",
       "</g>\n",
       "<!-- _5 -->\n",
       "<g class=\"node\" id=\"node5\"><title>_5</title>\n",
       "<polygon fill=\"limegreen\" points=\"1204,-212 984,-212 984,-176 1204,-176 1204,-212\" stroke=\"black\"/>\n",
       "<text font-family=\"Times,serif\" font-size=\"14.00\" text-anchor=\"middle\" x=\"1094\" y=\"-190.3\">name=z TensorType(float64, scalar)</text>\n",
       "</g>\n",
       "<!-- _5&#45;&gt;_4 -->\n",
       "<g class=\"edge\" id=\"edge2\"><title>_5-&gt;_4</title>\n",
       "<path d=\"M1068.31,-175.793C1051.81,-165.201 1029.68,-151.818 1009,-142 996.117,-135.882 981.858,-130.182 968.328,-125.233\" fill=\"none\" stroke=\"black\"/>\n",
       "<polygon fill=\"black\" points=\"969.23,-121.838 958.635,-121.767 966.873,-128.43 969.23,-121.838\" stroke=\"black\"/>\n",
       "<text font-family=\"Times,serif\" font-size=\"14.00\" text-anchor=\"middle\" x=\"1120.5\" y=\"-146.3\">1 TensorType(float64, scalar)</text>\n",
       "</g>\n",
       "</g>\n",
       "</svg>"
      ],
      "text/plain": [
       "<IPython.core.display.SVG object>"
      ]
     },
     "execution_count": 34,
     "metadata": {},
     "output_type": "execute_result"
    }
   ],
   "source": [
    "SVG(g.create_svg())"
   ]
  },
  {
   "cell_type": "code",
   "execution_count": null,
   "metadata": {
    "collapsed": true
   },
   "outputs": [],
   "source": []
  }
 ],
 "metadata": {
  "kernelspec": {
   "display_name": "Python 2",
   "language": "python",
   "name": "python2"
  },
  "language_info": {
   "codemirror_mode": {
    "name": "ipython",
    "version": 2
   },
   "file_extension": ".py",
   "mimetype": "text/x-python",
   "name": "python",
   "nbconvert_exporter": "python",
   "pygments_lexer": "ipython2",
   "version": "2.7.10"
  }
 },
 "nbformat": 4,
 "nbformat_minor": 0
}
