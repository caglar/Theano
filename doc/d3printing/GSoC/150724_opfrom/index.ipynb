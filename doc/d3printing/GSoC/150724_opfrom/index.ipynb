{
 "cells": [
  {
   "cell_type": "code",
   "execution_count": 1,
   "metadata": {
    "collapsed": false
   },
   "outputs": [],
   "source": [
    "import numpy as np\n",
    "from IPython.display import SVG"
   ]
  },
  {
   "cell_type": "code",
   "execution_count": 2,
   "metadata": {
    "collapsed": false
   },
   "outputs": [],
   "source": [
    "%load_ext autoreload\n",
    "%autoreload 2"
   ]
  },
  {
   "cell_type": "code",
   "execution_count": 3,
   "metadata": {
    "collapsed": false
   },
   "outputs": [
    {
     "name": "stdout",
     "output_type": "stream",
     "text": [
      "Couldn't import dot_parser, loading of dot files will not be possible.\n"
     ]
    }
   ],
   "source": [
    "import theano as th\n",
    "import theano.tensor as tht\n",
    "import theano.printing as thp\n",
    "import theano.d3printing as d3p"
   ]
  },
  {
   "cell_type": "code",
   "execution_count": 4,
   "metadata": {
    "collapsed": true
   },
   "outputs": [],
   "source": [
    "def viz_ofg(ofg):\n",
    "    fo = ofg.op.fn\n",
    "    gf = d3p.GraphFormatter()\n",
    "    g = gf.to_pydot(fo)\n",
    "    return g.create_svg()"
   ]
  },
  {
   "cell_type": "markdown",
   "metadata": {},
   "source": [
    "# Example 1"
   ]
  },
  {
   "cell_type": "code",
   "execution_count": 27,
   "metadata": {
    "collapsed": false
   },
   "outputs": [],
   "source": [
    "x, y, z = tht.scalars('xyz')\n",
    "e = x + y * z\n",
    "o = th.OpFromGraph([x, y, z], [e])\n",
    "e2 = o(x, y, z) + o(z, y, y)\n",
    "f = th.function([x, y, z], [e2])"
   ]
  },
  {
   "cell_type": "code",
   "execution_count": 12,
   "metadata": {
    "collapsed": false
   },
   "outputs": [],
   "source": [
    "d3p.d3print(f, 'example1/index.html')"
   ]
  },
  {
   "cell_type": "markdown",
   "metadata": {},
   "source": [
    "[Open](./example1/index.html)"
   ]
  },
  {
   "cell_type": "markdown",
   "metadata": {},
   "source": [
    "## OFG node 1"
   ]
  },
  {
   "cell_type": "code",
   "execution_count": 6,
   "metadata": {
    "collapsed": false
   },
   "outputs": [
    {
     "data": {
      "image/svg+xml": [
       "<svg height=\"220pt\" viewBox=\"0.00 0.00 722.00 220.00\" width=\"722pt\" xmlns=\"http://www.w3.org/2000/svg\" xmlns:xlink=\"http://www.w3.org/1999/xlink\">\n",
       "<g class=\"graph\" id=\"graph0\" transform=\"scale(1 1) rotate(0) translate(4 216)\">\n",
       "<title>G</title>\n",
       "<polygon fill=\"white\" points=\"-4,4 -4,-216 718,-216 718,4 -4,4\" stroke=\"none\"/>\n",
       "<!-- _1 -->\n",
       "<g class=\"node\" id=\"node1\"><title>_1</title>\n",
       "<ellipse cx=\"349\" cy=\"-106\" fill=\"#ffaabb\" rx=\"155.005\" ry=\"18\" stroke=\"black\"/>\n",
       "<text font-family=\"Times,serif\" font-size=\"14.00\" text-anchor=\"middle\" x=\"349\" y=\"-102.3\">Elemwise{Composite{(i0 + (i1 * i2))}}</text>\n",
       "</g>\n",
       "<!-- _5 -->\n",
       "<g class=\"node\" id=\"node5\"><title>_5</title>\n",
       "<polygon fill=\"dodgerblue\" points=\"435,-36 263,-36 263,-0 435,-0 435,-36\" stroke=\"black\"/>\n",
       "<text font-family=\"Times,serif\" font-size=\"14.00\" text-anchor=\"middle\" x=\"349\" y=\"-14.3\">TensorType(float64, scalar)</text>\n",
       "</g>\n",
       "<!-- _1&#45;&gt;_5 -->\n",
       "<g class=\"edge\" id=\"edge4\"><title>_1-&gt;_5</title>\n",
       "<path d=\"M349,-87.5966C349,-75.7459 349,-59.8169 349,-46.2917\" fill=\"none\" stroke=\"black\"/>\n",
       "<polygon fill=\"black\" points=\"352.5,-46.084 349,-36.084 345.5,-46.084 352.5,-46.084\" stroke=\"black\"/>\n",
       "<text font-family=\"Times,serif\" font-size=\"14.00\" text-anchor=\"middle\" x=\"427\" y=\"-58.3\">TensorType(float64, scalar)</text>\n",
       "</g>\n",
       "<!-- _2 -->\n",
       "<g class=\"node\" id=\"node2\"><title>_2</title>\n",
       "<polygon fill=\"limegreen\" points=\"220.25,-212 -0.25,-212 -0.25,-176 220.25,-176 220.25,-212\" stroke=\"black\"/>\n",
       "<text font-family=\"Times,serif\" font-size=\"14.00\" text-anchor=\"middle\" x=\"110\" y=\"-190.3\">name=x TensorType(float64, scalar)</text>\n",
       "</g>\n",
       "<!-- _2&#45;&gt;_1 -->\n",
       "<g class=\"edge\" id=\"edge1\"><title>_2-&gt;_1</title>\n",
       "<path d=\"M128.186,-175.807C141.119,-164.521 159.428,-150.354 178,-142 197.086,-133.415 218.319,-126.915 239.152,-121.999\" fill=\"none\" stroke=\"black\"/>\n",
       "<polygon fill=\"black\" points=\"240.022,-125.391 249.01,-119.781 238.486,-118.562 240.022,-125.391\" stroke=\"black\"/>\n",
       "<text font-family=\"Times,serif\" font-size=\"14.00\" text-anchor=\"middle\" x=\"261.5\" y=\"-146.3\">0 TensorType(float64, scalar)</text>\n",
       "</g>\n",
       "<!-- _3 -->\n",
       "<g class=\"node\" id=\"node3\"><title>_3</title>\n",
       "<polygon fill=\"limegreen\" points=\"459.25,-212 238.75,-212 238.75,-176 459.25,-176 459.25,-212\" stroke=\"black\"/>\n",
       "<text font-family=\"Times,serif\" font-size=\"14.00\" text-anchor=\"middle\" x=\"349\" y=\"-190.3\">name=y TensorType(float64, scalar)</text>\n",
       "</g>\n",
       "<!-- _3&#45;&gt;_1 -->\n",
       "<g class=\"edge\" id=\"edge2\"><title>_3-&gt;_1</title>\n",
       "<path d=\"M349,-175.597C349,-163.746 349,-147.817 349,-134.292\" fill=\"none\" stroke=\"black\"/>\n",
       "<polygon fill=\"black\" points=\"352.5,-134.084 349,-124.084 345.5,-134.084 352.5,-134.084\" stroke=\"black\"/>\n",
       "<text font-family=\"Times,serif\" font-size=\"14.00\" text-anchor=\"middle\" x=\"432.5\" y=\"-146.3\">1 TensorType(float64, scalar)</text>\n",
       "</g>\n",
       "<!-- _4 -->\n",
       "<g class=\"node\" id=\"node4\"><title>_4</title>\n",
       "<polygon fill=\"limegreen\" points=\"698,-212 478,-212 478,-176 698,-176 698,-212\" stroke=\"black\"/>\n",
       "<text font-family=\"Times,serif\" font-size=\"14.00\" text-anchor=\"middle\" x=\"588\" y=\"-190.3\">name=z TensorType(float64, scalar)</text>\n",
       "</g>\n",
       "<!-- _4&#45;&gt;_1 -->\n",
       "<g class=\"edge\" id=\"edge3\"><title>_4-&gt;_1</title>\n",
       "<path d=\"M569.814,-175.807C556.881,-164.521 538.572,-150.354 520,-142 500.914,-133.415 479.681,-126.915 458.848,-121.999\" fill=\"none\" stroke=\"black\"/>\n",
       "<polygon fill=\"black\" points=\"459.514,-118.562 448.99,-119.781 457.978,-125.391 459.514,-118.562\" stroke=\"black\"/>\n",
       "<text font-family=\"Times,serif\" font-size=\"14.00\" text-anchor=\"middle\" x=\"630.5\" y=\"-146.3\">2 TensorType(float64, scalar)</text>\n",
       "</g>\n",
       "</g>\n",
       "</svg>"
      ],
      "text/plain": [
       "<IPython.core.display.SVG object>"
      ]
     },
     "execution_count": 6,
     "metadata": {},
     "output_type": "execute_result"
    }
   ],
   "source": [
    "SVG(viz_ofg(f.maker.fgraph.toposort()[0]))"
   ]
  },
  {
   "cell_type": "markdown",
   "metadata": {},
   "source": [
    "## OFG node 2"
   ]
  },
  {
   "cell_type": "code",
   "execution_count": 15,
   "metadata": {
    "collapsed": false
   },
   "outputs": [
    {
     "data": {
      "image/svg+xml": [
       "<svg height=\"220pt\" viewBox=\"0.00 0.00 722.00 220.00\" width=\"722pt\" xmlns=\"http://www.w3.org/2000/svg\" xmlns:xlink=\"http://www.w3.org/1999/xlink\">\n",
       "<g class=\"graph\" id=\"graph0\" transform=\"scale(1 1) rotate(0) translate(4 216)\">\n",
       "<title>G</title>\n",
       "<polygon fill=\"white\" points=\"-4,4 -4,-216 718,-216 718,4 -4,4\" stroke=\"none\"/>\n",
       "<!-- _1 -->\n",
       "<g class=\"node\" id=\"node1\"><title>_1</title>\n",
       "<ellipse cx=\"349\" cy=\"-106\" fill=\"#ffaabb\" rx=\"155.005\" ry=\"18\" stroke=\"black\"/>\n",
       "<text font-family=\"Times,serif\" font-size=\"14.00\" text-anchor=\"middle\" x=\"349\" y=\"-102.3\">Elemwise{Composite{(i0 + (i1 * i2))}}</text>\n",
       "</g>\n",
       "<!-- _5 -->\n",
       "<g class=\"node\" id=\"node5\"><title>_5</title>\n",
       "<polygon fill=\"dodgerblue\" points=\"435,-36 263,-36 263,-0 435,-0 435,-36\" stroke=\"black\"/>\n",
       "<text font-family=\"Times,serif\" font-size=\"14.00\" text-anchor=\"middle\" x=\"349\" y=\"-14.3\">TensorType(float64, scalar)</text>\n",
       "</g>\n",
       "<!-- _1&#45;&gt;_5 -->\n",
       "<g class=\"edge\" id=\"edge4\"><title>_1-&gt;_5</title>\n",
       "<path d=\"M349,-87.5966C349,-75.7459 349,-59.8169 349,-46.2917\" fill=\"none\" stroke=\"black\"/>\n",
       "<polygon fill=\"black\" points=\"352.5,-46.084 349,-36.084 345.5,-46.084 352.5,-46.084\" stroke=\"black\"/>\n",
       "<text font-family=\"Times,serif\" font-size=\"14.00\" text-anchor=\"middle\" x=\"427\" y=\"-58.3\">TensorType(float64, scalar)</text>\n",
       "</g>\n",
       "<!-- _2 -->\n",
       "<g class=\"node\" id=\"node2\"><title>_2</title>\n",
       "<polygon fill=\"limegreen\" points=\"220.25,-212 -0.25,-212 -0.25,-176 220.25,-176 220.25,-212\" stroke=\"black\"/>\n",
       "<text font-family=\"Times,serif\" font-size=\"14.00\" text-anchor=\"middle\" x=\"110\" y=\"-190.3\">name=x TensorType(float64, scalar)</text>\n",
       "</g>\n",
       "<!-- _2&#45;&gt;_1 -->\n",
       "<g class=\"edge\" id=\"edge1\"><title>_2-&gt;_1</title>\n",
       "<path d=\"M128.186,-175.807C141.119,-164.521 159.428,-150.354 178,-142 197.086,-133.415 218.319,-126.915 239.152,-121.999\" fill=\"none\" stroke=\"black\"/>\n",
       "<polygon fill=\"black\" points=\"240.022,-125.391 249.01,-119.781 238.486,-118.562 240.022,-125.391\" stroke=\"black\"/>\n",
       "<text font-family=\"Times,serif\" font-size=\"14.00\" text-anchor=\"middle\" x=\"261.5\" y=\"-146.3\">0 TensorType(float64, scalar)</text>\n",
       "</g>\n",
       "<!-- _3 -->\n",
       "<g class=\"node\" id=\"node3\"><title>_3</title>\n",
       "<polygon fill=\"limegreen\" points=\"459.25,-212 238.75,-212 238.75,-176 459.25,-176 459.25,-212\" stroke=\"black\"/>\n",
       "<text font-family=\"Times,serif\" font-size=\"14.00\" text-anchor=\"middle\" x=\"349\" y=\"-190.3\">name=y TensorType(float64, scalar)</text>\n",
       "</g>\n",
       "<!-- _3&#45;&gt;_1 -->\n",
       "<g class=\"edge\" id=\"edge2\"><title>_3-&gt;_1</title>\n",
       "<path d=\"M349,-175.597C349,-163.746 349,-147.817 349,-134.292\" fill=\"none\" stroke=\"black\"/>\n",
       "<polygon fill=\"black\" points=\"352.5,-134.084 349,-124.084 345.5,-134.084 352.5,-134.084\" stroke=\"black\"/>\n",
       "<text font-family=\"Times,serif\" font-size=\"14.00\" text-anchor=\"middle\" x=\"432.5\" y=\"-146.3\">1 TensorType(float64, scalar)</text>\n",
       "</g>\n",
       "<!-- _4 -->\n",
       "<g class=\"node\" id=\"node4\"><title>_4</title>\n",
       "<polygon fill=\"limegreen\" points=\"698,-212 478,-212 478,-176 698,-176 698,-212\" stroke=\"black\"/>\n",
       "<text font-family=\"Times,serif\" font-size=\"14.00\" text-anchor=\"middle\" x=\"588\" y=\"-190.3\">name=z TensorType(float64, scalar)</text>\n",
       "</g>\n",
       "<!-- _4&#45;&gt;_1 -->\n",
       "<g class=\"edge\" id=\"edge3\"><title>_4-&gt;_1</title>\n",
       "<path d=\"M569.814,-175.807C556.881,-164.521 538.572,-150.354 520,-142 500.914,-133.415 479.681,-126.915 458.848,-121.999\" fill=\"none\" stroke=\"black\"/>\n",
       "<polygon fill=\"black\" points=\"459.514,-118.562 448.99,-119.781 457.978,-125.391 459.514,-118.562\" stroke=\"black\"/>\n",
       "<text font-family=\"Times,serif\" font-size=\"14.00\" text-anchor=\"middle\" x=\"630.5\" y=\"-146.3\">2 TensorType(float64, scalar)</text>\n",
       "</g>\n",
       "</g>\n",
       "</svg>"
      ],
      "text/plain": [
       "<IPython.core.display.SVG object>"
      ]
     },
     "execution_count": 15,
     "metadata": {},
     "output_type": "execute_result"
    }
   ],
   "source": [
    "SVG(viz_ofg(f.maker.fgraph.toposort()[1]))"
   ]
  },
  {
   "cell_type": "code",
   "execution_count": 30,
   "metadata": {
    "collapsed": true
   },
   "outputs": [],
   "source": [
    "ofg2 = f.maker.fgraph.toposort()[1]"
   ]
  },
  {
   "cell_type": "code",
   "execution_count": 31,
   "metadata": {
    "collapsed": false
   },
   "outputs": [
    {
     "data": {
      "text/plain": [
       "[x, y, z]"
      ]
     },
     "execution_count": 31,
     "metadata": {},
     "output_type": "execute_result"
    }
   ],
   "source": [
    "ofg2.inputs"
   ]
  },
  {
   "cell_type": "code",
   "execution_count": 34,
   "metadata": {
    "collapsed": false
   },
   "outputs": [
    {
     "data": {
      "text/plain": [
       "[Elemwise{Composite{(i0 + (i1 * i2))}}(x, y, z)]"
      ]
     },
     "execution_count": 34,
     "metadata": {},
     "output_type": "execute_result"
    }
   ],
   "source": [
    "ofg2.op.fn.maker.fgraph.toposort()"
   ]
  },
  {
   "cell_type": "code",
   "execution_count": 35,
   "metadata": {
    "collapsed": false
   },
   "outputs": [
    {
     "data": {
      "text/plain": [
       "[x, y, z]"
      ]
     },
     "execution_count": 35,
     "metadata": {},
     "output_type": "execute_result"
    }
   ],
   "source": [
    "ofg2.op.fn.maker.fgraph.toposort()[0].inputs"
   ]
  },
  {
   "cell_type": "markdown",
   "metadata": {},
   "source": [
    "# Example 2 "
   ]
  },
  {
   "cell_type": "code",
   "execution_count": 24,
   "metadata": {
    "collapsed": false
   },
   "outputs": [],
   "source": [
    "x, y, z = tht.scalars('xyz')\n",
    "e = x * y\n",
    "o = th.OpFromGraph([x, y], [e])\n",
    "e2 = o(x, y) + z\n",
    "o2 = th.OpFromGraph([x, y, z], [e2])\n",
    "e3 = o2(x, y, z) + z\n",
    "f = th.function([x, y, z], [e3])"
   ]
  },
  {
   "cell_type": "code",
   "execution_count": 21,
   "metadata": {
    "collapsed": false
   },
   "outputs": [],
   "source": [
    "d3p.d3print(f, 'example2/index.html')"
   ]
  },
  {
   "cell_type": "markdown",
   "metadata": {},
   "source": [
    "[Open](./example2/index.html)"
   ]
  },
  {
   "cell_type": "markdown",
   "metadata": {},
   "source": [
    "## OFG node 1 "
   ]
  },
  {
   "cell_type": "code",
   "execution_count": 18,
   "metadata": {
    "collapsed": true
   },
   "outputs": [],
   "source": [
    "topo = f.maker.fgraph.toposort()"
   ]
  },
  {
   "cell_type": "code",
   "execution_count": 19,
   "metadata": {
    "collapsed": false
   },
   "outputs": [
    {
     "data": {
      "text/plain": [
       "[<theano.compile.builders.OpFromGraph object at 0x112538910>(x, y, z),\n",
       " Elemwise{Add}[(0, 0)](<theano.compile.builders.OpFromGraph object at 0x112538910>.0, z)]"
      ]
     },
     "execution_count": 19,
     "metadata": {},
     "output_type": "execute_result"
    }
   ],
   "source": [
    "topo"
   ]
  },
  {
   "cell_type": "code",
   "execution_count": 20,
   "metadata": {
    "collapsed": false
   },
   "outputs": [
    {
     "data": {
      "image/svg+xml": [
       "<svg height=\"259pt\" viewBox=\"0.00 0.00 1220.00 259.00\" width=\"1220pt\" xmlns=\"http://www.w3.org/2000/svg\" xmlns:xlink=\"http://www.w3.org/1999/xlink\">\n",
       "<g class=\"graph\" id=\"graph0\" transform=\"scale(1 1) rotate(0) translate(4 255)\">\n",
       "<title>G</title>\n",
       "<polygon fill=\"white\" points=\"-4,4 -4,-255 1216,-255 1216,4 -4,4\" stroke=\"none\"/>\n",
       "<g class=\"cluster\" id=\"clust1\"><title>cluster__1</title>\n",
       "<polygon fill=\"none\" points=\"8,-168 8,-243 485,-243 485,-168 8,-168\" stroke=\"black\"/>\n",
       "<text font-family=\"Times,serif\" font-size=\"14.00\" text-anchor=\"middle\" x=\"246.5\" y=\"-227.8\">theano.compile.builders.OpFromGraph object at 0x112538390</text>\n",
       "</g>\n",
       "<!-- _2 -->\n",
       "<g class=\"node\" id=\"node1\"><title>_2</title>\n",
       "<polygon fill=\"limegreen\" points=\"476.25,-212 255.75,-212 255.75,-176 476.25,-176 476.25,-212\" stroke=\"black\"/>\n",
       "<text font-family=\"Times,serif\" font-size=\"14.00\" text-anchor=\"middle\" x=\"366\" y=\"-190.3\">name=x TensorType(float64, scalar)</text>\n",
       "</g>\n",
       "<!-- _3 -->\n",
       "<g class=\"node\" id=\"node2\"><title>_3</title>\n",
       "<polygon fill=\"limegreen\" points=\"237.25,-212 16.75,-212 16.75,-176 237.25,-176 237.25,-212\" stroke=\"black\"/>\n",
       "<text font-family=\"Times,serif\" font-size=\"14.00\" text-anchor=\"middle\" x=\"127\" y=\"-190.3\">name=y TensorType(float64, scalar)</text>\n",
       "</g>\n",
       "<!-- _1 -->\n",
       "<g class=\"node\" id=\"node3\"><title>_1</title>\n",
       "<ellipse cx=\"734\" cy=\"-194\" fill=\"none\" rx=\"239.243\" ry=\"18\" stroke=\"black\"/>\n",
       "<text font-family=\"Times,serif\" font-size=\"14.00\" text-anchor=\"middle\" x=\"734\" y=\"-190.3\">theano.compile.builders.OpFromGraph object at 0x112538390</text>\n",
       "</g>\n",
       "<!-- _4 -->\n",
       "<g class=\"node\" id=\"node4\"><title>_4</title>\n",
       "<ellipse cx=\"918\" cy=\"-106\" fill=\"#ffaabb\" rx=\"96.2631\" ry=\"18\" stroke=\"black\"/>\n",
       "<text font-family=\"Times,serif\" font-size=\"14.00\" text-anchor=\"middle\" x=\"918\" y=\"-102.3\">Elemwise{Add}[(0, 0)]</text>\n",
       "</g>\n",
       "<!-- _1&#45;&gt;_4 -->\n",
       "<g class=\"edge\" id=\"edge1\"><title>_1-&gt;_4</title>\n",
       "<path d=\"M770.352,-176.009C800.379,-161.975 843.074,-142.02 874.835,-127.175\" fill=\"none\" stroke=\"red\"/>\n",
       "<polygon fill=\"red\" points=\"876.321,-130.344 883.898,-122.939 873.357,-124.003 876.321,-130.344\" stroke=\"red\"/>\n",
       "<text font-family=\"Times,serif\" font-size=\"14.00\" text-anchor=\"middle\" x=\"926.5\" y=\"-146.3\">0 TensorType(float64, scalar)</text>\n",
       "</g>\n",
       "<!-- _6 -->\n",
       "<g class=\"node\" id=\"node6\"><title>_6</title>\n",
       "<polygon fill=\"dodgerblue\" points=\"1018.25,-36 817.75,-36 817.75,-0 1018.25,-0 1018.25,-36\" stroke=\"black\"/>\n",
       "<text font-family=\"Times,serif\" font-size=\"14.00\" text-anchor=\"middle\" x=\"918\" y=\"-14.3\">TensorType(float64, scalar) id=4</text>\n",
       "</g>\n",
       "<!-- _4&#45;&gt;_6 -->\n",
       "<g class=\"edge\" id=\"edge3\"><title>_4-&gt;_6</title>\n",
       "<path d=\"M918,-87.5966C918,-75.7459 918,-59.8169 918,-46.2917\" fill=\"none\" stroke=\"black\"/>\n",
       "<polygon fill=\"black\" points=\"921.5,-46.084 918,-36.084 914.5,-46.084 921.5,-46.084\" stroke=\"black\"/>\n",
       "<text font-family=\"Times,serif\" font-size=\"14.00\" text-anchor=\"middle\" x=\"996\" y=\"-58.3\">TensorType(float64, scalar)</text>\n",
       "</g>\n",
       "<!-- _5 -->\n",
       "<g class=\"node\" id=\"node5\"><title>_5</title>\n",
       "<polygon fill=\"limegreen\" points=\"1212,-212 992,-212 992,-176 1212,-176 1212,-212\" stroke=\"black\"/>\n",
       "<text font-family=\"Times,serif\" font-size=\"14.00\" text-anchor=\"middle\" x=\"1102\" y=\"-190.3\">name=z TensorType(float64, scalar)</text>\n",
       "</g>\n",
       "<!-- _5&#45;&gt;_4 -->\n",
       "<g class=\"edge\" id=\"edge2\"><title>_5-&gt;_4</title>\n",
       "<path d=\"M1075.31,-175.883C1058.2,-165.325 1035.27,-151.949 1014,-142 1001.2,-136.013 987.068,-130.363 973.675,-125.42\" fill=\"none\" stroke=\"black\"/>\n",
       "<polygon fill=\"black\" points=\"974.677,-122.061 964.083,-121.951 972.296,-128.644 974.677,-122.061\" stroke=\"black\"/>\n",
       "<text font-family=\"Times,serif\" font-size=\"14.00\" text-anchor=\"middle\" x=\"1126.5\" y=\"-146.3\">1 TensorType(float64, scalar)</text>\n",
       "</g>\n",
       "</g>\n",
       "</svg>"
      ],
      "text/plain": [
       "<IPython.core.display.SVG object>"
      ]
     },
     "execution_count": 20,
     "metadata": {},
     "output_type": "execute_result"
    }
   ],
   "source": [
    "ofg1 = f.maker.fgraph.toposort()[0]\n",
    "SVG(viz_ofg(ofg1))"
   ]
  },
  {
   "cell_type": "code",
   "execution_count": 25,
   "metadata": {
    "collapsed": true
   },
   "outputs": [],
   "source": [
    "ofg2 = f.maker.fgraph.toposort()[1]"
   ]
  },
  {
   "cell_type": "code",
   "execution_count": 26,
   "metadata": {
    "collapsed": false
   },
   "outputs": [
    {
     "data": {
      "text/plain": [
       "[<theano.compile.builders.OpFromGraph object at 0x1124a4f90>.0, z]"
      ]
     },
     "execution_count": 26,
     "metadata": {},
     "output_type": "execute_result"
    }
   ],
   "source": [
    "ofg2.inputs"
   ]
  },
  {
   "cell_type": "code",
   "execution_count": 21,
   "metadata": {
    "collapsed": false
   },
   "outputs": [
    {
     "data": {
      "text/plain": [
       "[x, y, z]"
      ]
     },
     "execution_count": 21,
     "metadata": {},
     "output_type": "execute_result"
    }
   ],
   "source": [
    "ofg1.inputs"
   ]
  },
  {
   "cell_type": "markdown",
   "metadata": {},
   "source": [
    "## OFG node 2"
   ]
  },
  {
   "cell_type": "code",
   "execution_count": 46,
   "metadata": {
    "collapsed": false
   },
   "outputs": [
    {
     "data": {
      "image/svg+xml": [
       "<svg height=\"220pt\" viewBox=\"0.00 0.00 513.00 220.00\" width=\"513pt\" xmlns=\"http://www.w3.org/2000/svg\" xmlns:xlink=\"http://www.w3.org/1999/xlink\">\n",
       "<g class=\"graph\" id=\"graph0\" transform=\"scale(1 1) rotate(0) translate(4 216)\">\n",
       "<title>G</title>\n",
       "<polygon fill=\"white\" points=\"-4,4 -4,-216 509,-216 509,4 -4,4\" stroke=\"none\"/>\n",
       "<!-- _1 -->\n",
       "<g class=\"node\" id=\"node1\"><title>_1</title>\n",
       "<ellipse cx=\"229\" cy=\"-106\" fill=\"#ffaabb\" rx=\"111.186\" ry=\"18\" stroke=\"black\"/>\n",
       "<text font-family=\"Times,serif\" font-size=\"14.00\" text-anchor=\"middle\" x=\"229\" y=\"-102.3\">Elemwise{mul,no_inplace}</text>\n",
       "</g>\n",
       "<!-- _4 -->\n",
       "<g class=\"node\" id=\"node4\"><title>_4</title>\n",
       "<polygon fill=\"dodgerblue\" points=\"315,-36 143,-36 143,-0 315,-0 315,-36\" stroke=\"black\"/>\n",
       "<text font-family=\"Times,serif\" font-size=\"14.00\" text-anchor=\"middle\" x=\"229\" y=\"-14.3\">TensorType(float64, scalar)</text>\n",
       "</g>\n",
       "<!-- _1&#45;&gt;_4 -->\n",
       "<g class=\"edge\" id=\"edge3\"><title>_1-&gt;_4</title>\n",
       "<path d=\"M229,-87.5966C229,-75.7459 229,-59.8169 229,-46.2917\" fill=\"none\" stroke=\"black\"/>\n",
       "<polygon fill=\"black\" points=\"232.5,-46.084 229,-36.084 225.5,-46.084 232.5,-46.084\" stroke=\"black\"/>\n",
       "<text font-family=\"Times,serif\" font-size=\"14.00\" text-anchor=\"middle\" x=\"307\" y=\"-58.3\">TensorType(float64, scalar)</text>\n",
       "</g>\n",
       "<!-- _2 -->\n",
       "<g class=\"node\" id=\"node2\"><title>_2</title>\n",
       "<polygon fill=\"limegreen\" points=\"220.25,-212 -0.25,-212 -0.25,-176 220.25,-176 220.25,-212\" stroke=\"black\"/>\n",
       "<text font-family=\"Times,serif\" font-size=\"14.00\" text-anchor=\"middle\" x=\"110\" y=\"-190.3\">name=x TensorType(float64, scalar)</text>\n",
       "</g>\n",
       "<!-- _2&#45;&gt;_1 -->\n",
       "<g class=\"edge\" id=\"edge1\"><title>_2-&gt;_1</title>\n",
       "<path d=\"M124.112,-175.983C133.526,-165.334 146.597,-151.821 160,-142 167.085,-136.809 175.052,-131.986 182.989,-127.682\" fill=\"none\" stroke=\"black\"/>\n",
       "<polygon fill=\"black\" points=\"184.633,-130.772 191.889,-123.051 181.402,-124.562 184.633,-130.772\" stroke=\"black\"/>\n",
       "<text font-family=\"Times,serif\" font-size=\"14.00\" text-anchor=\"middle\" x=\"243.5\" y=\"-146.3\">0 TensorType(float64, scalar)</text>\n",
       "</g>\n",
       "<!-- _3 -->\n",
       "<g class=\"node\" id=\"node3\"><title>_3</title>\n",
       "<polygon fill=\"limegreen\" points=\"459.25,-212 238.75,-212 238.75,-176 459.25,-176 459.25,-212\" stroke=\"black\"/>\n",
       "<text font-family=\"Times,serif\" font-size=\"14.00\" text-anchor=\"middle\" x=\"349\" y=\"-190.3\">name=y TensorType(float64, scalar)</text>\n",
       "</g>\n",
       "<!-- _3&#45;&gt;_1 -->\n",
       "<g class=\"edge\" id=\"edge2\"><title>_3-&gt;_1</title>\n",
       "<path d=\"M345.336,-175.801C342.177,-164.804 336.566,-150.971 327,-142 319.637,-135.095 310.819,-129.537 301.533,-125.066\" fill=\"none\" stroke=\"black\"/>\n",
       "<polygon fill=\"black\" points=\"302.691,-121.753 292.126,-120.949 299.884,-128.165 302.691,-121.753\" stroke=\"black\"/>\n",
       "<text font-family=\"Times,serif\" font-size=\"14.00\" text-anchor=\"middle\" x=\"421.5\" y=\"-146.3\">1 TensorType(float64, scalar)</text>\n",
       "</g>\n",
       "</g>\n",
       "</svg>"
      ],
      "text/plain": [
       "<IPython.core.display.SVG object>"
      ]
     },
     "execution_count": 46,
     "metadata": {},
     "output_type": "execute_result"
    }
   ],
   "source": [
    "ofg2 = ofg1.op.fn.maker.fgraph.toposort()[0]\n",
    "SVG(viz_ofg(ofg2))"
   ]
  }
 ],
 "metadata": {
  "kernelspec": {
   "display_name": "Python 2",
   "language": "python",
   "name": "python2"
  },
  "language_info": {
   "codemirror_mode": {
    "name": "ipython",
    "version": 2
   },
   "file_extension": ".py",
   "mimetype": "text/x-python",
   "name": "python",
   "nbconvert_exporter": "python",
   "pygments_lexer": "ipython2",
   "version": "2.7.10"
  }
 },
 "nbformat": 4,
 "nbformat_minor": 0
}
