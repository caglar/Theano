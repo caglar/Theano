{
 "cells": [
  {
   "cell_type": "code",
   "execution_count": 9,
   "metadata": {
    "collapsed": false
   },
   "outputs": [],
   "source": [
    "import numpy\n",
    "import numpy.random as rng\n",
    "from IPython.display import SVG"
   ]
  },
  {
   "cell_type": "code",
   "execution_count": 10,
   "metadata": {
    "collapsed": false
   },
   "outputs": [
    {
     "name": "stdout",
     "output_type": "stream",
     "text": [
      "The autoreload extension is already loaded. To reload it, use:\n",
      "  %reload_ext autoreload\n"
     ]
    }
   ],
   "source": [
    "%load_ext autoreload\n",
    "%autoreload 2"
   ]
  },
  {
   "cell_type": "code",
   "execution_count": 11,
   "metadata": {
    "collapsed": false
   },
   "outputs": [],
   "source": [
    "import theano\n",
    "import theano.tensor as T\n",
    "import theano.d3printing as d3p"
   ]
  },
  {
   "cell_type": "markdown",
   "metadata": {},
   "source": [
    "# Logistic regression "
   ]
  },
  {
   "cell_type": "code",
   "execution_count": 12,
   "metadata": {
    "collapsed": false
   },
   "outputs": [],
   "source": [
    "# Training data\n",
    "N = 400\n",
    "feats = 784\n",
    "D = (rng.randn(N, feats).astype(theano.config.floatX), rng.randint(size=N,low=0, high=2).astype(theano.config.floatX))\n",
    "training_steps = 10000\n",
    "\n",
    "# Declare Theano symbolic variables\n",
    "x = T.matrix(\"x\")\n",
    "y = T.vector(\"y\")\n",
    "w = theano.shared(rng.randn(feats).astype(theano.config.floatX), name=\"w\")\n",
    "b = theano.shared(numpy.asarray(0., dtype=theano.config.floatX), name=\"b\")\n",
    "x.tag.test_value = D[0]\n",
    "y.tag.test_value = D[1]\n",
    "\n",
    "# Construct Theano expression graph\n",
    "p_1 = 1 / (1 + T.exp(-T.dot(x, w)-b)) # Probability of having a one\n",
    "prediction = p_1 > 0.5 # The prediction that is done: 0 or 1\n",
    "\n",
    "# Compute gradients\n",
    "xent = -y*T.log(p_1) - (1-y)*T.log(1-p_1) # Cross-entropy\n",
    "cost = xent.mean() + 0.01*(w**2).sum() # The cost to optimize\n",
    "gw,gb = T.grad(cost, [w,b])\n",
    "\n",
    "# Training and prediction function\n",
    "train = theano.function(inputs=[x,y], outputs=[prediction, xent],\n",
    "                        updates=[[w, w-0.01*gw], [b, b-0.01*gb]],\n",
    "                        name = \"train\", profile=True)\n",
    "predict = theano.function(inputs=[x], outputs=prediction,\n",
    "                          name = \"predict\", profile=True)"
   ]
  },
  {
   "cell_type": "markdown",
   "metadata": {},
   "source": [
    "# Example 1 "
   ]
  },
  {
   "cell_type": "code",
   "execution_count": 13,
   "metadata": {
    "collapsed": false
   },
   "outputs": [],
   "source": [
    "d3p.d3print(predict, 'example1/index.html')"
   ]
  },
  {
   "cell_type": "markdown",
   "metadata": {},
   "source": [
    "[open](./example1/index.html)"
   ]
  },
  {
   "cell_type": "markdown",
   "metadata": {},
   "source": [
    "# Example 2 "
   ]
  },
  {
   "cell_type": "code",
   "execution_count": 14,
   "metadata": {
    "collapsed": true
   },
   "outputs": [],
   "source": [
    "d3p.d3print(train, 'example2/index.html')"
   ]
  },
  {
   "cell_type": "markdown",
   "metadata": {},
   "source": [
    "[open](./example2/index.html)"
   ]
  },
  {
   "cell_type": "markdown",
   "metadata": {},
   "source": [
    "# Example 3 (profiling)"
   ]
  },
  {
   "cell_type": "code",
   "execution_count": 15,
   "metadata": {
    "collapsed": false
   },
   "outputs": [],
   "source": [
    "n = 100\n",
    "m = 50\n",
    "h = 10\n",
    "\n",
    "W = theano.shared(np.random.normal(0, 1, (m, h)).astype(theano.config.floatX), borrow=True)\n",
    "X = T.dmatrix('X')\n",
    "Z = T.nnet.sigmoid(T.dot(X, W))\n",
    "zm = T.mean(Z)\n",
    "\n",
    "predict_profiled = theano.function([X], [Z, zm], profile=True)\n",
    "data = rng.rand(n, m)\n",
    "dZ, dzm = predict_profiled(data)"
   ]
  },
  {
   "cell_type": "code",
   "execution_count": 16,
   "metadata": {
    "collapsed": false
   },
   "outputs": [],
   "source": [
    "d3p.d3print(predict_profiled, './example3/index.html')"
   ]
  },
  {
   "cell_type": "markdown",
   "metadata": {},
   "source": [
    "[open](./example3/index.html)"
   ]
  }
 ],
 "metadata": {
  "kernelspec": {
   "display_name": "Python 2",
   "language": "python",
   "name": "python2"
  },
  "language_info": {
   "codemirror_mode": {
    "name": "ipython",
    "version": 2
   },
   "file_extension": ".py",
   "mimetype": "text/x-python",
   "name": "python",
   "nbconvert_exporter": "python",
   "pygments_lexer": "ipython2",
   "version": "2.7.10"
  }
 },
 "nbformat": 4,
 "nbformat_minor": 0
}
