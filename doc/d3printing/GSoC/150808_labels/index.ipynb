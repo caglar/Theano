{
 "cells": [
  {
   "cell_type": "code",
   "execution_count": 196,
   "metadata": {
    "collapsed": true
   },
   "outputs": [],
   "source": [
    "import numpy\n",
    "import numpy.random as rng\n",
    "from IPython.display import SVG\n",
    "import pydot as pd"
   ]
  },
  {
   "cell_type": "code",
   "execution_count": 197,
   "metadata": {
    "collapsed": false
   },
   "outputs": [
    {
     "name": "stdout",
     "output_type": "stream",
     "text": [
      "The autoreload extension is already loaded. To reload it, use:\n",
      "  %reload_ext autoreload\n"
     ]
    }
   ],
   "source": [
    "%load_ext autoreload\n",
    "%autoreload 2"
   ]
  },
  {
   "cell_type": "code",
   "execution_count": 198,
   "metadata": {
    "collapsed": false
   },
   "outputs": [],
   "source": [
    "import theano\n",
    "import theano.tensor as T\n",
    "import theano.d3printing as d3p"
   ]
  },
  {
   "cell_type": "code",
   "execution_count": 199,
   "metadata": {
    "collapsed": false
   },
   "outputs": [],
   "source": [
    "# Training data\n",
    "N = 400\n",
    "feats = 784\n",
    "D = (rng.randn(N, feats).astype(theano.config.floatX), rng.randint(size=N,low=0, high=2).astype(theano.config.floatX))\n",
    "training_steps = 10000\n",
    "\n",
    "# Declare Theano symbolic variables\n",
    "x = T.matrix(\"x\")\n",
    "y = T.vector(\"y\")\n",
    "w = theano.shared(rng.randn(feats).astype(theano.config.floatX), name=\"w\")\n",
    "b = theano.shared(numpy.asarray(0., dtype=theano.config.floatX), name=\"b\")\n",
    "x.tag.test_value = D[0]\n",
    "y.tag.test_value = D[1]\n",
    "\n",
    "# Construct Theano expression graph\n",
    "p_1 = 1 / (1 + T.exp(-T.dot(x, w)-b)) # Probability of having a one\n",
    "prediction = p_1 > 0.5 # The prediction that is done: 0 or 1\n",
    "\n",
    "# Compute gradients\n",
    "xent = -y*T.log(p_1) - (1-y)*T.log(1-p_1) # Cross-entropy\n",
    "cost = xent.mean() + 0.01*(w**2).sum() # The cost to optimize\n",
    "gw,gb = T.grad(cost, [w,b])\n",
    "\n",
    "# Training and prediction function\n",
    "train = theano.function(inputs=[x,y], outputs=[prediction, xent],\n",
    "                        updates=[[w, w-0.01*gw], [b, b-0.01*gb]],\n",
    "                        name = \"train\", profile=False)\n",
    "predict = theano.function(inputs=[x], outputs=prediction,\n",
    "                          name = \"predict\", profile=False)"
   ]
  },
  {
   "cell_type": "code",
   "execution_count": 200,
   "metadata": {
    "collapsed": false
   },
   "outputs": [],
   "source": [
    "gf = d3p.GraphFormatter()\n",
    "g = gf.to_pydot(predict)"
   ]
  },
  {
   "cell_type": "code",
   "execution_count": 201,
   "metadata": {
    "collapsed": false
   },
   "outputs": [
    {
     "data": {
      "image/svg+xml": [
       "<svg height=\"484pt\" viewBox=\"0.00 0.00 1083.00 484.00\" width=\"1083pt\" xmlns=\"http://www.w3.org/2000/svg\" xmlns:xlink=\"http://www.w3.org/1999/xlink\">\n",
       "<g class=\"graph\" id=\"graph0\" transform=\"scale(1 1) rotate(0) translate(4 480)\">\n",
       "<title>G</title>\n",
       "<polygon fill=\"white\" points=\"-4,4 -4,-480 1079,-480 1079,4 -4,4\" stroke=\"none\"/>\n",
       "<!-- n1 -->\n",
       "<g class=\"node\" id=\"node1\"><title>n1</title>\n",
       "<ellipse cx=\"915\" cy=\"-194\" fill=\"none\" rx=\"92.413\" ry=\"18\" stroke=\"black\"/>\n",
       "<text font-family=\"Times,serif\" font-size=\"14.00\" text-anchor=\"middle\" x=\"915\" y=\"-190.3\">InplaceDimShuffle{x}</text>\n",
       "</g>\n",
       "<!-- n14 -->\n",
       "<g class=\"node\" id=\"node10\"><title>n14</title>\n",
       "<ellipse cx=\"616\" cy=\"-106\" fill=\"#ffaabb\" rx=\"240.218\" ry=\"18\" stroke=\"black\"/>\n",
       "<text font-family=\"Times,serif\" font-size=\"14.00\" text-anchor=\"middle\" x=\"616\" y=\"-102.3\">Elemwise{Composite{GT(scalar_sigmoid((-((-i0) - i1))), i2)}}</text>\n",
       "</g>\n",
       "<!-- n1&#45;&gt;n14 -->\n",
       "<g class=\"edge\" id=\"edge10\"><title>n1-&gt;n14</title>\n",
       "<path d=\"M882.007,-177.08C857.83,-165.943 823.965,-151.429 793,-142 770.582,-135.174 746.15,-129.348 722.797,-124.521\" fill=\"none\" stroke=\"black\"/>\n",
       "<polygon fill=\"black\" points=\"723.358,-121.064 712.863,-122.514 721.972,-127.925 723.358,-121.064\" stroke=\"black\"/>\n",
       "<text font-family=\"Times,serif\" font-size=\"14.00\" text-anchor=\"middle\" x=\"924.5\" y=\"-146.3\">1 TensorType(float32, (True,))</text>\n",
       "</g>\n",
       "<!-- n2 -->\n",
       "<g class=\"node\" id=\"node2\"><title>n2</title>\n",
       "<ellipse cx=\"921\" cy=\"-282\" fill=\"limegreen\" rx=\"27\" ry=\"18\" stroke=\"black\"/>\n",
       "<text font-family=\"Times,serif\" font-size=\"14.00\" text-anchor=\"middle\" x=\"921\" y=\"-278.3\">b</text>\n",
       "</g>\n",
       "<!-- n2&#45;&gt;n1 -->\n",
       "<g class=\"edge\" id=\"edge1\"><title>n2-&gt;n1</title>\n",
       "<path d=\"M919.815,-264.009C918.99,-252.19 917.872,-236.171 916.922,-222.542\" fill=\"none\" stroke=\"dodgerblue\"/>\n",
       "<polygon fill=\"dodgerblue\" points=\"920.391,-221.982 916.203,-212.25 913.408,-222.469 920.391,-221.982\" stroke=\"dodgerblue\"/>\n",
       "<text font-family=\"Times,serif\" font-size=\"14.00\" text-anchor=\"middle\" x=\"997\" y=\"-234.3\">TensorType(float32, scalar)</text>\n",
       "</g>\n",
       "<!-- n4 -->\n",
       "<g class=\"node\" id=\"node3\"><title>n4</title>\n",
       "<ellipse cx=\"122\" cy=\"-370\" fill=\"cyan\" rx=\"52.9443\" ry=\"18\" stroke=\"black\"/>\n",
       "<text font-family=\"Times,serif\" font-size=\"14.00\" text-anchor=\"middle\" x=\"122\" y=\"-366.3\">Shape_i{0}</text>\n",
       "</g>\n",
       "<!-- n7 -->\n",
       "<g class=\"node\" id=\"node5\"><title>n7</title>\n",
       "<ellipse cx=\"117\" cy=\"-282\" fill=\"#ffaa22\" rx=\"117.459\" ry=\"18\" stroke=\"black\"/>\n",
       "<text font-family=\"Times,serif\" font-size=\"14.00\" text-anchor=\"middle\" x=\"117\" y=\"-278.3\">AllocEmpty{dtype='float32'}</text>\n",
       "</g>\n",
       "<!-- n4&#45;&gt;n7 -->\n",
       "<g class=\"edge\" id=\"edge3\"><title>n4-&gt;n7</title>\n",
       "<path d=\"M120.988,-351.597C120.299,-339.746 119.373,-323.817 118.587,-310.292\" fill=\"none\" stroke=\"black\"/>\n",
       "<polygon fill=\"black\" points=\"122.068,-309.864 117.993,-300.084 115.08,-310.27 122.068,-309.864\" stroke=\"black\"/>\n",
       "<text font-family=\"Times,serif\" font-size=\"14.00\" text-anchor=\"middle\" x=\"193\" y=\"-322.3\">TensorType(int64, scalar)</text>\n",
       "</g>\n",
       "<!-- n5 -->\n",
       "<g class=\"node\" id=\"node4\"><title>n5</title>\n",
       "<ellipse cx=\"212\" cy=\"-458\" fill=\"limegreen\" rx=\"27\" ry=\"18\" stroke=\"black\"/>\n",
       "<text font-family=\"Times,serif\" font-size=\"14.00\" text-anchor=\"middle\" x=\"212\" y=\"-454.3\">x</text>\n",
       "</g>\n",
       "<!-- n5&#45;&gt;n4 -->\n",
       "<g class=\"edge\" id=\"edge2\"><title>n5-&gt;n4</title>\n",
       "<path d=\"M185.704,-453.69C165.909,-449.711 139.89,-440.999 126,-422 121.061,-415.245 119.216,-406.554 118.856,-398.267\" fill=\"none\" stroke=\"black\"/>\n",
       "<polygon fill=\"black\" points=\"122.358,-398.236 119.074,-388.163 115.359,-398.085 122.358,-398.236\" stroke=\"black\"/>\n",
       "<text font-family=\"Times,serif\" font-size=\"14.00\" text-anchor=\"middle\" x=\"206\" y=\"-410.3\">TensorType(float32, matrix)</text>\n",
       "</g>\n",
       "<!-- n9 -->\n",
       "<g class=\"node\" id=\"node6\"><title>n9</title>\n",
       "<ellipse cx=\"355\" cy=\"-194\" fill=\"none\" rx=\"74.1402\" ry=\"18\" stroke=\"black\"/>\n",
       "<text font-family=\"Times,serif\" font-size=\"14.00\" text-anchor=\"middle\" x=\"355\" y=\"-190.3\">CGemv{inplace}</text>\n",
       "</g>\n",
       "<!-- n5&#45;&gt;n9 -->\n",
       "<g class=\"edge\" id=\"edge6\"><title>n5-&gt;n9</title>\n",
       "<path d=\"M237.292,-451.255C253.603,-446.24 273.948,-437.292 286,-422 330.405,-365.657 294.847,-331.549 319,-264 324.293,-249.198 332.21,-233.599 339.273,-220.984\" fill=\"none\" stroke=\"black\"/>\n",
       "<polygon fill=\"black\" points=\"342.499,-222.395 344.451,-211.982 336.431,-218.906 342.499,-222.395\" stroke=\"black\"/>\n",
       "<text font-family=\"Times,serif\" font-size=\"14.00\" text-anchor=\"middle\" x=\"395\" y=\"-322.3\">2 TensorType(float32, matrix)</text>\n",
       "</g>\n",
       "<!-- n7&#45;&gt;n9 -->\n",
       "<g class=\"edge\" id=\"edge4\"><title>n7-&gt;n9</title>\n",
       "<path d=\"M111.812,-263.895C109.621,-252.937 109.129,-239.113 117,-230 136.806,-207.068 210.625,-198.888 270.862,-196.104\" fill=\"none\" stroke=\"red\"/>\n",
       "<polygon fill=\"red\" points=\"271.322,-199.588 281.167,-195.673 271.029,-192.594 271.322,-199.588\" stroke=\"red\"/>\n",
       "<text font-family=\"Times,serif\" font-size=\"14.00\" text-anchor=\"middle\" x=\"201.5\" y=\"-234.3\">0 TensorType(float32, vector)</text>\n",
       "</g>\n",
       "<!-- n9&#45;&gt;n14 -->\n",
       "<g class=\"edge\" id=\"edge9\"><title>n9-&gt;n14</title>\n",
       "<path d=\"M378.226,-176.716C395.388,-165.402 419.72,-150.827 443,-142 461.714,-134.904 482.139,-129.151 502.185,-124.517\" fill=\"none\" stroke=\"black\"/>\n",
       "<polygon fill=\"black\" points=\"502.988,-127.924 511.986,-122.331 501.464,-121.092 502.988,-127.924\" stroke=\"black\"/>\n",
       "<text font-family=\"Times,serif\" font-size=\"14.00\" text-anchor=\"middle\" x=\"527.5\" y=\"-146.3\">0 TensorType(float32, vector)</text>\n",
       "</g>\n",
       "<!-- n10 -->\n",
       "<g class=\"node\" id=\"node7\"><title>n10</title>\n",
       "<ellipse cx=\"366\" cy=\"-282\" fill=\"limegreen\" rx=\"38.0212\" ry=\"18\" stroke=\"black\"/>\n",
       "<text font-family=\"Times,serif\" font-size=\"14.00\" text-anchor=\"middle\" x=\"366\" y=\"-278.3\">val=1.0</text>\n",
       "</g>\n",
       "<!-- n10&#45;&gt;n9 -->\n",
       "<g class=\"edge\" id=\"edge5\"><title>n10-&gt;n9</title>\n",
       "<path d=\"M356.662,-264.419C353.956,-258.756 351.365,-252.267 350,-246 348.334,-238.35 348.405,-229.933 349.214,-222.181\" fill=\"none\" stroke=\"black\"/>\n",
       "<polygon fill=\"black\" points=\"352.696,-222.557 350.683,-212.155 345.77,-221.542 352.696,-222.557\" stroke=\"black\"/>\n",
       "<text font-family=\"Times,serif\" font-size=\"14.00\" text-anchor=\"middle\" x=\"433.5\" y=\"-234.3\">1 TensorType(float32, scalar)</text>\n",
       "</g>\n",
       "<!-- n11 -->\n",
       "<g class=\"node\" id=\"node8\"><title>n11</title>\n",
       "<ellipse cx=\"539\" cy=\"-282\" fill=\"limegreen\" rx=\"27\" ry=\"18\" stroke=\"black\"/>\n",
       "<text font-family=\"Times,serif\" font-size=\"14.00\" text-anchor=\"middle\" x=\"539\" y=\"-278.3\">w</text>\n",
       "</g>\n",
       "<!-- n11&#45;&gt;n9 -->\n",
       "<g class=\"edge\" id=\"edge7\"><title>n11-&gt;n9</title>\n",
       "<path d=\"M535.838,-263.869C532.869,-252.611 527.279,-238.452 517,-230 503.338,-218.766 465.436,-210.25 429.727,-204.433\" fill=\"none\" stroke=\"black\"/>\n",
       "<polygon fill=\"black\" points=\"430.157,-200.957 419.735,-202.863 429.071,-207.873 430.157,-200.957\" stroke=\"black\"/>\n",
       "<text font-family=\"Times,serif\" font-size=\"14.00\" text-anchor=\"middle\" x=\"613.5\" y=\"-234.3\">3 TensorType(float32, vector)</text>\n",
       "</g>\n",
       "<!-- n12 -->\n",
       "<g class=\"node\" id=\"node9\"><title>n12</title>\n",
       "<ellipse cx=\"731\" cy=\"-282\" fill=\"limegreen\" rx=\"38.0212\" ry=\"18\" stroke=\"black\"/>\n",
       "<text font-family=\"Times,serif\" font-size=\"14.00\" text-anchor=\"middle\" x=\"731\" y=\"-278.3\">val=0.0</text>\n",
       "</g>\n",
       "<!-- n12&#45;&gt;n9 -->\n",
       "<g class=\"edge\" id=\"edge8\"><title>n12-&gt;n9</title>\n",
       "<path d=\"M725.894,-263.868C721.503,-252.304 713.95,-237.781 702,-230 696.412,-226.362 534.134,-211.151 433.505,-202.022\" fill=\"none\" stroke=\"black\"/>\n",
       "<polygon fill=\"black\" points=\"433.639,-198.52 423.364,-201.104 433.008,-205.491 433.639,-198.52\" stroke=\"black\"/>\n",
       "<text font-family=\"Times,serif\" font-size=\"14.00\" text-anchor=\"middle\" x=\"801.5\" y=\"-234.3\">4 TensorType(float32, scalar)</text>\n",
       "</g>\n",
       "<!-- n16 -->\n",
       "<g class=\"node\" id=\"node12\"><title>n16</title>\n",
       "<polygon fill=\"dodgerblue\" points=\"694.25,-36 537.75,-36 537.75,-0 694.25,-0 694.25,-36\" stroke=\"black\"/>\n",
       "<text font-family=\"Times,serif\" font-size=\"14.00\" text-anchor=\"middle\" x=\"616\" y=\"-14.3\">TensorType(int8, vector)</text>\n",
       "</g>\n",
       "<!-- n14&#45;&gt;n16 -->\n",
       "<g class=\"edge\" id=\"edge12\"><title>n14-&gt;n16</title>\n",
       "<path d=\"M616,-87.5966C616,-75.7459 616,-59.8169 616,-46.2917\" fill=\"none\" stroke=\"black\"/>\n",
       "<polygon fill=\"black\" points=\"619.5,-46.084 616,-36.084 612.5,-46.084 619.5,-46.084\" stroke=\"black\"/>\n",
       "<text font-family=\"Times,serif\" font-size=\"14.00\" text-anchor=\"middle\" x=\"686.5\" y=\"-58.3\">TensorType(int8, vector)</text>\n",
       "</g>\n",
       "<!-- n15 -->\n",
       "<g class=\"node\" id=\"node11\"><title>n15</title>\n",
       "<ellipse cx=\"616\" cy=\"-194\" fill=\"limegreen\" rx=\"46.1964\" ry=\"18\" stroke=\"black\"/>\n",
       "<text font-family=\"Times,serif\" font-size=\"14.00\" text-anchor=\"middle\" x=\"616\" y=\"-190.3\">val=[ 0.5]</text>\n",
       "</g>\n",
       "<!-- n15&#45;&gt;n14 -->\n",
       "<g class=\"edge\" id=\"edge11\"><title>n15-&gt;n14</title>\n",
       "<path d=\"M616,-175.597C616,-163.746 616,-147.817 616,-134.292\" fill=\"none\" stroke=\"black\"/>\n",
       "<polygon fill=\"black\" points=\"619.5,-134.084 616,-124.084 612.5,-134.084 619.5,-134.084\" stroke=\"black\"/>\n",
       "<text font-family=\"Times,serif\" font-size=\"14.00\" text-anchor=\"middle\" x=\"702.5\" y=\"-146.3\">2 TensorType(float32, (True,))</text>\n",
       "</g>\n",
       "</g>\n",
       "</svg>"
      ],
      "text/plain": [
       "<IPython.core.display.SVG object>"
      ]
     },
     "execution_count": 201,
     "metadata": {},
     "output_type": "execute_result"
    }
   ],
   "source": [
    "SVG(g.create_svg())"
   ]
  },
  {
   "cell_type": "code",
   "execution_count": 202,
   "metadata": {
    "collapsed": false
   },
   "outputs": [
    {
     "data": {
      "text/plain": [
       "True"
      ]
     },
     "execution_count": 202,
     "metadata": {},
     "output_type": "execute_result"
    }
   ],
   "source": [
    "g.write_dot('./dev/graph.dot')"
   ]
  },
  {
   "cell_type": "markdown",
   "metadata": {},
   "source": [
    "# Model "
   ]
  },
  {
   "cell_type": "code",
   "execution_count": 21,
   "metadata": {
    "collapsed": false
   },
   "outputs": [],
   "source": [
    "n = 100\n",
    "m = 50\n",
    "h = 10\n",
    "\n",
    "W = theano.shared(np.random.normal(0, 1, (m, h)).astype(theano.config.floatX), borrow=True)\n",
    "X = T.dmatrix('X')\n",
    "Z = T.nnet.sigmoid(T.dot(X, W) + 10)\n",
    "zm = T.mean(Z)\n",
    "\n",
    "predict_profiled = theano.function([X], [Z, zm], profile=True)\n",
    "data = rng.rand(n, m)\n",
    "dZ, dzm = predict_profiled(data)\n",
    "\n",
    "predict_unprofiled = theano.function([X], [Z, zm], profile=False)"
   ]
  },
  {
   "cell_type": "code",
   "execution_count": 26,
   "metadata": {
    "collapsed": true
   },
   "outputs": [],
   "source": [
    "f = predict_unprofiled"
   ]
  },
  {
   "cell_type": "code",
   "execution_count": 27,
   "metadata": {
    "collapsed": true
   },
   "outputs": [],
   "source": [
    "topo = f.maker.fgraph.toposort()"
   ]
  },
  {
   "cell_type": "code",
   "execution_count": 28,
   "metadata": {
    "collapsed": false
   },
   "outputs": [
    {
     "data": {
      "text/plain": [
       "[Shape_i{1}(<TensorType(float32, matrix)>),\n",
       " Shape_i{0}(X),\n",
       " dot(X, <TensorType(float32, matrix)>),\n",
       " MakeVector(Shape_i{0}.0, Shape_i{1}.0),\n",
       " Elemwise{Composite{scalar_sigmoid((i0 + i1))}}[(0, 1)](TensorConstant{(1, 1) of 10.0}, dot.0),\n",
       " Elemwise{Cast{float64}}(MakeVector.0),\n",
       " Sum{acc_dtype=float64}(Elemwise{Composite{scalar_sigmoid((i0 + i1))}}[(0, 1)].0),\n",
       " Subtensor{int64}(Elemwise{Cast{float64}}.0, Constant{1}),\n",
       " Subtensor{int64}(Elemwise{Cast{float64}}.0, Constant{0}),\n",
       " Elemwise{Composite{((i0 / i1) / i2)}}[(0, 0)](Sum{acc_dtype=float64}.0, Subtensor{int64}.0, Subtensor{int64}.0)]"
      ]
     },
     "execution_count": 28,
     "metadata": {},
     "output_type": "execute_result"
    }
   ],
   "source": [
    "topo"
   ]
  },
  {
   "cell_type": "code",
   "execution_count": 29,
   "metadata": {
    "collapsed": true
   },
   "outputs": [],
   "source": [
    "h = topo[2]"
   ]
  },
  {
   "cell_type": "code",
   "execution_count": 31,
   "metadata": {
    "collapsed": false
   },
   "outputs": [
    {
     "data": {
      "text/plain": [
       "'dot'"
      ]
     },
     "execution_count": 31,
     "metadata": {},
     "output_type": "execute_result"
    }
   ],
   "source": [
    "str(h.op)"
   ]
  },
  {
   "cell_type": "code",
   "execution_count": 49,
   "metadata": {
    "collapsed": true
   },
   "outputs": [],
   "source": [
    "gf = d3p.GraphFormatter()"
   ]
  },
  {
   "cell_type": "code",
   "execution_count": 50,
   "metadata": {
    "collapsed": false
   },
   "outputs": [
    {
     "ename": "NameError",
     "evalue": "name 'predict_profiled' is not defined",
     "output_type": "error",
     "traceback": [
      "\u001b[0;31m---------------------------------------------------------------------------\u001b[0m",
      "\u001b[0;31mNameError\u001b[0m                                 Traceback (most recent call last)",
      "\u001b[0;32m<ipython-input-50-c56abb762f9b>\u001b[0m in \u001b[0;36m<module>\u001b[0;34m()\u001b[0m\n\u001b[0;32m----> 1\u001b[0;31m \u001b[0mg\u001b[0m \u001b[0;34m=\u001b[0m \u001b[0mgf\u001b[0m\u001b[0;34m.\u001b[0m\u001b[0mto_pydot\u001b[0m\u001b[0;34m(\u001b[0m\u001b[0mpredict_profiled\u001b[0m\u001b[0;34m)\u001b[0m\u001b[0;34m\u001b[0m\u001b[0m\n\u001b[0m",
      "\u001b[0;31mNameError\u001b[0m: name 'predict_profiled' is not defined"
     ]
    }
   ],
   "source": [
    "g = gf.to_pydot(predict_profiled)"
   ]
  },
  {
   "cell_type": "code",
   "execution_count": 25,
   "metadata": {
    "collapsed": false
   },
   "outputs": [
    {
     "data": {
      "text/plain": [
       "TensorType(float64, matrix)"
      ]
     },
     "execution_count": 25,
     "metadata": {},
     "output_type": "execute_result"
    }
   ],
   "source": [
    "X.type"
   ]
  },
  {
   "cell_type": "code",
   "execution_count": 24,
   "metadata": {
    "collapsed": false
   },
   "outputs": [
    {
     "data": {
      "image/svg+xml": [
       "<svg height=\"592pt\" viewBox=\"0.00 0.00 934.00 592.00\" width=\"934pt\" xmlns=\"http://www.w3.org/2000/svg\" xmlns:xlink=\"http://www.w3.org/1999/xlink\">\n",
       "<g class=\"graph\" id=\"graph0\" transform=\"scale(1 1) rotate(0) translate(4 588)\">\n",
       "<title>G</title>\n",
       "<polygon fill=\"white\" points=\"-4,4 -4,-588 930,-588 930,4 -4,4\" stroke=\"none\"/>\n",
       "<!-- n1 -->\n",
       "<g class=\"node\" id=\"node1\"><title>n1</title>\n",
       "<ellipse cx=\"573\" cy=\"-478\" fill=\"cyan\" rx=\"52.9443\" ry=\"18\" stroke=\"black\"/>\n",
       "<text font-family=\"Times,serif\" font-size=\"14.00\" text-anchor=\"middle\" x=\"573\" y=\"-474.3\">Shape_i{1}</text>\n",
       "</g>\n",
       "<!-- n9 -->\n",
       "<g class=\"node\" id=\"node6\"><title>n9</title>\n",
       "<ellipse cx=\"648\" cy=\"-390\" fill=\"none\" rx=\"55.3436\" ry=\"18\" stroke=\"black\"/>\n",
       "<text font-family=\"Times,serif\" font-size=\"14.00\" text-anchor=\"middle\" x=\"648\" y=\"-386.3\">MakeVector</text>\n",
       "</g>\n",
       "<!-- n1&#45;&gt;n9 -->\n",
       "<g class=\"edge\" id=\"edge6\"><title>n1-&gt;n9</title>\n",
       "<path d=\"M572.355,-459.93C572.779,-449.259 574.912,-435.743 582,-426 587.155,-418.914 594.186,-413.13 601.744,-408.455\" fill=\"none\" stroke=\"black\"/>\n",
       "<polygon fill=\"black\" points=\"603.717,-411.364 610.777,-403.465 600.332,-405.237 603.717,-411.364\" stroke=\"black\"/>\n",
       "<text font-family=\"Times,serif\" font-size=\"14.00\" text-anchor=\"middle\" x=\"660\" y=\"-430.3\">1 TensorType(int64, scalar)</text>\n",
       "</g>\n",
       "<!-- n2 -->\n",
       "<g class=\"node\" id=\"node2\"><title>n2</title>\n",
       "<polygon fill=\"limegreen\" points=\"401,-584 225,-584 225,-548 401,-548 401,-584\" stroke=\"black\"/>\n",
       "<text font-family=\"Times,serif\" font-size=\"14.00\" text-anchor=\"middle\" x=\"313\" y=\"-562.3\">TensorType(float32, matrix)</text>\n",
       "</g>\n",
       "<!-- n2&#45;&gt;n1 -->\n",
       "<g class=\"edge\" id=\"edge1\"><title>n2-&gt;n1</title>\n",
       "<path d=\"M330.813,-547.903C344.906,-534.761 363.707,-518.168 373,-514 425.821,-490.312 445.119,-506.752 502,-496 508.527,-494.766 515.357,-493.325 522.092,-491.813\" fill=\"none\" stroke=\"black\"/>\n",
       "<polygon fill=\"black\" points=\"522.889,-495.222 531.847,-489.564 521.316,-488.401 522.889,-495.222\" stroke=\"black\"/>\n",
       "<text font-family=\"Times,serif\" font-size=\"14.00\" text-anchor=\"middle\" x=\"453\" y=\"-518.3\">TensorType(float32, matrix)</text>\n",
       "</g>\n",
       "<!-- n7 -->\n",
       "<g class=\"node\" id=\"node5\"><title>n7</title>\n",
       "<ellipse cx=\"171\" cy=\"-478\" fill=\"none\" rx=\"27\" ry=\"18\" stroke=\"black\"/>\n",
       "<text font-family=\"Times,serif\" font-size=\"14.00\" text-anchor=\"middle\" x=\"171\" y=\"-474.3\">dot</text>\n",
       "</g>\n",
       "<!-- n2&#45;&gt;n7 -->\n",
       "<g class=\"edge\" id=\"edge4\"><title>n2-&gt;n7</title>\n",
       "<path d=\"M224.787,-549.7C204.15,-544.432 186.098,-537.845 179,-530 173.186,-523.574 170.623,-514.727 169.684,-506.205\" fill=\"none\" stroke=\"black\"/>\n",
       "<polygon fill=\"black\" points=\"173.178,-505.988 169.235,-496.155 166.185,-506.301 173.178,-505.988\" stroke=\"black\"/>\n",
       "<text font-family=\"Times,serif\" font-size=\"14.00\" text-anchor=\"middle\" x=\"264\" y=\"-518.3\">1 TensorType(float32, matrix)</text>\n",
       "</g>\n",
       "<!-- n4 -->\n",
       "<g class=\"node\" id=\"node3\"><title>n4</title>\n",
       "<ellipse cx=\"759\" cy=\"-478\" fill=\"cyan\" rx=\"52.9443\" ry=\"18\" stroke=\"black\"/>\n",
       "<text font-family=\"Times,serif\" font-size=\"14.00\" text-anchor=\"middle\" x=\"759\" y=\"-474.3\">Shape_i{0}</text>\n",
       "</g>\n",
       "<!-- n4&#45;&gt;n9 -->\n",
       "<g class=\"edge\" id=\"edge5\"><title>n4-&gt;n9</title>\n",
       "<path d=\"M755.613,-459.897C752.644,-448.941 747.299,-435.117 738,-426 728.175,-416.366 715.398,-409.312 702.572,-404.174\" fill=\"none\" stroke=\"black\"/>\n",
       "<polygon fill=\"black\" points=\"703.397,-400.749 692.803,-400.607 700.996,-407.325 703.397,-400.749\" stroke=\"black\"/>\n",
       "<text font-family=\"Times,serif\" font-size=\"14.00\" text-anchor=\"middle\" x=\"827\" y=\"-430.3\">0 TensorType(int64, scalar)</text>\n",
       "</g>\n",
       "<!-- n5 -->\n",
       "<g class=\"node\" id=\"node4\"><title>n5</title>\n",
       "<polygon fill=\"limegreen\" points=\"726,-584 498,-584 498,-548 726,-548 726,-584\" stroke=\"black\"/>\n",
       "<text font-family=\"Times,serif\" font-size=\"14.00\" text-anchor=\"middle\" x=\"612\" y=\"-562.3\">name=X TensorType(float64, matrix)</text>\n",
       "</g>\n",
       "<!-- n5&#45;&gt;n4 -->\n",
       "<g class=\"edge\" id=\"edge2\"><title>n5-&gt;n4</title>\n",
       "<path d=\"M694.414,-547.891C706.032,-543.272 717.303,-537.417 727,-530 735.504,-523.496 742.325,-514.033 747.449,-505.019\" fill=\"none\" stroke=\"black\"/>\n",
       "<polygon fill=\"black\" points=\"750.666,-506.419 752.174,-495.932 744.456,-503.19 750.666,-506.419\" stroke=\"black\"/>\n",
       "<text font-family=\"Times,serif\" font-size=\"14.00\" text-anchor=\"middle\" x=\"822\" y=\"-518.3\">TensorType(float64, matrix)</text>\n",
       "</g>\n",
       "<!-- n5&#45;&gt;n7 -->\n",
       "<g class=\"edge\" id=\"edge3\"><title>n5-&gt;n7</title>\n",
       "<path d=\"M581.478,-547.985C572.166,-542.506 562.012,-536.233 553,-530 543.638,-523.525 543.634,-518.063 533,-514 465.224,-488.105 277.332,-513.822 207,-496 204.822,-495.448 202.618,-494.763 200.427,-493.986\" fill=\"none\" stroke=\"black\"/>\n",
       "<polygon fill=\"black\" points=\"201.63,-490.696 191.05,-490.131 198.968,-497.17 201.63,-490.696\" stroke=\"black\"/>\n",
       "<text font-family=\"Times,serif\" font-size=\"14.00\" text-anchor=\"middle\" x=\"638\" y=\"-518.3\">0 TensorType(float64, matrix)</text>\n",
       "</g>\n",
       "<!-- n11 -->\n",
       "<g class=\"node\" id=\"node7\"><title>n11</title>\n",
       "<ellipse cx=\"220\" cy=\"-390\" fill=\"#ffaabb\" rx=\"219.996\" ry=\"18\" stroke=\"black\"/>\n",
       "<text font-family=\"Times,serif\" font-size=\"14.00\" text-anchor=\"middle\" x=\"220\" y=\"-386.3\">Elemwise{Composite{scalar_sigmoid((i0 + i1))}}[(0, 1)]</text>\n",
       "</g>\n",
       "<!-- n7&#45;&gt;n11 -->\n",
       "<g class=\"edge\" id=\"edge8\"><title>n7-&gt;n11</title>\n",
       "<path d=\"M163.286,-460.433C159.603,-449.963 157.137,-436.481 163,-426 165.522,-421.492 168.889,-417.493 172.73,-413.964\" fill=\"none\" stroke=\"red\"/>\n",
       "<polygon fill=\"red\" points=\"174.928,-416.688 180.606,-407.744 170.589,-411.195 174.928,-416.688\" stroke=\"red\"/>\n",
       "<text font-family=\"Times,serif\" font-size=\"14.00\" text-anchor=\"middle\" x=\"248\" y=\"-430.3\">1 TensorType(float64, matrix)</text>\n",
       "</g>\n",
       "<!-- n14 -->\n",
       "<g class=\"node\" id=\"node10\"><title>n14</title>\n",
       "<ellipse cx=\"648\" cy=\"-302\" fill=\"#ffaabb\" rx=\"104.937\" ry=\"18\" stroke=\"black\"/>\n",
       "<text font-family=\"Times,serif\" font-size=\"14.00\" text-anchor=\"middle\" x=\"648\" y=\"-298.3\">Elemwise{Cast{float64}}</text>\n",
       "</g>\n",
       "<!-- n9&#45;&gt;n14 -->\n",
       "<g class=\"edge\" id=\"edge10\"><title>n9-&gt;n14</title>\n",
       "<path d=\"M648,-371.597C648,-359.746 648,-343.817 648,-330.292\" fill=\"none\" stroke=\"black\"/>\n",
       "<polygon fill=\"black\" points=\"651.5,-330.084 648,-320.084 644.5,-330.084 651.5,-330.084\" stroke=\"black\"/>\n",
       "<text font-family=\"Times,serif\" font-size=\"14.00\" text-anchor=\"middle\" x=\"722\" y=\"-342.3\">TensorType(int64, vector)</text>\n",
       "</g>\n",
       "<!-- n13 -->\n",
       "<g class=\"node\" id=\"node9\"><title>n13</title>\n",
       "<polygon fill=\"dodgerblue\" points=\"380.25,-320 175.75,-320 175.75,-284 380.25,-284 380.25,-320\" stroke=\"black\"/>\n",
       "<text font-family=\"Times,serif\" font-size=\"14.00\" text-anchor=\"middle\" x=\"278\" y=\"-298.3\">TensorType(float64, matrix) id=7</text>\n",
       "</g>\n",
       "<!-- n11&#45;&gt;n13 -->\n",
       "<g class=\"edge\" id=\"edge9\"><title>n11-&gt;n13</title>\n",
       "<path d=\"M240.539,-371.725C246.033,-366.426 251.647,-360.316 256,-354 261.057,-346.662 265.33,-337.975 268.726,-329.869\" fill=\"none\" stroke=\"black\"/>\n",
       "<polygon fill=\"black\" points=\"272.046,-330.989 272.427,-320.401 265.527,-328.44 272.046,-330.989\" stroke=\"black\"/>\n",
       "<text font-family=\"Times,serif\" font-size=\"14.00\" text-anchor=\"middle\" x=\"346\" y=\"-342.3\">TensorType(float64, matrix)</text>\n",
       "</g>\n",
       "<!-- n16 -->\n",
       "<g class=\"node\" id=\"node11\"><title>n16</title>\n",
       "<ellipse cx=\"127\" cy=\"-248\" fill=\"none\" rx=\"103.012\" ry=\"18\" stroke=\"black\"/>\n",
       "<text font-family=\"Times,serif\" font-size=\"14.00\" text-anchor=\"middle\" x=\"127\" y=\"-244.3\">Sum{acc_dtype=float64}</text>\n",
       "</g>\n",
       "<!-- n11&#45;&gt;n16 -->\n",
       "<g class=\"edge\" id=\"edge11\"><title>n11-&gt;n16</title>\n",
       "<path d=\"M132.915,-373.431C114.048,-368.256 97.9406,-361.783 92,-354 73.9089,-330.298 90.6097,-296.751 106.571,-274.002\" fill=\"none\" stroke=\"black\"/>\n",
       "<polygon fill=\"black\" points=\"109.46,-275.981 112.578,-265.855 103.826,-271.827 109.46,-275.981\" stroke=\"black\"/>\n",
       "<text font-family=\"Times,serif\" font-size=\"14.00\" text-anchor=\"middle\" x=\"172\" y=\"-342.3\">TensorType(float64, matrix)</text>\n",
       "</g>\n",
       "<!-- n12 -->\n",
       "<g class=\"node\" id=\"node8\"><title>n12</title>\n",
       "<polygon fill=\"limegreen\" points=\"493.25,-496 216.75,-496 216.75,-460 493.25,-460 493.25,-496\" stroke=\"black\"/>\n",
       "<text font-family=\"Times,serif\" font-size=\"14.00\" text-anchor=\"middle\" x=\"355\" y=\"-474.3\">val=[[ 10.]] TensorType(float64, (True, True))</text>\n",
       "</g>\n",
       "<!-- n12&#45;&gt;n11 -->\n",
       "<g class=\"edge\" id=\"edge7\"><title>n12-&gt;n11</title>\n",
       "<path d=\"M351.46,-459.665C348.355,-448.61 342.755,-434.765 333,-426 326.396,-420.066 318.799,-415.139 310.735,-411.046\" fill=\"none\" stroke=\"black\"/>\n",
       "<polygon fill=\"black\" points=\"312.005,-407.778 301.458,-406.772 309.075,-414.136 312.005,-407.778\" stroke=\"black\"/>\n",
       "<text font-family=\"Times,serif\" font-size=\"14.00\" text-anchor=\"middle\" x=\"446.5\" y=\"-430.3\">0 TensorType(float64, (True, True))</text>\n",
       "</g>\n",
       "<!-- n18 -->\n",
       "<g class=\"node\" id=\"node12\"><title>n18</title>\n",
       "<ellipse cx=\"694\" cy=\"-194\" fill=\"#ffaaff\" rx=\"74.6146\" ry=\"18\" stroke=\"black\"/>\n",
       "<text font-family=\"Times,serif\" font-size=\"14.00\" text-anchor=\"middle\" x=\"694\" y=\"-190.3\">Subtensor{int64}</text>\n",
       "</g>\n",
       "<!-- n14&#45;&gt;n18 -->\n",
       "<g class=\"edge\" id=\"edge12\"><title>n14-&gt;n18</title>\n",
       "<path d=\"M661.293,-283.824C665.117,-278.337 669.047,-272.101 672,-266 678.765,-252.023 684.031,-235.5 687.712,-221.911\" fill=\"none\" stroke=\"dodgerblue\"/>\n",
       "<polygon fill=\"dodgerblue\" points=\"691.113,-222.74 690.217,-212.183 684.334,-220.994 691.113,-222.74\" stroke=\"dodgerblue\"/>\n",
       "<text font-family=\"Times,serif\" font-size=\"14.00\" text-anchor=\"middle\" x=\"770.5\" y=\"-244.3\">0 TensorType(float64, vector)</text>\n",
       "</g>\n",
       "<!-- n21 -->\n",
       "<g class=\"node\" id=\"node14\"><title>n21</title>\n",
       "<ellipse cx=\"486\" cy=\"-194\" fill=\"#ffaaff\" rx=\"93.3873\" ry=\"18\" stroke=\"black\"/>\n",
       "<text font-family=\"Times,serif\" font-size=\"14.00\" text-anchor=\"middle\" x=\"486\" y=\"-190.3\">Subtensor{int64} id=8</text>\n",
       "</g>\n",
       "<!-- n14&#45;&gt;n21 -->\n",
       "<g class=\"edge\" id=\"edge14\"><title>n14-&gt;n21</title>\n",
       "<path d=\"M568.124,-290.24C538.265,-284.611 509.12,-276.635 499,-266 488.087,-254.531 484.779,-237.091 484.227,-222.365\" fill=\"none\" stroke=\"dodgerblue\"/>\n",
       "<polygon fill=\"dodgerblue\" points=\"487.728,-222.253 484.244,-212.247 480.728,-222.242 487.728,-222.253\" stroke=\"dodgerblue\"/>\n",
       "<text font-family=\"Times,serif\" font-size=\"14.00\" text-anchor=\"middle\" x=\"583.5\" y=\"-244.3\">0 TensorType(float64, vector)</text>\n",
       "</g>\n",
       "<!-- n24 -->\n",
       "<g class=\"node\" id=\"node16\"><title>n24</title>\n",
       "<ellipse cx=\"486\" cy=\"-106\" fill=\"#ffaabb\" rx=\"176.177\" ry=\"18\" stroke=\"black\"/>\n",
       "<text font-family=\"Times,serif\" font-size=\"14.00\" text-anchor=\"middle\" x=\"486\" y=\"-102.3\">Elemwise{Composite{((i0 / i1) / i2)}}[(0, 0)]</text>\n",
       "</g>\n",
       "<!-- n16&#45;&gt;n24 -->\n",
       "<g class=\"edge\" id=\"edge16\"><title>n16-&gt;n24</title>\n",
       "<path d=\"M143.532,-230.175C160.346,-214 187.864,-190.002 216,-176 267.475,-150.382 329.343,-133.68 380.863,-123.136\" fill=\"none\" stroke=\"red\"/>\n",
       "<polygon fill=\"red\" points=\"381.569,-126.564 390.69,-121.173 380.198,-119.699 381.569,-126.564\" stroke=\"red\"/>\n",
       "<text font-family=\"Times,serif\" font-size=\"14.00\" text-anchor=\"middle\" x=\"299.5\" y=\"-190.3\">0 TensorType(float64, scalar)</text>\n",
       "</g>\n",
       "<!-- n18&#45;&gt;n24 -->\n",
       "<g class=\"edge\" id=\"edge18\"><title>n18-&gt;n24</title>\n",
       "<path d=\"M685.082,-175.699C678.339,-164.365 668.024,-150.185 655,-142 641.889,-133.761 627.185,-127.421 612.064,-122.551\" fill=\"none\" stroke=\"black\"/>\n",
       "<polygon fill=\"black\" points=\"612.664,-119.077 602.08,-119.557 610.654,-125.782 612.664,-119.077\" stroke=\"black\"/>\n",
       "<text font-family=\"Times,serif\" font-size=\"14.00\" text-anchor=\"middle\" x=\"755.5\" y=\"-146.3\">2 TensorType(float64, scalar)</text>\n",
       "</g>\n",
       "<!-- n19 -->\n",
       "<g class=\"node\" id=\"node13\"><title>n19</title>\n",
       "<polygon fill=\"limegreen\" points=\"926.25,-320 845.75,-320 845.75,-284 926.25,-284 926.25,-320\" stroke=\"black\"/>\n",
       "<text font-family=\"Times,serif\" font-size=\"14.00\" text-anchor=\"middle\" x=\"886\" y=\"-298.3\">val=1 int64</text>\n",
       "</g>\n",
       "<!-- n19&#45;&gt;n18 -->\n",
       "<g class=\"edge\" id=\"edge13\"><title>n19-&gt;n18</title>\n",
       "<path d=\"M884.117,-283.711C881.401,-267.422 874.826,-243.554 859,-230 845.277,-218.247 806.446,-209.693 769.902,-203.984\" fill=\"none\" stroke=\"black\"/>\n",
       "<polygon fill=\"black\" points=\"770.086,-200.472 759.677,-202.449 769.047,-207.395 770.086,-200.472\" stroke=\"black\"/>\n",
       "<text font-family=\"Times,serif\" font-size=\"14.00\" text-anchor=\"middle\" x=\"900\" y=\"-244.3\">1 int64</text>\n",
       "</g>\n",
       "<!-- n21&#45;&gt;n24 -->\n",
       "<g class=\"edge\" id=\"edge17\"><title>n21-&gt;n24</title>\n",
       "<path d=\"M486,-175.597C486,-163.746 486,-147.817 486,-134.292\" fill=\"none\" stroke=\"black\"/>\n",
       "<polygon fill=\"black\" points=\"489.5,-134.084 486,-124.084 482.5,-134.084 489.5,-134.084\" stroke=\"black\"/>\n",
       "<text font-family=\"Times,serif\" font-size=\"14.00\" text-anchor=\"middle\" x=\"569.5\" y=\"-146.3\">1 TensorType(float64, scalar)</text>\n",
       "</g>\n",
       "<!-- n22 -->\n",
       "<g class=\"node\" id=\"node15\"><title>n22</title>\n",
       "<polygon fill=\"limegreen\" points=\"479.25,-320 398.75,-320 398.75,-284 479.25,-284 479.25,-320\" stroke=\"black\"/>\n",
       "<text font-family=\"Times,serif\" font-size=\"14.00\" text-anchor=\"middle\" x=\"439\" y=\"-298.3\">val=0 int64</text>\n",
       "</g>\n",
       "<!-- n22&#45;&gt;n21 -->\n",
       "<g class=\"edge\" id=\"edge15\"><title>n22-&gt;n21</title>\n",
       "<path d=\"M435.23,-283.946C432.807,-268.911 431.505,-246.84 440,-230 442.201,-225.638 445.228,-221.669 448.688,-218.102\" fill=\"none\" stroke=\"black\"/>\n",
       "<polygon fill=\"black\" points=\"451.133,-220.611 456.272,-211.345 446.477,-215.384 451.133,-220.611\" stroke=\"black\"/>\n",
       "<text font-family=\"Times,serif\" font-size=\"14.00\" text-anchor=\"middle\" x=\"460\" y=\"-244.3\">1 int64</text>\n",
       "</g>\n",
       "<!-- n25 -->\n",
       "<g class=\"node\" id=\"node17\"><title>n25</title>\n",
       "<polygon fill=\"dodgerblue\" points=\"590,-36 382,-36 382,-0 590,-0 590,-36\" stroke=\"black\"/>\n",
       "<text font-family=\"Times,serif\" font-size=\"14.00\" text-anchor=\"middle\" x=\"486\" y=\"-14.3\">TensorType(float64, scalar) id=14</text>\n",
       "</g>\n",
       "<!-- n24&#45;&gt;n25 -->\n",
       "<g class=\"edge\" id=\"edge19\"><title>n24-&gt;n25</title>\n",
       "<path d=\"M486,-87.5966C486,-75.7459 486,-59.8169 486,-46.2917\" fill=\"none\" stroke=\"black\"/>\n",
       "<polygon fill=\"black\" points=\"489.5,-46.084 486,-36.084 482.5,-46.084 489.5,-46.084\" stroke=\"black\"/>\n",
       "<text font-family=\"Times,serif\" font-size=\"14.00\" text-anchor=\"middle\" x=\"564\" y=\"-58.3\">TensorType(float64, scalar)</text>\n",
       "</g>\n",
       "</g>\n",
       "</svg>"
      ],
      "text/plain": [
       "<IPython.core.display.SVG object>"
      ]
     },
     "execution_count": 24,
     "metadata": {},
     "output_type": "execute_result"
    }
   ],
   "source": [
    "SVG(g.create_svg())"
   ]
  },
  {
   "cell_type": "markdown",
   "metadata": {},
   "source": [
    "# Profiled graphed "
   ]
  },
  {
   "cell_type": "code",
   "execution_count": 6,
   "metadata": {
    "collapsed": false
   },
   "outputs": [
    {
     "ename": "OSError",
     "evalue": "[Errno 2] No such file or directory: ''",
     "output_type": "error",
     "traceback": [
      "\u001b[0;31m---------------------------------------------------------------------------\u001b[0m",
      "\u001b[0;31mOSError\u001b[0m                                   Traceback (most recent call last)",
      "\u001b[0;32m<ipython-input-6-a7148915a619>\u001b[0m in \u001b[0;36m<module>\u001b[0;34m()\u001b[0m\n\u001b[1;32m      1\u001b[0m \u001b[0mg\u001b[0m \u001b[0;34m=\u001b[0m \u001b[0mgf\u001b[0m\u001b[0;34m.\u001b[0m\u001b[0mto_pydot\u001b[0m\u001b[0;34m(\u001b[0m\u001b[0mpredict_profiled\u001b[0m\u001b[0;34m)\u001b[0m\u001b[0;34m\u001b[0m\u001b[0m\n\u001b[0;32m----> 2\u001b[0;31m \u001b[0md3p\u001b[0m\u001b[0;34m.\u001b[0m\u001b[0md3print\u001b[0m\u001b[0;34m(\u001b[0m\u001b[0mpredict_profiled\u001b[0m\u001b[0;34m,\u001b[0m \u001b[0;34m'predict_profiled.html'\u001b[0m\u001b[0;34m)\u001b[0m\u001b[0;34m\u001b[0m\u001b[0m\n\u001b[0m",
      "\u001b[0;32m/Users/angermue/python/projects/theano/theano/theano/d3printing/d3printing.pyc\u001b[0m in \u001b[0;36md3print\u001b[0;34m(fct, outfile, *args, **kwargs)\u001b[0m\n\u001b[1;32m     52\u001b[0m     \u001b[0moutdir\u001b[0m \u001b[0;34m=\u001b[0m \u001b[0mos\u001b[0m\u001b[0;34m.\u001b[0m\u001b[0mpath\u001b[0m\u001b[0;34m.\u001b[0m\u001b[0mdirname\u001b[0m\u001b[0;34m(\u001b[0m\u001b[0moutfile\u001b[0m\u001b[0;34m)\u001b[0m\u001b[0;34m\u001b[0m\u001b[0m\n\u001b[1;32m     53\u001b[0m     \u001b[0;32mif\u001b[0m \u001b[0;32mnot\u001b[0m \u001b[0mos\u001b[0m\u001b[0;34m.\u001b[0m\u001b[0mpath\u001b[0m\u001b[0;34m.\u001b[0m\u001b[0mexists\u001b[0m\u001b[0;34m(\u001b[0m\u001b[0moutdir\u001b[0m\u001b[0;34m)\u001b[0m\u001b[0;34m:\u001b[0m\u001b[0;34m\u001b[0m\u001b[0m\n\u001b[0;32m---> 54\u001b[0;31m         \u001b[0mos\u001b[0m\u001b[0;34m.\u001b[0m\u001b[0mmakedirs\u001b[0m\u001b[0;34m(\u001b[0m\u001b[0moutdir\u001b[0m\u001b[0;34m)\u001b[0m\u001b[0;34m\u001b[0m\u001b[0m\n\u001b[0m\u001b[1;32m     55\u001b[0m \u001b[0;34m\u001b[0m\u001b[0m\n\u001b[1;32m     56\u001b[0m     \u001b[0;31m# Create dot file\u001b[0m\u001b[0;34m\u001b[0m\u001b[0;34m\u001b[0m\u001b[0m\n",
      "\u001b[0;32m/Users/angermue/python/venv/theano/lib/python2.7/os.pyc\u001b[0m in \u001b[0;36mmakedirs\u001b[0;34m(name, mode)\u001b[0m\n\u001b[1;32m    155\u001b[0m         \u001b[0;32mif\u001b[0m \u001b[0mtail\u001b[0m \u001b[0;34m==\u001b[0m \u001b[0mcurdir\u001b[0m\u001b[0;34m:\u001b[0m           \u001b[0;31m# xxx/newdir/. exists if xxx/newdir exists\u001b[0m\u001b[0;34m\u001b[0m\u001b[0m\n\u001b[1;32m    156\u001b[0m             \u001b[0;32mreturn\u001b[0m\u001b[0;34m\u001b[0m\u001b[0m\n\u001b[0;32m--> 157\u001b[0;31m     \u001b[0mmkdir\u001b[0m\u001b[0;34m(\u001b[0m\u001b[0mname\u001b[0m\u001b[0;34m,\u001b[0m \u001b[0mmode\u001b[0m\u001b[0;34m)\u001b[0m\u001b[0;34m\u001b[0m\u001b[0m\n\u001b[0m\u001b[1;32m    158\u001b[0m \u001b[0;34m\u001b[0m\u001b[0m\n\u001b[1;32m    159\u001b[0m \u001b[0;32mdef\u001b[0m \u001b[0mremovedirs\u001b[0m\u001b[0;34m(\u001b[0m\u001b[0mname\u001b[0m\u001b[0;34m)\u001b[0m\u001b[0;34m:\u001b[0m\u001b[0;34m\u001b[0m\u001b[0m\n",
      "\u001b[0;31mOSError\u001b[0m: [Errno 2] No such file or directory: ''"
     ]
    }
   ],
   "source": [
    "g = gf.to_pydot(predict_profiled)\n",
    "d3p.d3print(predict_profiled, 'predict_profiled.html')"
   ]
  },
  {
   "cell_type": "markdown",
   "metadata": {},
   "source": [
    "[open](./predict_profiled.html) "
   ]
  },
  {
   "cell_type": "code",
   "execution_count": 6,
   "metadata": {
    "collapsed": false
   },
   "outputs": [
    {
     "data": {
      "image/svg+xml": [
       "<svg height=\"592pt\" viewBox=\"0.00 0.00 931.00 592.00\" width=\"931pt\" xmlns=\"http://www.w3.org/2000/svg\" xmlns:xlink=\"http://www.w3.org/1999/xlink\">\n",
       "<g class=\"graph\" id=\"graph0\" transform=\"scale(1 1) rotate(0) translate(4 588)\">\n",
       "<title>G</title>\n",
       "<polygon fill=\"white\" points=\"-4,4 -4,-588 927,-588 927,4 -4,4\" stroke=\"none\"/>\n",
       "<!-- Shape_i{1} -->\n",
       "<g class=\"node\" id=\"node1\"><title>Shape_i{1}</title>\n",
       "<ellipse cx=\"763\" cy=\"-478\" fill=\"cyan\" rx=\"52.9443\" ry=\"18\" stroke=\"black\"/>\n",
       "<text font-family=\"Times,serif\" font-size=\"14.00\" text-anchor=\"middle\" x=\"763\" y=\"-474.3\">Shape_i{1}</text>\n",
       "</g>\n",
       "<!-- MakeVector -->\n",
       "<g class=\"node\" id=\"node6\"><title>MakeVector</title>\n",
       "<ellipse cx=\"602\" cy=\"-390\" fill=\"none\" rx=\"55.3436\" ry=\"18\" stroke=\"black\"/>\n",
       "<text font-family=\"Times,serif\" font-size=\"14.00\" text-anchor=\"middle\" x=\"602\" y=\"-386.3\">MakeVector</text>\n",
       "</g>\n",
       "<!-- Shape_i{1}&#45;&gt;MakeVector -->\n",
       "<g class=\"edge\" id=\"edge6\"><title>Shape_i{1}-&gt;MakeVector</title>\n",
       "<path d=\"M735.689,-462.411C708.974,-448.141 668.114,-426.315 638.598,-410.549\" fill=\"none\" stroke=\"black\"/>\n",
       "<polygon fill=\"black\" points=\"639.915,-407.285 629.445,-405.66 636.617,-413.459 639.915,-407.285\" stroke=\"black\"/>\n",
       "<text font-family=\"Times,serif\" font-size=\"14.00\" text-anchor=\"middle\" x=\"775\" y=\"-430.3\">1 TensorType(int64, scalar)</text>\n",
       "</g>\n",
       "<!-- TensorType(float64, matrix) -->\n",
       "<g class=\"node\" id=\"node2\"><title>TensorType(float64, matrix)</title>\n",
       "<polygon fill=\"limegreen\" points=\"728,-584 552,-584 552,-548 728,-548 728,-584\" stroke=\"black\"/>\n",
       "<text font-family=\"Times,serif\" font-size=\"14.00\" text-anchor=\"middle\" x=\"640\" y=\"-562.3\">TensorType(float64, matrix)</text>\n",
       "</g>\n",
       "<!-- TensorType(float64, matrix)&#45;&gt;Shape_i{1} -->\n",
       "<g class=\"edge\" id=\"edge1\"><title>TensorType(float64, matrix)-&gt;Shape_i{1}</title>\n",
       "<path d=\"M728.218,-549.113C737.934,-544.301 746.871,-538.067 754,-530 759.757,-523.486 762.449,-514.618 763.57,-506.103\" fill=\"none\" stroke=\"black\"/>\n",
       "<polygon fill=\"black\" points=\"767.066,-506.289 764.259,-496.073 760.082,-505.81 767.066,-506.289\" stroke=\"black\"/>\n",
       "<text font-family=\"Times,serif\" font-size=\"14.00\" text-anchor=\"middle\" x=\"843\" y=\"-518.3\">TensorType(float64, matrix)</text>\n",
       "</g>\n",
       "<!-- Dot22 -->\n",
       "<g class=\"node\" id=\"node5\"><title>Dot22</title>\n",
       "<ellipse cx=\"242\" cy=\"-478\" fill=\"none\" rx=\"33.1991\" ry=\"18\" stroke=\"black\"/>\n",
       "<text font-family=\"Times,serif\" font-size=\"14.00\" text-anchor=\"middle\" x=\"242\" y=\"-474.3\">Dot22</text>\n",
       "</g>\n",
       "<!-- TensorType(float64, matrix)&#45;&gt;Dot22 -->\n",
       "<g class=\"edge\" id=\"edge4\"><title>TensorType(float64, matrix)-&gt;Dot22</title>\n",
       "<path d=\"M610.316,-547.87C600.623,-542.227 589.827,-535.889 580,-530 568.361,-523.026 566.88,-518.266 554,-514 467.597,-485.383 440.342,-507.083 350,-496 328.021,-493.304 303.645,-489.534 283.621,-486.23\" fill=\"none\" stroke=\"black\"/>\n",
       "<polygon fill=\"black\" points=\"284.023,-482.749 273.583,-484.552 282.869,-489.653 284.023,-482.749\" stroke=\"black\"/>\n",
       "<text font-family=\"Times,serif\" font-size=\"14.00\" text-anchor=\"middle\" x=\"665\" y=\"-518.3\">1 TensorType(float64, matrix)</text>\n",
       "</g>\n",
       "<!-- Shape_i{0} -->\n",
       "<g class=\"node\" id=\"node3\"><title>Shape_i{0}</title>\n",
       "<ellipse cx=\"412\" cy=\"-478\" fill=\"cyan\" rx=\"52.9443\" ry=\"18\" stroke=\"black\"/>\n",
       "<text font-family=\"Times,serif\" font-size=\"14.00\" text-anchor=\"middle\" x=\"412\" y=\"-474.3\">Shape_i{0}</text>\n",
       "</g>\n",
       "<!-- Shape_i{0}&#45;&gt;MakeVector -->\n",
       "<g class=\"edge\" id=\"edge5\"><title>Shape_i{0}-&gt;MakeVector</title>\n",
       "<path d=\"M437.912,-462.25C457.204,-451.547 484.353,-437.066 509,-426 523.976,-419.276 540.668,-412.715 555.731,-407.125\" fill=\"none\" stroke=\"black\"/>\n",
       "<polygon fill=\"black\" points=\"557.173,-410.324 565.36,-403.6 554.766,-403.751 557.173,-410.324\" stroke=\"black\"/>\n",
       "<text font-family=\"Times,serif\" font-size=\"14.00\" text-anchor=\"middle\" x=\"587\" y=\"-430.3\">0 TensorType(int64, scalar)</text>\n",
       "</g>\n",
       "<!-- name=X TensorType(float64, matrix) -->\n",
       "<g class=\"node\" id=\"node4\"><title>name=X TensorType(float64, matrix)</title>\n",
       "<polygon fill=\"limegreen\" points=\"456,-584 228,-584 228,-548 456,-548 456,-584\" stroke=\"black\"/>\n",
       "<text font-family=\"Times,serif\" font-size=\"14.00\" text-anchor=\"middle\" x=\"342\" y=\"-562.3\">name=X TensorType(float64, matrix)</text>\n",
       "</g>\n",
       "<!-- name=X TensorType(float64, matrix)&#45;&gt;Shape_i{0} -->\n",
       "<g class=\"edge\" id=\"edge2\"><title>name=X TensorType(float64, matrix)-&gt;Shape_i{0}</title>\n",
       "<path d=\"M361.08,-547.903C366.78,-542.42 372.872,-536.166 378,-530 384.666,-521.984 391.209,-512.635 396.748,-504.146\" fill=\"none\" stroke=\"black\"/>\n",
       "<polygon fill=\"black\" points=\"399.704,-506.02 402.118,-495.704 393.798,-502.262 399.704,-506.02\" stroke=\"black\"/>\n",
       "<text font-family=\"Times,serif\" font-size=\"14.00\" text-anchor=\"middle\" x=\"470\" y=\"-518.3\">TensorType(float64, matrix)</text>\n",
       "</g>\n",
       "<!-- name=X TensorType(float64, matrix)&#45;&gt;Dot22 -->\n",
       "<g class=\"edge\" id=\"edge3\"><title>name=X TensorType(float64, matrix)-&gt;Dot22</title>\n",
       "<path d=\"M240.099,-547.929C223.328,-543.107 209.578,-537.169 204,-530 196.089,-519.832 203.283,-508.338 213.457,-498.839\" fill=\"none\" stroke=\"black\"/>\n",
       "<polygon fill=\"black\" points=\"215.81,-501.433 221.218,-492.323 211.309,-496.073 215.81,-501.433\" stroke=\"black\"/>\n",
       "<text font-family=\"Times,serif\" font-size=\"14.00\" text-anchor=\"middle\" x=\"289\" y=\"-518.3\">0 TensorType(float64, matrix)</text>\n",
       "</g>\n",
       "<!-- Elemwise{ScalarSigmoid}[(0, 0)] -->\n",
       "<g class=\"node\" id=\"node7\"><title>Elemwise{ScalarSigmoid}[(0, 0)]</title>\n",
       "<ellipse cx=\"242\" cy=\"-390\" fill=\"#ffaabb\" rx=\"134.307\" ry=\"18\" stroke=\"black\"/>\n",
       "<text font-family=\"Times,serif\" font-size=\"14.00\" text-anchor=\"middle\" x=\"242\" y=\"-386.3\">Elemwise{ScalarSigmoid}[(0, 0)]</text>\n",
       "</g>\n",
       "<!-- Dot22&#45;&gt;Elemwise{ScalarSigmoid}[(0, 0)] -->\n",
       "<g class=\"edge\" id=\"edge7\"><title>Dot22-&gt;Elemwise{ScalarSigmoid}[(0, 0)]</title>\n",
       "<path d=\"M242,-459.597C242,-447.746 242,-431.817 242,-418.292\" fill=\"none\" stroke=\"red\"/>\n",
       "<polygon fill=\"red\" points=\"245.5,-418.084 242,-408.084 238.5,-418.084 245.5,-418.084\" stroke=\"red\"/>\n",
       "<text font-family=\"Times,serif\" font-size=\"14.00\" text-anchor=\"middle\" x=\"322\" y=\"-430.3\">TensorType(float64, matrix)</text>\n",
       "</g>\n",
       "<!-- Elemwise{Cast{float64}} -->\n",
       "<g class=\"node\" id=\"node9\"><title>Elemwise{Cast{float64}}</title>\n",
       "<ellipse cx=\"602\" cy=\"-302\" fill=\"#ffaabb\" rx=\"104.937\" ry=\"18\" stroke=\"black\"/>\n",
       "<text font-family=\"Times,serif\" font-size=\"14.00\" text-anchor=\"middle\" x=\"602\" y=\"-298.3\">Elemwise{Cast{float64}}</text>\n",
       "</g>\n",
       "<!-- MakeVector&#45;&gt;Elemwise{Cast{float64}} -->\n",
       "<g class=\"edge\" id=\"edge9\"><title>MakeVector-&gt;Elemwise{Cast{float64}}</title>\n",
       "<path d=\"M602,-371.597C602,-359.746 602,-343.817 602,-330.292\" fill=\"none\" stroke=\"black\"/>\n",
       "<polygon fill=\"black\" points=\"605.5,-330.084 602,-320.084 598.5,-330.084 605.5,-330.084\" stroke=\"black\"/>\n",
       "<text font-family=\"Times,serif\" font-size=\"14.00\" text-anchor=\"middle\" x=\"676\" y=\"-342.3\">TensorType(int64, vector)</text>\n",
       "</g>\n",
       "<!-- TensorType(float64, matrix) id=6 -->\n",
       "<g class=\"node\" id=\"node8\"><title>TensorType(float64, matrix) id=6</title>\n",
       "<polygon fill=\"dodgerblue\" points=\"356.25,-320 151.75,-320 151.75,-284 356.25,-284 356.25,-320\" stroke=\"black\"/>\n",
       "<text font-family=\"Times,serif\" font-size=\"14.00\" text-anchor=\"middle\" x=\"254\" y=\"-298.3\">TensorType(float64, matrix) id=6</text>\n",
       "</g>\n",
       "<!-- Elemwise{ScalarSigmoid}[(0, 0)]&#45;&gt;TensorType(float64, matrix) id=6 -->\n",
       "<g class=\"edge\" id=\"edge8\"><title>Elemwise{ScalarSigmoid}[(0, 0)]-&gt;TensorType(float64, matrix) id=6</title>\n",
       "<path d=\"M244.428,-371.597C246.082,-359.746 248.305,-343.817 250.192,-330.292\" fill=\"none\" stroke=\"black\"/>\n",
       "<polygon fill=\"black\" points=\"253.701,-330.472 251.616,-320.084 246.768,-329.504 253.701,-330.472\" stroke=\"black\"/>\n",
       "<text font-family=\"Times,serif\" font-size=\"14.00\" text-anchor=\"middle\" x=\"330\" y=\"-342.3\">TensorType(float64, matrix)</text>\n",
       "</g>\n",
       "<!-- Sum{acc_dtype=float64} -->\n",
       "<g class=\"node\" id=\"node10\"><title>Sum{acc_dtype=float64}</title>\n",
       "<ellipse cx=\"103\" cy=\"-248\" fill=\"none\" rx=\"103.012\" ry=\"18\" stroke=\"black\"/>\n",
       "<text font-family=\"Times,serif\" font-size=\"14.00\" text-anchor=\"middle\" x=\"103\" y=\"-244.3\">Sum{acc_dtype=float64}</text>\n",
       "</g>\n",
       "<!-- Elemwise{ScalarSigmoid}[(0, 0)]&#45;&gt;Sum{acc_dtype=float64} -->\n",
       "<g class=\"edge\" id=\"edge10\"><title>Elemwise{ScalarSigmoid}[(0, 0)]-&gt;Sum{acc_dtype=float64}</title>\n",
       "<path d=\"M144.123,-377.632C116.496,-372.297 91.5885,-364.685 83,-354 65.1182,-331.754 75.9432,-298.337 87.4351,-275.202\" fill=\"none\" stroke=\"black\"/>\n",
       "<polygon fill=\"black\" points=\"90.5714,-276.758 92.1497,-266.282 84.3826,-273.487 90.5714,-276.758\" stroke=\"black\"/>\n",
       "<text font-family=\"Times,serif\" font-size=\"14.00\" text-anchor=\"middle\" x=\"163\" y=\"-342.3\">TensorType(float64, matrix)</text>\n",
       "</g>\n",
       "<!-- Subtensor{int64} -->\n",
       "<g class=\"node\" id=\"node11\"><title>Subtensor{int64}</title>\n",
       "<ellipse cx=\"670\" cy=\"-194\" fill=\"#ffaaff\" rx=\"74.6146\" ry=\"18\" stroke=\"black\"/>\n",
       "<text font-family=\"Times,serif\" font-size=\"14.00\" text-anchor=\"middle\" x=\"670\" y=\"-190.3\">Subtensor{int64}</text>\n",
       "</g>\n",
       "<!-- Elemwise{Cast{float64}}&#45;&gt;Subtensor{int64} -->\n",
       "<g class=\"edge\" id=\"edge11\"><title>Elemwise{Cast{float64}}-&gt;Subtensor{int64}</title>\n",
       "<path d=\"M629.37,-284.551C636.239,-279.342 643.053,-273.072 648,-266 657.078,-253.024 662.508,-236.173 665.701,-222.144\" fill=\"none\" stroke=\"dodgerblue\"/>\n",
       "<polygon fill=\"dodgerblue\" points=\"669.185,-222.571 667.731,-212.077 662.323,-221.188 669.185,-222.571\" stroke=\"dodgerblue\"/>\n",
       "<text font-family=\"Times,serif\" font-size=\"14.00\" text-anchor=\"middle\" x=\"748.5\" y=\"-244.3\">0 TensorType(float64, vector)</text>\n",
       "</g>\n",
       "<!-- Subtensor{int64} id=8 -->\n",
       "<g class=\"node\" id=\"node13\"><title>Subtensor{int64} id=8</title>\n",
       "<ellipse cx=\"462\" cy=\"-194\" fill=\"#ffaaff\" rx=\"93.3873\" ry=\"18\" stroke=\"black\"/>\n",
       "<text font-family=\"Times,serif\" font-size=\"14.00\" text-anchor=\"middle\" x=\"462\" y=\"-190.3\">Subtensor{int64} id=8</text>\n",
       "</g>\n",
       "<!-- Elemwise{Cast{float64}}&#45;&gt;Subtensor{int64} id=8 -->\n",
       "<g class=\"edge\" id=\"edge13\"><title>Elemwise{Cast{float64}}-&gt;Subtensor{int64} id=8</title>\n",
       "<path d=\"M516.396,-291.457C500.826,-286.113 486.044,-278.059 475,-266 464.308,-254.325 461.003,-236.882 460.398,-222.207\" fill=\"none\" stroke=\"dodgerblue\"/>\n",
       "<polygon fill=\"dodgerblue\" points=\"463.897,-222.122 460.367,-212.132 456.897,-222.143 463.897,-222.122\" stroke=\"dodgerblue\"/>\n",
       "<text font-family=\"Times,serif\" font-size=\"14.00\" text-anchor=\"middle\" x=\"559.5\" y=\"-244.3\">0 TensorType(float64, vector)</text>\n",
       "</g>\n",
       "<!-- Elemwise{Composite{((i0 / i1) / i2)}}[(0, 0)] -->\n",
       "<g class=\"node\" id=\"node15\"><title>Elemwise{Composite{((i0 / i1) / i2)}}[(0, 0)]</title>\n",
       "<ellipse cx=\"462\" cy=\"-106\" fill=\"#ffaabb\" rx=\"176.177\" ry=\"18\" stroke=\"black\"/>\n",
       "<text font-family=\"Times,serif\" font-size=\"14.00\" text-anchor=\"middle\" x=\"462\" y=\"-102.3\">Elemwise{Composite{((i0 / i1) / i2)}}[(0, 0)]</text>\n",
       "</g>\n",
       "<!-- Sum{acc_dtype=float64}&#45;&gt;Elemwise{Composite{((i0 / i1) / i2)}}[(0, 0)] -->\n",
       "<g class=\"edge\" id=\"edge15\"><title>Sum{acc_dtype=float64}-&gt;Elemwise{Composite{((i0 / i1) / i2)}}[(0, 0)]</title>\n",
       "<path d=\"M119.532,-230.175C136.346,-214 163.864,-190.002 192,-176 243.475,-150.382 305.343,-133.68 356.863,-123.136\" fill=\"none\" stroke=\"red\"/>\n",
       "<polygon fill=\"red\" points=\"357.569,-126.564 366.69,-121.173 356.198,-119.699 357.569,-126.564\" stroke=\"red\"/>\n",
       "<text font-family=\"Times,serif\" font-size=\"14.00\" text-anchor=\"middle\" x=\"275.5\" y=\"-190.3\">0 TensorType(float64, scalar)</text>\n",
       "</g>\n",
       "<!-- Subtensor{int64}&#45;&gt;Elemwise{Composite{((i0 / i1) / i2)}}[(0, 0)] -->\n",
       "<g class=\"edge\" id=\"edge17\"><title>Subtensor{int64}-&gt;Elemwise{Composite{((i0 / i1) / i2)}}[(0, 0)]</title>\n",
       "<path d=\"M661.082,-175.699C654.339,-164.365 644.024,-150.185 631,-142 617.889,-133.761 603.185,-127.421 588.064,-122.551\" fill=\"none\" stroke=\"black\"/>\n",
       "<polygon fill=\"black\" points=\"588.664,-119.077 578.08,-119.557 586.654,-125.782 588.664,-119.077\" stroke=\"black\"/>\n",
       "<text font-family=\"Times,serif\" font-size=\"14.00\" text-anchor=\"middle\" x=\"731.5\" y=\"-146.3\">2 TensorType(float64, scalar)</text>\n",
       "</g>\n",
       "<!-- val=1 int64 -->\n",
       "<g class=\"node\" id=\"node12\"><title>val=1 int64</title>\n",
       "<polygon fill=\"limegreen\" points=\"902.25,-320 821.75,-320 821.75,-284 902.25,-284 902.25,-320\" stroke=\"black\"/>\n",
       "<text font-family=\"Times,serif\" font-size=\"14.00\" text-anchor=\"middle\" x=\"862\" y=\"-298.3\">val=1 int64</text>\n",
       "</g>\n",
       "<!-- val=1 int64&#45;&gt;Subtensor{int64} -->\n",
       "<g class=\"edge\" id=\"edge12\"><title>val=1 int64-&gt;Subtensor{int64}</title>\n",
       "<path d=\"M860.642,-283.734C858.414,-267.462 852.531,-243.606 837,-230 823.252,-217.956 783.956,-209.391 746.935,-203.749\" fill=\"none\" stroke=\"black\"/>\n",
       "<polygon fill=\"black\" points=\"746.978,-200.219 736.577,-202.235 745.965,-207.145 746.978,-200.219\" stroke=\"black\"/>\n",
       "<text font-family=\"Times,serif\" font-size=\"14.00\" text-anchor=\"middle\" x=\"877\" y=\"-244.3\">1 int64</text>\n",
       "</g>\n",
       "<!-- Subtensor{int64} id=8&#45;&gt;Elemwise{Composite{((i0 / i1) / i2)}}[(0, 0)] -->\n",
       "<g class=\"edge\" id=\"edge16\"><title>Subtensor{int64} id=8-&gt;Elemwise{Composite{((i0 / i1) / i2)}}[(0, 0)]</title>\n",
       "<path d=\"M462,-175.597C462,-163.746 462,-147.817 462,-134.292\" fill=\"none\" stroke=\"black\"/>\n",
       "<polygon fill=\"black\" points=\"465.5,-134.084 462,-124.084 458.5,-134.084 465.5,-134.084\" stroke=\"black\"/>\n",
       "<text font-family=\"Times,serif\" font-size=\"14.00\" text-anchor=\"middle\" x=\"545.5\" y=\"-146.3\">1 TensorType(float64, scalar)</text>\n",
       "</g>\n",
       "<!-- val=0 int64 -->\n",
       "<g class=\"node\" id=\"node14\"><title>val=0 int64</title>\n",
       "<polygon fill=\"limegreen\" points=\"455.25,-320 374.75,-320 374.75,-284 455.25,-284 455.25,-320\" stroke=\"black\"/>\n",
       "<text font-family=\"Times,serif\" font-size=\"14.00\" text-anchor=\"middle\" x=\"415\" y=\"-298.3\">val=0 int64</text>\n",
       "</g>\n",
       "<!-- val=0 int64&#45;&gt;Subtensor{int64} id=8 -->\n",
       "<g class=\"edge\" id=\"edge14\"><title>val=0 int64-&gt;Subtensor{int64} id=8</title>\n",
       "<path d=\"M411.23,-283.946C408.807,-268.911 407.505,-246.84 416,-230 418.201,-225.638 421.228,-221.669 424.688,-218.102\" fill=\"none\" stroke=\"black\"/>\n",
       "<polygon fill=\"black\" points=\"427.133,-220.611 432.272,-211.345 422.477,-215.384 427.133,-220.611\" stroke=\"black\"/>\n",
       "<text font-family=\"Times,serif\" font-size=\"14.00\" text-anchor=\"middle\" x=\"436\" y=\"-244.3\">1 int64</text>\n",
       "</g>\n",
       "<!-- TensorType(float64, scalar) id=13 -->\n",
       "<g class=\"node\" id=\"node16\"><title>TensorType(float64, scalar) id=13</title>\n",
       "<polygon fill=\"dodgerblue\" points=\"566,-36 358,-36 358,-0 566,-0 566,-36\" stroke=\"black\"/>\n",
       "<text font-family=\"Times,serif\" font-size=\"14.00\" text-anchor=\"middle\" x=\"462\" y=\"-14.3\">TensorType(float64, scalar) id=13</text>\n",
       "</g>\n",
       "<!-- Elemwise{Composite{((i0 / i1) / i2)}}[(0, 0)]&#45;&gt;TensorType(float64, scalar) id=13 -->\n",
       "<g class=\"edge\" id=\"edge18\"><title>Elemwise{Composite{((i0 / i1) / i2)}}[(0, 0)]-&gt;TensorType(float64, scalar) id=13</title>\n",
       "<path d=\"M462,-87.5966C462,-75.7459 462,-59.8169 462,-46.2917\" fill=\"none\" stroke=\"black\"/>\n",
       "<polygon fill=\"black\" points=\"465.5,-46.084 462,-36.084 458.5,-46.084 465.5,-46.084\" stroke=\"black\"/>\n",
       "<text font-family=\"Times,serif\" font-size=\"14.00\" text-anchor=\"middle\" x=\"540\" y=\"-58.3\">TensorType(float64, scalar)</text>\n",
       "</g>\n",
       "</g>\n",
       "</svg>"
      ],
      "text/plain": [
       "<IPython.core.display.SVG object>"
      ]
     },
     "execution_count": 6,
     "metadata": {},
     "output_type": "execute_result"
    }
   ],
   "source": [
    "SVG(g.create_svg())"
   ]
  },
  {
   "cell_type": "markdown",
   "metadata": {},
   "source": [
    "# Unprofiled graph"
   ]
  },
  {
   "cell_type": "code",
   "execution_count": 7,
   "metadata": {
    "collapsed": false
   },
   "outputs": [
    {
     "name": "stdout",
     "output_type": "stream",
     "text": [
      "The output file is available at predict_unprofiled.html\n"
     ]
    }
   ],
   "source": [
    "g = gf.to_pydot(predict_unprofiled)\n",
    "d3p.d3print(predict_unprofiled, 'predict_unprofiled.html')"
   ]
  },
  {
   "cell_type": "markdown",
   "metadata": {},
   "source": [
    "[open](./predict_unprofiled.html) "
   ]
  },
  {
   "cell_type": "code",
   "execution_count": 8,
   "metadata": {
    "collapsed": false
   },
   "outputs": [
    {
     "data": {
      "image/svg+xml": [
       "<svg height=\"592pt\" viewBox=\"0.00 0.00 931.00 592.00\" width=\"931pt\" xmlns=\"http://www.w3.org/2000/svg\" xmlns:xlink=\"http://www.w3.org/1999/xlink\">\n",
       "<g class=\"graph\" id=\"graph0\" transform=\"scale(1 1) rotate(0) translate(4 588)\">\n",
       "<title>G</title>\n",
       "<polygon fill=\"white\" points=\"-4,4 -4,-588 927,-588 927,4 -4,4\" stroke=\"none\"/>\n",
       "<!-- Shape_i{1} -->\n",
       "<g class=\"node\" id=\"node1\"><title>Shape_i{1}</title>\n",
       "<ellipse cx=\"763\" cy=\"-478\" fill=\"cyan\" rx=\"52.9443\" ry=\"18\" stroke=\"black\"/>\n",
       "<text font-family=\"Times,serif\" font-size=\"14.00\" text-anchor=\"middle\" x=\"763\" y=\"-474.3\">Shape_i{1}</text>\n",
       "</g>\n",
       "<!-- MakeVector -->\n",
       "<g class=\"node\" id=\"node6\"><title>MakeVector</title>\n",
       "<ellipse cx=\"602\" cy=\"-390\" fill=\"none\" rx=\"55.3436\" ry=\"18\" stroke=\"black\"/>\n",
       "<text font-family=\"Times,serif\" font-size=\"14.00\" text-anchor=\"middle\" x=\"602\" y=\"-386.3\">MakeVector</text>\n",
       "</g>\n",
       "<!-- Shape_i{1}&#45;&gt;MakeVector -->\n",
       "<g class=\"edge\" id=\"edge6\"><title>Shape_i{1}-&gt;MakeVector</title>\n",
       "<path d=\"M735.689,-462.411C708.974,-448.141 668.114,-426.315 638.598,-410.549\" fill=\"none\" stroke=\"black\"/>\n",
       "<polygon fill=\"black\" points=\"639.915,-407.285 629.445,-405.66 636.617,-413.459 639.915,-407.285\" stroke=\"black\"/>\n",
       "<text font-family=\"Times,serif\" font-size=\"14.00\" text-anchor=\"middle\" x=\"775\" y=\"-430.3\">1 TensorType(int64, scalar)</text>\n",
       "</g>\n",
       "<!-- TensorType(float64, matrix) -->\n",
       "<g class=\"node\" id=\"node2\"><title>TensorType(float64, matrix)</title>\n",
       "<polygon fill=\"limegreen\" points=\"728,-584 552,-584 552,-548 728,-548 728,-584\" stroke=\"black\"/>\n",
       "<text font-family=\"Times,serif\" font-size=\"14.00\" text-anchor=\"middle\" x=\"640\" y=\"-562.3\">TensorType(float64, matrix)</text>\n",
       "</g>\n",
       "<!-- TensorType(float64, matrix)&#45;&gt;Shape_i{1} -->\n",
       "<g class=\"edge\" id=\"edge1\"><title>TensorType(float64, matrix)-&gt;Shape_i{1}</title>\n",
       "<path d=\"M728.218,-549.113C737.934,-544.301 746.871,-538.067 754,-530 759.757,-523.486 762.449,-514.618 763.57,-506.103\" fill=\"none\" stroke=\"black\"/>\n",
       "<polygon fill=\"black\" points=\"767.066,-506.289 764.259,-496.073 760.082,-505.81 767.066,-506.289\" stroke=\"black\"/>\n",
       "<text font-family=\"Times,serif\" font-size=\"14.00\" text-anchor=\"middle\" x=\"843\" y=\"-518.3\">TensorType(float64, matrix)</text>\n",
       "</g>\n",
       "<!-- Dot22 -->\n",
       "<g class=\"node\" id=\"node5\"><title>Dot22</title>\n",
       "<ellipse cx=\"242\" cy=\"-478\" fill=\"none\" rx=\"33.1991\" ry=\"18\" stroke=\"black\"/>\n",
       "<text font-family=\"Times,serif\" font-size=\"14.00\" text-anchor=\"middle\" x=\"242\" y=\"-474.3\">Dot22</text>\n",
       "</g>\n",
       "<!-- TensorType(float64, matrix)&#45;&gt;Dot22 -->\n",
       "<g class=\"edge\" id=\"edge4\"><title>TensorType(float64, matrix)-&gt;Dot22</title>\n",
       "<path d=\"M610.316,-547.87C600.623,-542.227 589.827,-535.889 580,-530 568.361,-523.026 566.88,-518.266 554,-514 467.597,-485.383 440.342,-507.083 350,-496 328.021,-493.304 303.645,-489.534 283.621,-486.23\" fill=\"none\" stroke=\"black\"/>\n",
       "<polygon fill=\"black\" points=\"284.023,-482.749 273.583,-484.552 282.869,-489.653 284.023,-482.749\" stroke=\"black\"/>\n",
       "<text font-family=\"Times,serif\" font-size=\"14.00\" text-anchor=\"middle\" x=\"665\" y=\"-518.3\">1 TensorType(float64, matrix)</text>\n",
       "</g>\n",
       "<!-- Shape_i{0} -->\n",
       "<g class=\"node\" id=\"node3\"><title>Shape_i{0}</title>\n",
       "<ellipse cx=\"412\" cy=\"-478\" fill=\"cyan\" rx=\"52.9443\" ry=\"18\" stroke=\"black\"/>\n",
       "<text font-family=\"Times,serif\" font-size=\"14.00\" text-anchor=\"middle\" x=\"412\" y=\"-474.3\">Shape_i{0}</text>\n",
       "</g>\n",
       "<!-- Shape_i{0}&#45;&gt;MakeVector -->\n",
       "<g class=\"edge\" id=\"edge5\"><title>Shape_i{0}-&gt;MakeVector</title>\n",
       "<path d=\"M437.912,-462.25C457.204,-451.547 484.353,-437.066 509,-426 523.976,-419.276 540.668,-412.715 555.731,-407.125\" fill=\"none\" stroke=\"black\"/>\n",
       "<polygon fill=\"black\" points=\"557.173,-410.324 565.36,-403.6 554.766,-403.751 557.173,-410.324\" stroke=\"black\"/>\n",
       "<text font-family=\"Times,serif\" font-size=\"14.00\" text-anchor=\"middle\" x=\"587\" y=\"-430.3\">0 TensorType(int64, scalar)</text>\n",
       "</g>\n",
       "<!-- name=X TensorType(float64, matrix) -->\n",
       "<g class=\"node\" id=\"node4\"><title>name=X TensorType(float64, matrix)</title>\n",
       "<polygon fill=\"limegreen\" points=\"456,-584 228,-584 228,-548 456,-548 456,-584\" stroke=\"black\"/>\n",
       "<text font-family=\"Times,serif\" font-size=\"14.00\" text-anchor=\"middle\" x=\"342\" y=\"-562.3\">name=X TensorType(float64, matrix)</text>\n",
       "</g>\n",
       "<!-- name=X TensorType(float64, matrix)&#45;&gt;Shape_i{0} -->\n",
       "<g class=\"edge\" id=\"edge2\"><title>name=X TensorType(float64, matrix)-&gt;Shape_i{0}</title>\n",
       "<path d=\"M361.08,-547.903C366.78,-542.42 372.872,-536.166 378,-530 384.666,-521.984 391.209,-512.635 396.748,-504.146\" fill=\"none\" stroke=\"black\"/>\n",
       "<polygon fill=\"black\" points=\"399.704,-506.02 402.118,-495.704 393.798,-502.262 399.704,-506.02\" stroke=\"black\"/>\n",
       "<text font-family=\"Times,serif\" font-size=\"14.00\" text-anchor=\"middle\" x=\"470\" y=\"-518.3\">TensorType(float64, matrix)</text>\n",
       "</g>\n",
       "<!-- name=X TensorType(float64, matrix)&#45;&gt;Dot22 -->\n",
       "<g class=\"edge\" id=\"edge3\"><title>name=X TensorType(float64, matrix)-&gt;Dot22</title>\n",
       "<path d=\"M240.099,-547.929C223.328,-543.107 209.578,-537.169 204,-530 196.089,-519.832 203.283,-508.338 213.457,-498.839\" fill=\"none\" stroke=\"black\"/>\n",
       "<polygon fill=\"black\" points=\"215.81,-501.433 221.218,-492.323 211.309,-496.073 215.81,-501.433\" stroke=\"black\"/>\n",
       "<text font-family=\"Times,serif\" font-size=\"14.00\" text-anchor=\"middle\" x=\"289\" y=\"-518.3\">0 TensorType(float64, matrix)</text>\n",
       "</g>\n",
       "<!-- Elemwise{ScalarSigmoid}[(0, 0)] -->\n",
       "<g class=\"node\" id=\"node7\"><title>Elemwise{ScalarSigmoid}[(0, 0)]</title>\n",
       "<ellipse cx=\"242\" cy=\"-390\" fill=\"#ffaabb\" rx=\"134.307\" ry=\"18\" stroke=\"black\"/>\n",
       "<text font-family=\"Times,serif\" font-size=\"14.00\" text-anchor=\"middle\" x=\"242\" y=\"-386.3\">Elemwise{ScalarSigmoid}[(0, 0)]</text>\n",
       "</g>\n",
       "<!-- Dot22&#45;&gt;Elemwise{ScalarSigmoid}[(0, 0)] -->\n",
       "<g class=\"edge\" id=\"edge7\"><title>Dot22-&gt;Elemwise{ScalarSigmoid}[(0, 0)]</title>\n",
       "<path d=\"M242,-459.597C242,-447.746 242,-431.817 242,-418.292\" fill=\"none\" stroke=\"red\"/>\n",
       "<polygon fill=\"red\" points=\"245.5,-418.084 242,-408.084 238.5,-418.084 245.5,-418.084\" stroke=\"red\"/>\n",
       "<text font-family=\"Times,serif\" font-size=\"14.00\" text-anchor=\"middle\" x=\"322\" y=\"-430.3\">TensorType(float64, matrix)</text>\n",
       "</g>\n",
       "<!-- Elemwise{Cast{float64}} -->\n",
       "<g class=\"node\" id=\"node9\"><title>Elemwise{Cast{float64}}</title>\n",
       "<ellipse cx=\"602\" cy=\"-302\" fill=\"#ffaabb\" rx=\"104.937\" ry=\"18\" stroke=\"black\"/>\n",
       "<text font-family=\"Times,serif\" font-size=\"14.00\" text-anchor=\"middle\" x=\"602\" y=\"-298.3\">Elemwise{Cast{float64}}</text>\n",
       "</g>\n",
       "<!-- MakeVector&#45;&gt;Elemwise{Cast{float64}} -->\n",
       "<g class=\"edge\" id=\"edge9\"><title>MakeVector-&gt;Elemwise{Cast{float64}}</title>\n",
       "<path d=\"M602,-371.597C602,-359.746 602,-343.817 602,-330.292\" fill=\"none\" stroke=\"black\"/>\n",
       "<polygon fill=\"black\" points=\"605.5,-330.084 602,-320.084 598.5,-330.084 605.5,-330.084\" stroke=\"black\"/>\n",
       "<text font-family=\"Times,serif\" font-size=\"14.00\" text-anchor=\"middle\" x=\"676\" y=\"-342.3\">TensorType(int64, vector)</text>\n",
       "</g>\n",
       "<!-- TensorType(float64, matrix) id=6 -->\n",
       "<g class=\"node\" id=\"node8\"><title>TensorType(float64, matrix) id=6</title>\n",
       "<polygon fill=\"dodgerblue\" points=\"356.25,-320 151.75,-320 151.75,-284 356.25,-284 356.25,-320\" stroke=\"black\"/>\n",
       "<text font-family=\"Times,serif\" font-size=\"14.00\" text-anchor=\"middle\" x=\"254\" y=\"-298.3\">TensorType(float64, matrix) id=6</text>\n",
       "</g>\n",
       "<!-- Elemwise{ScalarSigmoid}[(0, 0)]&#45;&gt;TensorType(float64, matrix) id=6 -->\n",
       "<g class=\"edge\" id=\"edge8\"><title>Elemwise{ScalarSigmoid}[(0, 0)]-&gt;TensorType(float64, matrix) id=6</title>\n",
       "<path d=\"M244.428,-371.597C246.082,-359.746 248.305,-343.817 250.192,-330.292\" fill=\"none\" stroke=\"black\"/>\n",
       "<polygon fill=\"black\" points=\"253.701,-330.472 251.616,-320.084 246.768,-329.504 253.701,-330.472\" stroke=\"black\"/>\n",
       "<text font-family=\"Times,serif\" font-size=\"14.00\" text-anchor=\"middle\" x=\"330\" y=\"-342.3\">TensorType(float64, matrix)</text>\n",
       "</g>\n",
       "<!-- Sum{acc_dtype=float64} -->\n",
       "<g class=\"node\" id=\"node10\"><title>Sum{acc_dtype=float64}</title>\n",
       "<ellipse cx=\"103\" cy=\"-248\" fill=\"none\" rx=\"103.012\" ry=\"18\" stroke=\"black\"/>\n",
       "<text font-family=\"Times,serif\" font-size=\"14.00\" text-anchor=\"middle\" x=\"103\" y=\"-244.3\">Sum{acc_dtype=float64}</text>\n",
       "</g>\n",
       "<!-- Elemwise{ScalarSigmoid}[(0, 0)]&#45;&gt;Sum{acc_dtype=float64} -->\n",
       "<g class=\"edge\" id=\"edge10\"><title>Elemwise{ScalarSigmoid}[(0, 0)]-&gt;Sum{acc_dtype=float64}</title>\n",
       "<path d=\"M144.123,-377.632C116.496,-372.297 91.5885,-364.685 83,-354 65.1182,-331.754 75.9432,-298.337 87.4351,-275.202\" fill=\"none\" stroke=\"black\"/>\n",
       "<polygon fill=\"black\" points=\"90.5714,-276.758 92.1497,-266.282 84.3826,-273.487 90.5714,-276.758\" stroke=\"black\"/>\n",
       "<text font-family=\"Times,serif\" font-size=\"14.00\" text-anchor=\"middle\" x=\"163\" y=\"-342.3\">TensorType(float64, matrix)</text>\n",
       "</g>\n",
       "<!-- Subtensor{int64} -->\n",
       "<g class=\"node\" id=\"node11\"><title>Subtensor{int64}</title>\n",
       "<ellipse cx=\"670\" cy=\"-194\" fill=\"#ffaaff\" rx=\"74.6146\" ry=\"18\" stroke=\"black\"/>\n",
       "<text font-family=\"Times,serif\" font-size=\"14.00\" text-anchor=\"middle\" x=\"670\" y=\"-190.3\">Subtensor{int64}</text>\n",
       "</g>\n",
       "<!-- Elemwise{Cast{float64}}&#45;&gt;Subtensor{int64} -->\n",
       "<g class=\"edge\" id=\"edge11\"><title>Elemwise{Cast{float64}}-&gt;Subtensor{int64}</title>\n",
       "<path d=\"M629.37,-284.551C636.239,-279.342 643.053,-273.072 648,-266 657.078,-253.024 662.508,-236.173 665.701,-222.144\" fill=\"none\" stroke=\"dodgerblue\"/>\n",
       "<polygon fill=\"dodgerblue\" points=\"669.185,-222.571 667.731,-212.077 662.323,-221.188 669.185,-222.571\" stroke=\"dodgerblue\"/>\n",
       "<text font-family=\"Times,serif\" font-size=\"14.00\" text-anchor=\"middle\" x=\"748.5\" y=\"-244.3\">0 TensorType(float64, vector)</text>\n",
       "</g>\n",
       "<!-- Subtensor{int64} id=8 -->\n",
       "<g class=\"node\" id=\"node13\"><title>Subtensor{int64} id=8</title>\n",
       "<ellipse cx=\"462\" cy=\"-194\" fill=\"#ffaaff\" rx=\"93.3873\" ry=\"18\" stroke=\"black\"/>\n",
       "<text font-family=\"Times,serif\" font-size=\"14.00\" text-anchor=\"middle\" x=\"462\" y=\"-190.3\">Subtensor{int64} id=8</text>\n",
       "</g>\n",
       "<!-- Elemwise{Cast{float64}}&#45;&gt;Subtensor{int64} id=8 -->\n",
       "<g class=\"edge\" id=\"edge13\"><title>Elemwise{Cast{float64}}-&gt;Subtensor{int64} id=8</title>\n",
       "<path d=\"M516.396,-291.457C500.826,-286.113 486.044,-278.059 475,-266 464.308,-254.325 461.003,-236.882 460.398,-222.207\" fill=\"none\" stroke=\"dodgerblue\"/>\n",
       "<polygon fill=\"dodgerblue\" points=\"463.897,-222.122 460.367,-212.132 456.897,-222.143 463.897,-222.122\" stroke=\"dodgerblue\"/>\n",
       "<text font-family=\"Times,serif\" font-size=\"14.00\" text-anchor=\"middle\" x=\"559.5\" y=\"-244.3\">0 TensorType(float64, vector)</text>\n",
       "</g>\n",
       "<!-- Elemwise{Composite{((i0 / i1) / i2)}}[(0, 0)] -->\n",
       "<g class=\"node\" id=\"node15\"><title>Elemwise{Composite{((i0 / i1) / i2)}}[(0, 0)]</title>\n",
       "<ellipse cx=\"462\" cy=\"-106\" fill=\"#ffaabb\" rx=\"176.177\" ry=\"18\" stroke=\"black\"/>\n",
       "<text font-family=\"Times,serif\" font-size=\"14.00\" text-anchor=\"middle\" x=\"462\" y=\"-102.3\">Elemwise{Composite{((i0 / i1) / i2)}}[(0, 0)]</text>\n",
       "</g>\n",
       "<!-- Sum{acc_dtype=float64}&#45;&gt;Elemwise{Composite{((i0 / i1) / i2)}}[(0, 0)] -->\n",
       "<g class=\"edge\" id=\"edge15\"><title>Sum{acc_dtype=float64}-&gt;Elemwise{Composite{((i0 / i1) / i2)}}[(0, 0)]</title>\n",
       "<path d=\"M119.532,-230.175C136.346,-214 163.864,-190.002 192,-176 243.475,-150.382 305.343,-133.68 356.863,-123.136\" fill=\"none\" stroke=\"red\"/>\n",
       "<polygon fill=\"red\" points=\"357.569,-126.564 366.69,-121.173 356.198,-119.699 357.569,-126.564\" stroke=\"red\"/>\n",
       "<text font-family=\"Times,serif\" font-size=\"14.00\" text-anchor=\"middle\" x=\"275.5\" y=\"-190.3\">0 TensorType(float64, scalar)</text>\n",
       "</g>\n",
       "<!-- Subtensor{int64}&#45;&gt;Elemwise{Composite{((i0 / i1) / i2)}}[(0, 0)] -->\n",
       "<g class=\"edge\" id=\"edge17\"><title>Subtensor{int64}-&gt;Elemwise{Composite{((i0 / i1) / i2)}}[(0, 0)]</title>\n",
       "<path d=\"M661.082,-175.699C654.339,-164.365 644.024,-150.185 631,-142 617.889,-133.761 603.185,-127.421 588.064,-122.551\" fill=\"none\" stroke=\"black\"/>\n",
       "<polygon fill=\"black\" points=\"588.664,-119.077 578.08,-119.557 586.654,-125.782 588.664,-119.077\" stroke=\"black\"/>\n",
       "<text font-family=\"Times,serif\" font-size=\"14.00\" text-anchor=\"middle\" x=\"731.5\" y=\"-146.3\">2 TensorType(float64, scalar)</text>\n",
       "</g>\n",
       "<!-- val=1 int64 -->\n",
       "<g class=\"node\" id=\"node12\"><title>val=1 int64</title>\n",
       "<polygon fill=\"limegreen\" points=\"902.25,-320 821.75,-320 821.75,-284 902.25,-284 902.25,-320\" stroke=\"black\"/>\n",
       "<text font-family=\"Times,serif\" font-size=\"14.00\" text-anchor=\"middle\" x=\"862\" y=\"-298.3\">val=1 int64</text>\n",
       "</g>\n",
       "<!-- val=1 int64&#45;&gt;Subtensor{int64} -->\n",
       "<g class=\"edge\" id=\"edge12\"><title>val=1 int64-&gt;Subtensor{int64}</title>\n",
       "<path d=\"M860.642,-283.734C858.414,-267.462 852.531,-243.606 837,-230 823.252,-217.956 783.956,-209.391 746.935,-203.749\" fill=\"none\" stroke=\"black\"/>\n",
       "<polygon fill=\"black\" points=\"746.978,-200.219 736.577,-202.235 745.965,-207.145 746.978,-200.219\" stroke=\"black\"/>\n",
       "<text font-family=\"Times,serif\" font-size=\"14.00\" text-anchor=\"middle\" x=\"877\" y=\"-244.3\">1 int64</text>\n",
       "</g>\n",
       "<!-- Subtensor{int64} id=8&#45;&gt;Elemwise{Composite{((i0 / i1) / i2)}}[(0, 0)] -->\n",
       "<g class=\"edge\" id=\"edge16\"><title>Subtensor{int64} id=8-&gt;Elemwise{Composite{((i0 / i1) / i2)}}[(0, 0)]</title>\n",
       "<path d=\"M462,-175.597C462,-163.746 462,-147.817 462,-134.292\" fill=\"none\" stroke=\"black\"/>\n",
       "<polygon fill=\"black\" points=\"465.5,-134.084 462,-124.084 458.5,-134.084 465.5,-134.084\" stroke=\"black\"/>\n",
       "<text font-family=\"Times,serif\" font-size=\"14.00\" text-anchor=\"middle\" x=\"545.5\" y=\"-146.3\">1 TensorType(float64, scalar)</text>\n",
       "</g>\n",
       "<!-- val=0 int64 -->\n",
       "<g class=\"node\" id=\"node14\"><title>val=0 int64</title>\n",
       "<polygon fill=\"limegreen\" points=\"455.25,-320 374.75,-320 374.75,-284 455.25,-284 455.25,-320\" stroke=\"black\"/>\n",
       "<text font-family=\"Times,serif\" font-size=\"14.00\" text-anchor=\"middle\" x=\"415\" y=\"-298.3\">val=0 int64</text>\n",
       "</g>\n",
       "<!-- val=0 int64&#45;&gt;Subtensor{int64} id=8 -->\n",
       "<g class=\"edge\" id=\"edge14\"><title>val=0 int64-&gt;Subtensor{int64} id=8</title>\n",
       "<path d=\"M411.23,-283.946C408.807,-268.911 407.505,-246.84 416,-230 418.201,-225.638 421.228,-221.669 424.688,-218.102\" fill=\"none\" stroke=\"black\"/>\n",
       "<polygon fill=\"black\" points=\"427.133,-220.611 432.272,-211.345 422.477,-215.384 427.133,-220.611\" stroke=\"black\"/>\n",
       "<text font-family=\"Times,serif\" font-size=\"14.00\" text-anchor=\"middle\" x=\"436\" y=\"-244.3\">1 int64</text>\n",
       "</g>\n",
       "<!-- TensorType(float64, scalar) id=13 -->\n",
       "<g class=\"node\" id=\"node16\"><title>TensorType(float64, scalar) id=13</title>\n",
       "<polygon fill=\"dodgerblue\" points=\"566,-36 358,-36 358,-0 566,-0 566,-36\" stroke=\"black\"/>\n",
       "<text font-family=\"Times,serif\" font-size=\"14.00\" text-anchor=\"middle\" x=\"462\" y=\"-14.3\">TensorType(float64, scalar) id=13</text>\n",
       "</g>\n",
       "<!-- Elemwise{Composite{((i0 / i1) / i2)}}[(0, 0)]&#45;&gt;TensorType(float64, scalar) id=13 -->\n",
       "<g class=\"edge\" id=\"edge18\"><title>Elemwise{Composite{((i0 / i1) / i2)}}[(0, 0)]-&gt;TensorType(float64, scalar) id=13</title>\n",
       "<path d=\"M462,-87.5966C462,-75.7459 462,-59.8169 462,-46.2917\" fill=\"none\" stroke=\"black\"/>\n",
       "<polygon fill=\"black\" points=\"465.5,-46.084 462,-36.084 458.5,-46.084 465.5,-46.084\" stroke=\"black\"/>\n",
       "<text font-family=\"Times,serif\" font-size=\"14.00\" text-anchor=\"middle\" x=\"540\" y=\"-58.3\">TensorType(float64, scalar)</text>\n",
       "</g>\n",
       "</g>\n",
       "</svg>"
      ],
      "text/plain": [
       "<IPython.core.display.SVG object>"
      ]
     },
     "execution_count": 8,
     "metadata": {},
     "output_type": "execute_result"
    }
   ],
   "source": [
    "SVG(g.create_svg())"
   ]
  }
 ],
 "metadata": {
  "kernelspec": {
   "display_name": "Python 2",
   "language": "python",
   "name": "python2"
  },
  "language_info": {
   "codemirror_mode": {
    "name": "ipython",
    "version": 2
   },
   "file_extension": ".py",
   "mimetype": "text/x-python",
   "name": "python",
   "nbconvert_exporter": "python",
   "pygments_lexer": "ipython2",
   "version": "2.7.10"
  }
 },
 "nbformat": 4,
 "nbformat_minor": 0
}
