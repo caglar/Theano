{
 "cells": [
  {
   "cell_type": "code",
   "execution_count": 1,
   "metadata": {
    "collapsed": false
   },
   "outputs": [
    {
     "name": "stdout",
     "output_type": "stream",
     "text": [
      "Couldn't import dot_parser, loading of dot files will not be possible.\n"
     ]
    }
   ],
   "source": [
    "import pydot as pd\n",
    "from IPython.display import SVG"
   ]
  },
  {
   "cell_type": "code",
   "execution_count": 12,
   "metadata": {
    "collapsed": true
   },
   "outputs": [],
   "source": [
    "g = pd.Dot(graph_type='digraph')\n",
    "g.add_node(pd.Node('A', fillcolor='blue', style='filled', shape='box', label='A Label', time=''))\n",
    "g.add_node(pd.Node('B', fillcolor='green', shape='ellipse'))\n",
    "g.add_edge(pd.Edge('A', 'B', labels='A -> B'))"
   ]
  },
  {
   "cell_type": "code",
   "execution_count": 13,
   "metadata": {
    "collapsed": false
   },
   "outputs": [
    {
     "name": "stdout",
     "output_type": "stream",
     "text": [
      "digraph G {\n",
      "\tgraph [bb=\"0,0,62,108\"];\n",
      "\tnode [label=\"\\N\"];\n",
      "\tA\t [fillcolor=blue,\n",
      "\t\theight=0.5,\n",
      "\t\tlabel=\"A Label\",\n",
      "\t\tpos=\"31,90\",\n",
      "\t\tshape=box,\n",
      "\t\tstyle=filled,\n",
      "\t\twidth=0.86111];\n",
      "\tB\t [fillcolor=green,\n",
      "\t\theight=0.5,\n",
      "\t\tpos=\"31,18\",\n",
      "\t\tshape=ellipse,\n",
      "\t\twidth=0.75];\n",
      "\tA -> B\t [labels=\"A -> B\",\n",
      "\t\tpos=\"e,31,36.104 31,71.697 31,63.983 31,54.712 31,46.112\"];\n",
      "}\n",
      "\n"
     ]
    }
   ],
   "source": [
    "print(g.create_dot())"
   ]
  },
  {
   "cell_type": "code",
   "execution_count": 16,
   "metadata": {
    "collapsed": true
   },
   "outputs": [],
   "source": [
    "a = []"
   ]
  },
  {
   "cell_type": "code",
   "execution_count": 17,
   "metadata": {
    "collapsed": false
   },
   "outputs": [
    {
     "data": {
      "text/plain": [
       "'[]'"
      ]
     },
     "execution_count": 17,
     "metadata": {},
     "output_type": "execute_result"
    }
   ],
   "source": [
    "str(a)"
   ]
  },
  {
   "cell_type": "code",
   "execution_count": 4,
   "metadata": {
    "collapsed": false
   },
   "outputs": [
    {
     "data": {
      "image/svg+xml": [
       "<svg height=\"116pt\" viewBox=\"0.00 0.00 70.00 116.00\" width=\"70pt\" xmlns=\"http://www.w3.org/2000/svg\" xmlns:xlink=\"http://www.w3.org/1999/xlink\">\n",
       "<g class=\"graph\" id=\"graph0\" transform=\"scale(1 1) rotate(0) translate(4 112)\">\n",
       "<title>G</title>\n",
       "<polygon fill=\"white\" points=\"-4,4 -4,-112 66,-112 66,4 -4,4\" stroke=\"none\"/>\n",
       "<!-- A -->\n",
       "<g class=\"node\" id=\"node1\"><title>A</title>\n",
       "<polygon fill=\"blue\" points=\"62,-108 0,-108 0,-72 62,-72 62,-108\" stroke=\"black\"/>\n",
       "<text font-family=\"Times,serif\" font-size=\"14.00\" text-anchor=\"middle\" x=\"31\" y=\"-86.3\">A Label</text>\n",
       "</g>\n",
       "<!-- B -->\n",
       "<g class=\"node\" id=\"node2\"><title>B</title>\n",
       "<ellipse cx=\"31\" cy=\"-18\" fill=\"none\" rx=\"27\" ry=\"18\" stroke=\"black\"/>\n",
       "<text font-family=\"Times,serif\" font-size=\"14.00\" text-anchor=\"middle\" x=\"31\" y=\"-14.3\">B</text>\n",
       "</g>\n",
       "<!-- A&#45;&gt;B -->\n",
       "<g class=\"edge\" id=\"edge1\"><title>A-&gt;B</title>\n",
       "<path d=\"M31,-71.6966C31,-63.9827 31,-54.7125 31,-46.1124\" fill=\"none\" stroke=\"black\"/>\n",
       "<polygon fill=\"black\" points=\"34.5001,-46.1043 31,-36.1043 27.5001,-46.1044 34.5001,-46.1043\" stroke=\"black\"/>\n",
       "</g>\n",
       "</g>\n",
       "</svg>"
      ],
      "text/plain": [
       "<IPython.core.display.SVG object>"
      ]
     },
     "execution_count": 4,
     "metadata": {},
     "output_type": "execute_result"
    }
   ],
   "source": [
    "SVG(g.create_svg())"
   ]
  },
  {
   "cell_type": "code",
   "execution_count": 9,
   "metadata": {
    "collapsed": false
   },
   "outputs": [],
   "source": [
    "g = pd.Dot(graph_type='digraph')\n",
    "\n",
    "c1 = pd.Cluster('c1')\n",
    "c1.add_node(pd.Node('A'))\n",
    "c1.add_node(pd.Node('B'))\n",
    "c1.add_edge(pd.Edge('A', 'B'))\n",
    "g.add_subgraph(c1)\n",
    "\n",
    "c2 = pd.Cluster('c2')\n",
    "c2.add_node(pd.Node('C'))\n",
    "c2.add_node(pd.Node('D'))\n",
    "c2.add_edge(pd.Edge('C', 'D'))\n",
    "g.add_subgraph(c2)\n",
    "\n",
    "g.add_edge(pd.Edge('A', 'C'))"
   ]
  },
  {
   "cell_type": "code",
   "execution_count": 10,
   "metadata": {
    "collapsed": false
   },
   "outputs": [
    {
     "name": "stdout",
     "output_type": "stream",
     "text": [
      "digraph G {\n",
      "\tgraph [bb=\"0,0,164,212\"];\n",
      "\tnode [label=\"\\N\"];\n",
      "\tsubgraph cluster_c1 {\n",
      "\t\tgraph [bb=\"8,80,78,204\"];\n",
      "\t\tA\t\t [height=0.5,\n",
      "\t\t\tpos=\"43,178\",\n",
      "\t\t\twidth=0.75];\n",
      "\t\tB\t\t [height=0.5,\n",
      "\t\t\tpos=\"43,106\",\n",
      "\t\t\twidth=0.75];\n",
      "\t\tA -> B\t\t [pos=\"e,43,124.1 43,159.7 43,151.98 43,142.71 43,134.11\"];\n",
      "\t}\n",
      "\tsubgraph cluster_c2 {\n",
      "\t\tgraph [bb=\"86,8,156,132\"];\n",
      "\t\tC\t\t [height=0.5,\n",
      "\t\t\tpos=\"121,106\",\n",
      "\t\t\twidth=0.75];\n",
      "\t\tD\t\t [height=0.5,\n",
      "\t\t\tpos=\"121,34\",\n",
      "\t\t\twidth=0.75];\n",
      "\t\tC -> D\t\t [pos=\"e,121,52.104 121,87.697 121,79.983 121,70.712 121,62.112\"];\n",
      "\t}\n",
      "\tA -> C\t [pos=\"e,105.62,120.8 58.41,163.17 69.734,153.01 85.309,139.03 98.089,127.56\"];\n",
      "}\n",
      "\n"
     ]
    }
   ],
   "source": [
    "print(g.create_dot())"
   ]
  },
  {
   "cell_type": "code",
   "execution_count": 43,
   "metadata": {
    "collapsed": false
   },
   "outputs": [
    {
     "data": {
      "text/plain": [
       "True"
      ]
     },
     "execution_count": 43,
     "metadata": {},
     "output_type": "execute_result"
    }
   ],
   "source": [
    "g.write_dot('nested.dot')"
   ]
  },
  {
   "cell_type": "code",
   "execution_count": 7,
   "metadata": {
    "collapsed": false
   },
   "outputs": [
    {
     "data": {
      "image/svg+xml": [
       "<svg height=\"220pt\" viewBox=\"0.00 0.00 172.00 220.00\" width=\"172pt\" xmlns=\"http://www.w3.org/2000/svg\" xmlns:xlink=\"http://www.w3.org/1999/xlink\">\n",
       "<g class=\"graph\" id=\"graph0\" transform=\"scale(1 1) rotate(0) translate(4 216)\">\n",
       "<title>G</title>\n",
       "<polygon fill=\"white\" points=\"-4,4 -4,-216 168,-216 168,4 -4,4\" stroke=\"none\"/>\n",
       "<g class=\"cluster\" id=\"clust1\"><title>cluster_c1</title>\n",
       "<polygon fill=\"none\" points=\"8,-80 8,-204 78,-204 78,-80 8,-80\" stroke=\"black\"/>\n",
       "</g>\n",
       "<g class=\"cluster\" id=\"clust2\"><title>cluster_c2</title>\n",
       "<polygon fill=\"none\" points=\"86,-8 86,-132 156,-132 156,-8 86,-8\" stroke=\"black\"/>\n",
       "</g>\n",
       "<!-- A -->\n",
       "<g class=\"node\" id=\"node1\"><title>A</title>\n",
       "<ellipse cx=\"43\" cy=\"-178\" fill=\"none\" rx=\"27\" ry=\"18\" stroke=\"black\"/>\n",
       "<text font-family=\"Times,serif\" font-size=\"14.00\" text-anchor=\"middle\" x=\"43\" y=\"-174.3\">A</text>\n",
       "</g>\n",
       "<!-- B -->\n",
       "<g class=\"node\" id=\"node2\"><title>B</title>\n",
       "<ellipse cx=\"43\" cy=\"-106\" fill=\"none\" rx=\"27\" ry=\"18\" stroke=\"black\"/>\n",
       "<text font-family=\"Times,serif\" font-size=\"14.00\" text-anchor=\"middle\" x=\"43\" y=\"-102.3\">B</text>\n",
       "</g>\n",
       "<!-- A&#45;&gt;B -->\n",
       "<g class=\"edge\" id=\"edge1\"><title>A-&gt;B</title>\n",
       "<path d=\"M43,-159.697C43,-151.983 43,-142.712 43,-134.112\" fill=\"none\" stroke=\"black\"/>\n",
       "<polygon fill=\"black\" points=\"46.5001,-134.104 43,-124.104 39.5001,-134.104 46.5001,-134.104\" stroke=\"black\"/>\n",
       "</g>\n",
       "<!-- C -->\n",
       "<g class=\"node\" id=\"node3\"><title>C</title>\n",
       "<ellipse cx=\"121\" cy=\"-106\" fill=\"none\" rx=\"27\" ry=\"18\" stroke=\"black\"/>\n",
       "<text font-family=\"Times,serif\" font-size=\"14.00\" text-anchor=\"middle\" x=\"121\" y=\"-102.3\">C</text>\n",
       "</g>\n",
       "<!-- A&#45;&gt;C -->\n",
       "<g class=\"edge\" id=\"edge3\"><title>A-&gt;C</title>\n",
       "<path d=\"M58.4103,-163.17C69.7345,-153.008 85.309,-139.03 98.0887,-127.561\" fill=\"none\" stroke=\"black\"/>\n",
       "<polygon fill=\"black\" points=\"100.517,-130.085 105.622,-120.801 95.8416,-124.875 100.517,-130.085\" stroke=\"black\"/>\n",
       "</g>\n",
       "<!-- D -->\n",
       "<g class=\"node\" id=\"node4\"><title>D</title>\n",
       "<ellipse cx=\"121\" cy=\"-34\" fill=\"none\" rx=\"27\" ry=\"18\" stroke=\"black\"/>\n",
       "<text font-family=\"Times,serif\" font-size=\"14.00\" text-anchor=\"middle\" x=\"121\" y=\"-30.3\">D</text>\n",
       "</g>\n",
       "<!-- C&#45;&gt;D -->\n",
       "<g class=\"edge\" id=\"edge2\"><title>C-&gt;D</title>\n",
       "<path d=\"M121,-87.6966C121,-79.9827 121,-70.7125 121,-62.1124\" fill=\"none\" stroke=\"black\"/>\n",
       "<polygon fill=\"black\" points=\"124.5,-62.1043 121,-52.1043 117.5,-62.1044 124.5,-62.1043\" stroke=\"black\"/>\n",
       "</g>\n",
       "</g>\n",
       "</svg>"
      ],
      "text/plain": [
       "<IPython.core.display.SVG object>"
      ]
     },
     "execution_count": 7,
     "metadata": {},
     "output_type": "execute_result"
    }
   ],
   "source": [
    "SVG(g.create_svg())"
   ]
  },
  {
   "cell_type": "code",
   "execution_count": 40,
   "metadata": {
    "collapsed": true
   },
   "outputs": [],
   "source": [
    "g = pd.Dot(graph_type='digraph')\n",
    "g.add_node(pd.Node('A', fillcolor='lightblue', style='filled', shape='box', label='A Label', foo='1'))\n",
    "g.add_node(pd.Node('B', fillcolor='green', shape='ellipse'))\n",
    "g.add_edge(pd.Edge('A', 'B', labels='A -> B'))"
   ]
  },
  {
   "cell_type": "code",
   "execution_count": 41,
   "metadata": {
    "collapsed": false
   },
   "outputs": [
    {
     "data": {
      "image/svg+xml": [
       "<svg height=\"116pt\" viewBox=\"0.00 0.00 70.00 116.00\" width=\"70pt\" xmlns=\"http://www.w3.org/2000/svg\" xmlns:xlink=\"http://www.w3.org/1999/xlink\">\n",
       "<g class=\"graph\" id=\"graph0\" transform=\"scale(1 1) rotate(0) translate(4 112)\">\n",
       "<title>G</title>\n",
       "<polygon fill=\"white\" points=\"-4,4 -4,-112 66,-112 66,4 -4,4\" stroke=\"none\"/>\n",
       "<!-- A -->\n",
       "<g class=\"node\" id=\"node1\"><title>A</title>\n",
       "<polygon fill=\"lightblue\" points=\"62,-108 0,-108 0,-72 62,-72 62,-108\" stroke=\"black\"/>\n",
       "<text font-family=\"Times,serif\" font-size=\"14.00\" text-anchor=\"middle\" x=\"31\" y=\"-86.3\">A Label</text>\n",
       "</g>\n",
       "<!-- B -->\n",
       "<g class=\"node\" id=\"node2\"><title>B</title>\n",
       "<ellipse cx=\"31\" cy=\"-18\" fill=\"none\" rx=\"27\" ry=\"18\" stroke=\"black\"/>\n",
       "<text font-family=\"Times,serif\" font-size=\"14.00\" text-anchor=\"middle\" x=\"31\" y=\"-14.3\">B</text>\n",
       "</g>\n",
       "<!-- A&#45;&gt;B -->\n",
       "<g class=\"edge\" id=\"edge1\"><title>A-&gt;B</title>\n",
       "<path d=\"M31,-71.6966C31,-63.9827 31,-54.7125 31,-46.1124\" fill=\"none\" stroke=\"black\"/>\n",
       "<polygon fill=\"black\" points=\"34.5001,-46.1043 31,-36.1043 27.5001,-46.1044 34.5001,-46.1043\" stroke=\"black\"/>\n",
       "</g>\n",
       "</g>\n",
       "</svg>"
      ],
      "text/plain": [
       "<IPython.core.display.SVG object>"
      ]
     },
     "execution_count": 41,
     "metadata": {},
     "output_type": "execute_result"
    }
   ],
   "source": [
    "SVG(g.create_svg())"
   ]
  },
  {
   "cell_type": "code",
   "execution_count": 42,
   "metadata": {
    "collapsed": false
   },
   "outputs": [
    {
     "name": "stdout",
     "output_type": "stream",
     "text": [
      "digraph G {\n",
      "\tgraph [bb=\"0,0,62,108\"];\n",
      "\tnode [label=\"\\N\"];\n",
      "\tA\t [fillcolor=lightblue,\n",
      "\t\tfoo=1,\n",
      "\t\theight=0.5,\n",
      "\t\tlabel=\"A Label\",\n",
      "\t\tpos=\"31,90\",\n",
      "\t\tshape=box,\n",
      "\t\tstyle=filled,\n",
      "\t\twidth=0.86111];\n",
      "\tB\t [fillcolor=green,\n",
      "\t\theight=0.5,\n",
      "\t\tpos=\"31,18\",\n",
      "\t\tshape=ellipse,\n",
      "\t\twidth=0.75];\n",
      "\tA -> B\t [labels=\"A -> B\",\n",
      "\t\tpos=\"e,31,36.104 31,71.697 31,63.983 31,54.712 31,46.112\"];\n",
      "}\n",
      "\n"
     ]
    }
   ],
   "source": [
    "print(g.create_dot())"
   ]
  },
  {
   "cell_type": "code",
   "execution_count": null,
   "metadata": {
    "collapsed": true
   },
   "outputs": [],
   "source": []
  }
 ],
 "metadata": {
  "kernelspec": {
   "display_name": "Python 2",
   "language": "python",
   "name": "python2"
  },
  "language_info": {
   "codemirror_mode": {
    "name": "ipython",
    "version": 2
   },
   "file_extension": ".py",
   "mimetype": "text/x-python",
   "name": "python",
   "nbconvert_exporter": "python",
   "pygments_lexer": "ipython2",
   "version": "2.7.10"
  }
 },
 "nbformat": 4,
 "nbformat_minor": 0
}
